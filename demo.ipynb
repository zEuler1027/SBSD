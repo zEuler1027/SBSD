{
 "cells": [
  {
   "cell_type": "markdown",
   "metadata": {},
   "source": [
    "# Score based diffusion model for molecule generation."
   ]
  },
  {
   "cell_type": "markdown",
   "metadata": {},
   "source": [
    "Firstly, load the trained pytorch lightning model."
   ]
  },
  {
   "cell_type": "code",
   "execution_count": 1,
   "metadata": {},
   "outputs": [
    {
     "name": "stderr",
     "output_type": "stream",
     "text": [
      "/home/xmcao/.conda/envs/install/envs/pl_pyg/lib/python3.11/site-packages/torch_geometric/typing.py:54: UserWarning: An issue occurred while importing 'pyg-lib'. Disabling its usage. Stacktrace: /lib64/libm.so.6: version `GLIBC_2.29' not found (required by /home/xmcao/.conda/envs/install/envs/pl_pyg/lib/python3.11/site-packages/libpyg.so)\n",
      "  warnings.warn(f\"An issue occurred while importing 'pyg-lib'. \"\n",
      "/home/xmcao/.conda/envs/install/envs/pl_pyg/lib/python3.11/site-packages/torch_geometric/typing.py:110: UserWarning: An issue occurred while importing 'torch-sparse'. Disabling its usage. Stacktrace: /lib64/libm.so.6: version `GLIBC_2.29' not found (required by /home/xmcao/.conda/envs/install/envs/pl_pyg/lib/python3.11/site-packages/libpyg.so)\n",
      "  warnings.warn(f\"An issue occurred while importing 'torch-sparse'. \"\n",
      "/home/xmcao/.conda/envs/install/envs/pl_pyg/lib/python3.11/site-packages/torch/cuda/__init__.py:619: UserWarning: Can't initialize NVML\n",
      "  warnings.warn(\"Can't initialize NVML\")\n",
      "/home/xmcao/.conda/envs/install/envs/pl_pyg/lib/python3.11/site-packages/torch/cuda/__init__.py:749: UserWarning: CUDA initialization: The NVIDIA driver on your system is too old (found version 11070). Please update your GPU driver by downloading and installing a new version from the URL: http://www.nvidia.com/Download/index.aspx Alternatively, go to: https://pytorch.org to install a PyTorch version that has been compiled with your version of the CUDA driver. (Triggered internally at ../c10/cuda/CUDAFunctions.cpp:108.)\n",
      "  return torch._C._cuda_getDeviceCount() if nvml_count < 0 else nvml_count\n"
     ]
    },
    {
     "name": "stdout",
     "output_type": "stream",
     "text": [
      "pl_module(\n",
      "  (diffschedule): DiffSchedule()\n",
      "  (score_model): PaiNN(\n",
      "    (atom_emb): AtomEmbedding(\n",
      "      (embeddings): Embedding(83, 256)\n",
      "    )\n",
      "    (t_emb): GaussianFourierProjection()\n",
      "    (embedding): Linear(in_features=512, out_features=256, bias=True)\n",
      "    (radial_basis): RadialBasis(\n",
      "      (envelope): PolynomialEnvelope()\n",
      "      (rbf): GaussianSmearing()\n",
      "    )\n",
      "    (message_layers): ModuleList(\n",
      "      (0-5): 6 x PaiNNMessage()\n",
      "    )\n",
      "    (update_layers): ModuleList(\n",
      "      (0-5): 6 x PaiNNUpdate(\n",
      "        (vec_proj): Linear(in_features=256, out_features=512, bias=False)\n",
      "        (xvec_proj): Sequential(\n",
      "          (0): Linear(in_features=512, out_features=256, bias=True)\n",
      "          (1): ScaledSiLU(\n",
      "            (_activation): SiLU()\n",
      "          )\n",
      "          (2): Linear(in_features=256, out_features=768, bias=True)\n",
      "        )\n",
      "      )\n",
      "    )\n",
      "    (out_xh): Sequential(\n",
      "      (0): Linear(in_features=256, out_features=128, bias=True)\n",
      "      (1): ScaledSiLU(\n",
      "        (_activation): SiLU()\n",
      "      )\n",
      "      (2): Linear(in_features=128, out_features=7, bias=True)\n",
      "    )\n",
      "    (out_dpos): PaiNNOutput(\n",
      "      (output_network): ModuleList(\n",
      "        (0): GatedEquivariantBlock(\n",
      "          (vec1_proj): Linear(in_features=256, out_features=256, bias=False)\n",
      "          (vec2_proj): Linear(in_features=256, out_features=128, bias=False)\n",
      "          (update_net): Sequential(\n",
      "            (0): Linear(in_features=512, out_features=256, bias=True)\n",
      "            (1): ScaledSiLU(\n",
      "              (_activation): SiLU()\n",
      "            )\n",
      "            (2): Linear(in_features=256, out_features=256, bias=True)\n",
      "          )\n",
      "          (act): ScaledSiLU(\n",
      "            (_activation): SiLU()\n",
      "          )\n",
      "        )\n",
      "        (1): GatedEquivariantBlock(\n",
      "          (vec1_proj): Linear(in_features=128, out_features=128, bias=False)\n",
      "          (vec2_proj): Linear(in_features=128, out_features=1, bias=False)\n",
      "          (update_net): Sequential(\n",
      "            (0): Linear(in_features=256, out_features=128, bias=True)\n",
      "            (1): ScaledSiLU(\n",
      "              (_activation): SiLU()\n",
      "            )\n",
      "            (2): Linear(in_features=128, out_features=2, bias=True)\n",
      "          )\n",
      "          (act): ScaledSiLU(\n",
      "            (_activation): SiLU()\n",
      "          )\n",
      "        )\n",
      "      )\n",
      "    )\n",
      "  )\n",
      "  (en_diffusion): VESDE(\n",
      "    (score_model): PaiNN(\n",
      "      (atom_emb): AtomEmbedding(\n",
      "        (embeddings): Embedding(83, 256)\n",
      "      )\n",
      "      (t_emb): GaussianFourierProjection()\n",
      "      (embedding): Linear(in_features=512, out_features=256, bias=True)\n",
      "      (radial_basis): RadialBasis(\n",
      "        (envelope): PolynomialEnvelope()\n",
      "        (rbf): GaussianSmearing()\n",
      "      )\n",
      "      (message_layers): ModuleList(\n",
      "        (0-5): 6 x PaiNNMessage()\n",
      "      )\n",
      "      (update_layers): ModuleList(\n",
      "        (0-5): 6 x PaiNNUpdate(\n",
      "          (vec_proj): Linear(in_features=256, out_features=512, bias=False)\n",
      "          (xvec_proj): Sequential(\n",
      "            (0): Linear(in_features=512, out_features=256, bias=True)\n",
      "            (1): ScaledSiLU(\n",
      "              (_activation): SiLU()\n",
      "            )\n",
      "            (2): Linear(in_features=256, out_features=768, bias=True)\n",
      "          )\n",
      "        )\n",
      "      )\n",
      "      (out_xh): Sequential(\n",
      "        (0): Linear(in_features=256, out_features=128, bias=True)\n",
      "        (1): ScaledSiLU(\n",
      "          (_activation): SiLU()\n",
      "        )\n",
      "        (2): Linear(in_features=128, out_features=7, bias=True)\n",
      "      )\n",
      "      (out_dpos): PaiNNOutput(\n",
      "        (output_network): ModuleList(\n",
      "          (0): GatedEquivariantBlock(\n",
      "            (vec1_proj): Linear(in_features=256, out_features=256, bias=False)\n",
      "            (vec2_proj): Linear(in_features=256, out_features=128, bias=False)\n",
      "            (update_net): Sequential(\n",
      "              (0): Linear(in_features=512, out_features=256, bias=True)\n",
      "              (1): ScaledSiLU(\n",
      "                (_activation): SiLU()\n",
      "              )\n",
      "              (2): Linear(in_features=256, out_features=256, bias=True)\n",
      "            )\n",
      "            (act): ScaledSiLU(\n",
      "              (_activation): SiLU()\n",
      "            )\n",
      "          )\n",
      "          (1): GatedEquivariantBlock(\n",
      "            (vec1_proj): Linear(in_features=128, out_features=128, bias=False)\n",
      "            (vec2_proj): Linear(in_features=128, out_features=1, bias=False)\n",
      "            (update_net): Sequential(\n",
      "              (0): Linear(in_features=256, out_features=128, bias=True)\n",
      "              (1): ScaledSiLU(\n",
      "                (_activation): SiLU()\n",
      "              )\n",
      "              (2): Linear(in_features=128, out_features=2, bias=True)\n",
      "            )\n",
      "            (act): ScaledSiLU(\n",
      "              (_activation): SiLU()\n",
      "            )\n",
      "          )\n",
      "        )\n",
      "      )\n",
      "    )\n",
      "    (schedule): DiffSchedule()\n",
      "  )\n",
      ")\n"
     ]
    }
   ],
   "source": [
    "import torch\n",
    "from model.pl import pl_module\n",
    "\n",
    "device = torch.device(\"cuda\" if torch.cuda.is_available() else \"cpu\")\n",
    "lightning_module = pl_module.load_from_checkpoint(\n",
    "    checkpoint_path=\"tb_logs/painn/39988/checkpoints/scorenet-epoch=499-avg_val_loss=0.707.ckpt\",\n",
    "    map_location=torch.device(\"cpu\"),\n",
    ")\n",
    "# print architecture of the lightning model\n",
    "print(lightning_module)"
   ]
  },
  {
   "cell_type": "markdown",
   "metadata": {},
   "source": [
    "Predefine the molecular format with the molecular formula C4H7NO, since graph neural networks are permutation-invariant, the order of the atoms does not matter."
   ]
  },
  {
   "cell_type": "code",
   "execution_count": 2,
   "metadata": {},
   "outputs": [],
   "source": [
    "# Atomic number 6 is carbon, 1 is hydrogen, 7 is nitrogen, 8 is oxygen\n",
    "C4 = torch.tensor([6, 6, 6, 6], dtype=torch.long, device=device)\n",
    "H7 = torch.tensor([1, 1, 1, 1, 1, 1, 1], dtype=torch.long, device=device)\n",
    "N1 = torch.tensor([7], dtype=torch.long, device=device)\n",
    "O1 = torch.tensor([8], dtype=torch.long, device=device)\n",
    "\n",
    "atomic_numbers = torch.cat([C4, H7, N1, O1])\n",
    "assert len(atomic_numbers) == 13"
   ]
  },
  {
   "cell_type": "code",
   "execution_count": 3,
   "metadata": {},
   "outputs": [],
   "source": [
    "# Predifine 4 molecules of identical composition\n",
    "atomic_numbers = atomic_numbers.repeat(4, 1).reshape(-1)\n",
    "mask = torch.tensor([13, 13, 13, 13], dtype=torch.long, device=device)\n",
    "assert len(atomic_numbers) == 52"
   ]
  },
  {
   "cell_type": "markdown",
   "metadata": {},
   "source": [
    "Sample molecules from gaussian noise by reversed SDE, using Euler Maruyama sampler."
   ]
  },
  {
   "cell_type": "code",
   "execution_count": 4,
   "metadata": {},
   "outputs": [
    {
     "name": "stdout",
     "output_type": "stream",
     "text": [
      "saved samples to demo/2024-05-29_13-14-59\n"
     ]
    }
   ],
   "source": [
    "from datetime import datetime\n",
    "import os\n",
    "from model.io import write_batch_xyz\n",
    "\n",
    "mols_pos, trajs = lightning_module.en_diffusion.sample(\n",
    "    atomic_numbers,\n",
    "    mask,\n",
    "    num_steps=100,\n",
    "    t_mode='cosine',\n",
    ")\n",
    "\n",
    "time_point = datetime.now().strftime(\"%Y-%m-%d_%H-%M-%S\")\n",
    "save_dir = f'demo/{time_point}'\n",
    "os.makedirs(save_dir, exist_ok=True)\n",
    "write_batch_xyz(save_dir, atomic_numbers, mols_pos, mask)\n",
    "print(f\"saved samples to {save_dir}\")\n"
   ]
  },
  {
   "cell_type": "markdown",
   "metadata": {},
   "source": [
    "The SMILES formula of the generated molecules is automatically identified using openbabel."
   ]
  },
  {
   "cell_type": "code",
   "execution_count": 5,
   "metadata": {},
   "outputs": [],
   "source": [
    "import subprocess\n",
    "\n",
    "smis = []\n",
    "for i in range(4):\n",
    "    smi = subprocess.run(\n",
    "        'obabel ' +  f'./demo/{time_point}/mol_{i}.xyz -osmi',\n",
    "        capture_output=True,\n",
    "        text=True,\n",
    "        shell=True,\n",
    "    ).stdout\n",
    "    smis.append(smi.split('\\t')[0])"
   ]
  },
  {
   "cell_type": "code",
   "execution_count": 6,
   "metadata": {},
   "outputs": [
    {
     "data": {
      "text/plain": [
       "['[CH].[C].[CH].[CH].[H].[H].[H].[N].[OH]',\n",
       " '[CH2].[CH2][CH][NH].[C]=O.[H]',\n",
       " '[CH][C]O.[CH][CH].[H].[H].[NH]',\n",
       " '[C][CH2].C[CH].[H].[N].[O]']"
      ]
     },
     "execution_count": 6,
     "metadata": {},
     "output_type": "execute_result"
    }
   ],
   "source": [
    "smis"
   ]
  },
  {
   "cell_type": "markdown",
   "metadata": {},
   "source": [
    "Visualizing molecules."
   ]
  },
  {
   "cell_type": "code",
   "execution_count": 7,
   "metadata": {},
   "outputs": [
    {
     "data": {
      "application/3dmoljs_load.v0": "<div id=\"3dmolviewer_1716959699244848\"  style=\"position: relative; width: 800px; height: 400px;\">\n        <p id=\"3dmolwarning_1716959699244848\" style=\"background-color:#ffcccc;color:black\">3Dmol.js failed to load for some reason.  Please check your browser console for error messages.<br></p>\n        </div>\n<script>\n\nvar loadScriptAsync = function(uri){\n  return new Promise((resolve, reject) => {\n    //this is to ignore the existence of requirejs amd\n    var savedexports, savedmodule;\n    if (typeof exports !== 'undefined') savedexports = exports;\n    else exports = {}\n    if (typeof module !== 'undefined') savedmodule = module;\n    else module = {}\n\n    var tag = document.createElement('script');\n    tag.src = uri;\n    tag.async = true;\n    tag.onload = () => {\n        exports = savedexports;\n        module = savedmodule;\n        resolve();\n    };\n  var firstScriptTag = document.getElementsByTagName('script')[0];\n  firstScriptTag.parentNode.insertBefore(tag, firstScriptTag);\n});\n};\n\nif(typeof $3Dmolpromise === 'undefined') {\n$3Dmolpromise = null;\n  $3Dmolpromise = loadScriptAsync('https://cdnjs.cloudflare.com/ajax/libs/3Dmol/2.1.0/3Dmol-min.js');\n}\n\nvar viewer_1716959699244848 = null;\nvar warn = document.getElementById(\"3dmolwarning_1716959699244848\");\nif(warn) {\n    warn.parentNode.removeChild(warn);\n}\n$3Dmolpromise.then(function() {\nviewer_1716959699244848 = $3Dmol.createViewer(document.getElementById(\"3dmolviewer_1716959699244848\"),{backgroundColor:\"white\"});\nviewer_1716959699244848.zoomTo();\n\tviewer_1716959699244848.addModel(\"13\\nH7 C4 N1 O1\\nC 0.477689 -1.329699 -1.331456\\nC 0.423220 -2.849087 0.599049\\nC 1.187431 0.936228 0.605109\\nC -1.638718 1.705606 1.912546\\nH -0.060600 -1.857168 -0.977896\\nH -0.985960 -0.528527 1.771809\\nH -0.574290 -0.663542 -1.636111\\nH -1.363922 1.292770 1.689767\\nH 0.837399 0.833170 1.127490\\nH 2.344835 -0.249289 0.467239\\nH -0.188888 1.522982 -0.771711\\nN -0.205269 1.619673 -0.875064\\nO -0.252939 -0.433128 -2.580767\",\"xyz\");\n\tviewer_1716959699244848.setStyle({\"sphere\": {\"scale\": 0.35}, \"stick\": {\"radius\": 0.2}});\n\tviewer_1716959699244848.zoomTo();\nviewer_1716959699244848.render();\n});\n</script>",
      "text/html": [
       "<div id=\"3dmolviewer_1716959699244848\"  style=\"position: relative; width: 800px; height: 400px;\">\n",
       "        <p id=\"3dmolwarning_1716959699244848\" style=\"background-color:#ffcccc;color:black\">3Dmol.js failed to load for some reason.  Please check your browser console for error messages.<br></p>\n",
       "        </div>\n",
       "<script>\n",
       "\n",
       "var loadScriptAsync = function(uri){\n",
       "  return new Promise((resolve, reject) => {\n",
       "    //this is to ignore the existence of requirejs amd\n",
       "    var savedexports, savedmodule;\n",
       "    if (typeof exports !== 'undefined') savedexports = exports;\n",
       "    else exports = {}\n",
       "    if (typeof module !== 'undefined') savedmodule = module;\n",
       "    else module = {}\n",
       "\n",
       "    var tag = document.createElement('script');\n",
       "    tag.src = uri;\n",
       "    tag.async = true;\n",
       "    tag.onload = () => {\n",
       "        exports = savedexports;\n",
       "        module = savedmodule;\n",
       "        resolve();\n",
       "    };\n",
       "  var firstScriptTag = document.getElementsByTagName('script')[0];\n",
       "  firstScriptTag.parentNode.insertBefore(tag, firstScriptTag);\n",
       "});\n",
       "};\n",
       "\n",
       "if(typeof $3Dmolpromise === 'undefined') {\n",
       "$3Dmolpromise = null;\n",
       "  $3Dmolpromise = loadScriptAsync('https://cdnjs.cloudflare.com/ajax/libs/3Dmol/2.1.0/3Dmol-min.js');\n",
       "}\n",
       "\n",
       "var viewer_1716959699244848 = null;\n",
       "var warn = document.getElementById(\"3dmolwarning_1716959699244848\");\n",
       "if(warn) {\n",
       "    warn.parentNode.removeChild(warn);\n",
       "}\n",
       "$3Dmolpromise.then(function() {\n",
       "viewer_1716959699244848 = $3Dmol.createViewer(document.getElementById(\"3dmolviewer_1716959699244848\"),{backgroundColor:\"white\"});\n",
       "viewer_1716959699244848.zoomTo();\n",
       "\tviewer_1716959699244848.addModel(\"13\\nH7 C4 N1 O1\\nC 0.477689 -1.329699 -1.331456\\nC 0.423220 -2.849087 0.599049\\nC 1.187431 0.936228 0.605109\\nC -1.638718 1.705606 1.912546\\nH -0.060600 -1.857168 -0.977896\\nH -0.985960 -0.528527 1.771809\\nH -0.574290 -0.663542 -1.636111\\nH -1.363922 1.292770 1.689767\\nH 0.837399 0.833170 1.127490\\nH 2.344835 -0.249289 0.467239\\nH -0.188888 1.522982 -0.771711\\nN -0.205269 1.619673 -0.875064\\nO -0.252939 -0.433128 -2.580767\",\"xyz\");\n",
       "\tviewer_1716959699244848.setStyle({\"sphere\": {\"scale\": 0.35}, \"stick\": {\"radius\": 0.2}});\n",
       "\tviewer_1716959699244848.zoomTo();\n",
       "viewer_1716959699244848.render();\n",
       "});\n",
       "</script>"
      ]
     },
     "metadata": {},
     "output_type": "display_data"
    },
    {
     "data": {
      "application/3dmoljs_load.v0": "<div id=\"3dmolviewer_1716959699245541\"  style=\"position: relative; width: 800px; height: 400px;\">\n        <p id=\"3dmolwarning_1716959699245541\" style=\"background-color:#ffcccc;color:black\">3Dmol.js failed to load for some reason.  Please check your browser console for error messages.<br></p>\n        </div>\n<script>\n\nvar loadScriptAsync = function(uri){\n  return new Promise((resolve, reject) => {\n    //this is to ignore the existence of requirejs amd\n    var savedexports, savedmodule;\n    if (typeof exports !== 'undefined') savedexports = exports;\n    else exports = {}\n    if (typeof module !== 'undefined') savedmodule = module;\n    else module = {}\n\n    var tag = document.createElement('script');\n    tag.src = uri;\n    tag.async = true;\n    tag.onload = () => {\n        exports = savedexports;\n        module = savedmodule;\n        resolve();\n    };\n  var firstScriptTag = document.getElementsByTagName('script')[0];\n  firstScriptTag.parentNode.insertBefore(tag, firstScriptTag);\n});\n};\n\nif(typeof $3Dmolpromise === 'undefined') {\n$3Dmolpromise = null;\n  $3Dmolpromise = loadScriptAsync('https://cdnjs.cloudflare.com/ajax/libs/3Dmol/2.1.0/3Dmol-min.js');\n}\n\nvar viewer_1716959699245541 = null;\nvar warn = document.getElementById(\"3dmolwarning_1716959699245541\");\nif(warn) {\n    warn.parentNode.removeChild(warn);\n}\n$3Dmolpromise.then(function() {\nviewer_1716959699245541 = $3Dmol.createViewer(document.getElementById(\"3dmolviewer_1716959699245541\"),{backgroundColor:\"white\"});\nviewer_1716959699245541.zoomTo();\n\tviewer_1716959699245541.addModel(\"13\\nH7 C4 N1 O1\\nC -1.651624 -0.170928 -0.692240\\nC -0.117808 -0.063779 -0.639393\\nC 0.432331 0.667149 0.976056\\nC 1.881919 0.255348 -0.477832\\nH -1.834252 0.579401 0.558140\\nH -0.548538 -1.033858 -0.250688\\nH -0.521732 1.145034 -0.171418\\nH 0.738264 1.209142 1.083583\\nH 0.635456 -1.255505 -1.459720\\nH -2.099585 -0.281165 -0.948754\\nH 0.405568 -0.741132 2.121552\\nN 0.961808 -0.797132 1.400136\\nO 1.718171 0.487429 -1.499418\",\"xyz\");\n\tviewer_1716959699245541.setStyle({\"sphere\": {\"scale\": 0.35}, \"stick\": {\"radius\": 0.2}});\n\tviewer_1716959699245541.zoomTo();\nviewer_1716959699245541.render();\n});\n</script>",
      "text/html": [
       "<div id=\"3dmolviewer_1716959699245541\"  style=\"position: relative; width: 800px; height: 400px;\">\n",
       "        <p id=\"3dmolwarning_1716959699245541\" style=\"background-color:#ffcccc;color:black\">3Dmol.js failed to load for some reason.  Please check your browser console for error messages.<br></p>\n",
       "        </div>\n",
       "<script>\n",
       "\n",
       "var loadScriptAsync = function(uri){\n",
       "  return new Promise((resolve, reject) => {\n",
       "    //this is to ignore the existence of requirejs amd\n",
       "    var savedexports, savedmodule;\n",
       "    if (typeof exports !== 'undefined') savedexports = exports;\n",
       "    else exports = {}\n",
       "    if (typeof module !== 'undefined') savedmodule = module;\n",
       "    else module = {}\n",
       "\n",
       "    var tag = document.createElement('script');\n",
       "    tag.src = uri;\n",
       "    tag.async = true;\n",
       "    tag.onload = () => {\n",
       "        exports = savedexports;\n",
       "        module = savedmodule;\n",
       "        resolve();\n",
       "    };\n",
       "  var firstScriptTag = document.getElementsByTagName('script')[0];\n",
       "  firstScriptTag.parentNode.insertBefore(tag, firstScriptTag);\n",
       "});\n",
       "};\n",
       "\n",
       "if(typeof $3Dmolpromise === 'undefined') {\n",
       "$3Dmolpromise = null;\n",
       "  $3Dmolpromise = loadScriptAsync('https://cdnjs.cloudflare.com/ajax/libs/3Dmol/2.1.0/3Dmol-min.js');\n",
       "}\n",
       "\n",
       "var viewer_1716959699245541 = null;\n",
       "var warn = document.getElementById(\"3dmolwarning_1716959699245541\");\n",
       "if(warn) {\n",
       "    warn.parentNode.removeChild(warn);\n",
       "}\n",
       "$3Dmolpromise.then(function() {\n",
       "viewer_1716959699245541 = $3Dmol.createViewer(document.getElementById(\"3dmolviewer_1716959699245541\"),{backgroundColor:\"white\"});\n",
       "viewer_1716959699245541.zoomTo();\n",
       "\tviewer_1716959699245541.addModel(\"13\\nH7 C4 N1 O1\\nC -1.651624 -0.170928 -0.692240\\nC -0.117808 -0.063779 -0.639393\\nC 0.432331 0.667149 0.976056\\nC 1.881919 0.255348 -0.477832\\nH -1.834252 0.579401 0.558140\\nH -0.548538 -1.033858 -0.250688\\nH -0.521732 1.145034 -0.171418\\nH 0.738264 1.209142 1.083583\\nH 0.635456 -1.255505 -1.459720\\nH -2.099585 -0.281165 -0.948754\\nH 0.405568 -0.741132 2.121552\\nN 0.961808 -0.797132 1.400136\\nO 1.718171 0.487429 -1.499418\",\"xyz\");\n",
       "\tviewer_1716959699245541.setStyle({\"sphere\": {\"scale\": 0.35}, \"stick\": {\"radius\": 0.2}});\n",
       "\tviewer_1716959699245541.zoomTo();\n",
       "viewer_1716959699245541.render();\n",
       "});\n",
       "</script>"
      ]
     },
     "metadata": {},
     "output_type": "display_data"
    },
    {
     "data": {
      "application/3dmoljs_load.v0": "<div id=\"3dmolviewer_1716959699246057\"  style=\"position: relative; width: 800px; height: 400px;\">\n        <p id=\"3dmolwarning_1716959699246057\" style=\"background-color:#ffcccc;color:black\">3Dmol.js failed to load for some reason.  Please check your browser console for error messages.<br></p>\n        </div>\n<script>\n\nvar loadScriptAsync = function(uri){\n  return new Promise((resolve, reject) => {\n    //this is to ignore the existence of requirejs amd\n    var savedexports, savedmodule;\n    if (typeof exports !== 'undefined') savedexports = exports;\n    else exports = {}\n    if (typeof module !== 'undefined') savedmodule = module;\n    else module = {}\n\n    var tag = document.createElement('script');\n    tag.src = uri;\n    tag.async = true;\n    tag.onload = () => {\n        exports = savedexports;\n        module = savedmodule;\n        resolve();\n    };\n  var firstScriptTag = document.getElementsByTagName('script')[0];\n  firstScriptTag.parentNode.insertBefore(tag, firstScriptTag);\n});\n};\n\nif(typeof $3Dmolpromise === 'undefined') {\n$3Dmolpromise = null;\n  $3Dmolpromise = loadScriptAsync('https://cdnjs.cloudflare.com/ajax/libs/3Dmol/2.1.0/3Dmol-min.js');\n}\n\nvar viewer_1716959699246057 = null;\nvar warn = document.getElementById(\"3dmolwarning_1716959699246057\");\nif(warn) {\n    warn.parentNode.removeChild(warn);\n}\n$3Dmolpromise.then(function() {\nviewer_1716959699246057 = $3Dmol.createViewer(document.getElementById(\"3dmolviewer_1716959699246057\"),{backgroundColor:\"white\"});\nviewer_1716959699246057.zoomTo();\n\tviewer_1716959699246057.addModel(\"13\\nH7 C4 N1 O1\\nC -0.049668 1.279485 -1.041357\\nC 0.369687 0.770038 1.904333\\nC 0.597055 -0.543227 1.767510\\nC -1.386806 0.760480 -0.917816\\nH -1.263521 1.555461 -2.201157\\nH 1.989403 -1.600388 -0.032802\\nH -0.241823 -0.837185 -0.518994\\nH 0.416996 0.469548 -0.842561\\nH -0.164950 0.712989 1.168501\\nH 0.774827 -0.374119 1.224187\\nH 0.277767 -2.212242 1.070728\\nN 0.190883 -1.039341 -0.162906\\nO -1.509842 1.058490 -1.417664\",\"xyz\");\n\tviewer_1716959699246057.setStyle({\"sphere\": {\"scale\": 0.35}, \"stick\": {\"radius\": 0.2}});\n\tviewer_1716959699246057.zoomTo();\nviewer_1716959699246057.render();\n});\n</script>",
      "text/html": [
       "<div id=\"3dmolviewer_1716959699246057\"  style=\"position: relative; width: 800px; height: 400px;\">\n",
       "        <p id=\"3dmolwarning_1716959699246057\" style=\"background-color:#ffcccc;color:black\">3Dmol.js failed to load for some reason.  Please check your browser console for error messages.<br></p>\n",
       "        </div>\n",
       "<script>\n",
       "\n",
       "var loadScriptAsync = function(uri){\n",
       "  return new Promise((resolve, reject) => {\n",
       "    //this is to ignore the existence of requirejs amd\n",
       "    var savedexports, savedmodule;\n",
       "    if (typeof exports !== 'undefined') savedexports = exports;\n",
       "    else exports = {}\n",
       "    if (typeof module !== 'undefined') savedmodule = module;\n",
       "    else module = {}\n",
       "\n",
       "    var tag = document.createElement('script');\n",
       "    tag.src = uri;\n",
       "    tag.async = true;\n",
       "    tag.onload = () => {\n",
       "        exports = savedexports;\n",
       "        module = savedmodule;\n",
       "        resolve();\n",
       "    };\n",
       "  var firstScriptTag = document.getElementsByTagName('script')[0];\n",
       "  firstScriptTag.parentNode.insertBefore(tag, firstScriptTag);\n",
       "});\n",
       "};\n",
       "\n",
       "if(typeof $3Dmolpromise === 'undefined') {\n",
       "$3Dmolpromise = null;\n",
       "  $3Dmolpromise = loadScriptAsync('https://cdnjs.cloudflare.com/ajax/libs/3Dmol/2.1.0/3Dmol-min.js');\n",
       "}\n",
       "\n",
       "var viewer_1716959699246057 = null;\n",
       "var warn = document.getElementById(\"3dmolwarning_1716959699246057\");\n",
       "if(warn) {\n",
       "    warn.parentNode.removeChild(warn);\n",
       "}\n",
       "$3Dmolpromise.then(function() {\n",
       "viewer_1716959699246057 = $3Dmol.createViewer(document.getElementById(\"3dmolviewer_1716959699246057\"),{backgroundColor:\"white\"});\n",
       "viewer_1716959699246057.zoomTo();\n",
       "\tviewer_1716959699246057.addModel(\"13\\nH7 C4 N1 O1\\nC -0.049668 1.279485 -1.041357\\nC 0.369687 0.770038 1.904333\\nC 0.597055 -0.543227 1.767510\\nC -1.386806 0.760480 -0.917816\\nH -1.263521 1.555461 -2.201157\\nH 1.989403 -1.600388 -0.032802\\nH -0.241823 -0.837185 -0.518994\\nH 0.416996 0.469548 -0.842561\\nH -0.164950 0.712989 1.168501\\nH 0.774827 -0.374119 1.224187\\nH 0.277767 -2.212242 1.070728\\nN 0.190883 -1.039341 -0.162906\\nO -1.509842 1.058490 -1.417664\",\"xyz\");\n",
       "\tviewer_1716959699246057.setStyle({\"sphere\": {\"scale\": 0.35}, \"stick\": {\"radius\": 0.2}});\n",
       "\tviewer_1716959699246057.zoomTo();\n",
       "viewer_1716959699246057.render();\n",
       "});\n",
       "</script>"
      ]
     },
     "metadata": {},
     "output_type": "display_data"
    },
    {
     "data": {
      "application/3dmoljs_load.v0": "<div id=\"3dmolviewer_17169596992465305\"  style=\"position: relative; width: 800px; height: 400px;\">\n        <p id=\"3dmolwarning_17169596992465305\" style=\"background-color:#ffcccc;color:black\">3Dmol.js failed to load for some reason.  Please check your browser console for error messages.<br></p>\n        </div>\n<script>\n\nvar loadScriptAsync = function(uri){\n  return new Promise((resolve, reject) => {\n    //this is to ignore the existence of requirejs amd\n    var savedexports, savedmodule;\n    if (typeof exports !== 'undefined') savedexports = exports;\n    else exports = {}\n    if (typeof module !== 'undefined') savedmodule = module;\n    else module = {}\n\n    var tag = document.createElement('script');\n    tag.src = uri;\n    tag.async = true;\n    tag.onload = () => {\n        exports = savedexports;\n        module = savedmodule;\n        resolve();\n    };\n  var firstScriptTag = document.getElementsByTagName('script')[0];\n  firstScriptTag.parentNode.insertBefore(tag, firstScriptTag);\n});\n};\n\nif(typeof $3Dmolpromise === 'undefined') {\n$3Dmolpromise = null;\n  $3Dmolpromise = loadScriptAsync('https://cdnjs.cloudflare.com/ajax/libs/3Dmol/2.1.0/3Dmol-min.js');\n}\n\nvar viewer_17169596992465305 = null;\nvar warn = document.getElementById(\"3dmolwarning_17169596992465305\");\nif(warn) {\n    warn.parentNode.removeChild(warn);\n}\n$3Dmolpromise.then(function() {\nviewer_17169596992465305 = $3Dmol.createViewer(document.getElementById(\"3dmolviewer_17169596992465305\"),{backgroundColor:\"white\"});\nviewer_17169596992465305.zoomTo();\n\tviewer_17169596992465305.addModel(\"13\\nH7 C4 N1 O1\\nC -0.487911 2.580953 -1.453482\\nC 0.485056 -1.442395 0.327193\\nC -0.787968 1.434040 -0.741353\\nC 0.276145 -0.952488 0.498868\\nH 0.793986 -1.873154 0.570865\\nH 0.139218 1.495765 -0.655417\\nH -0.403632 0.389447 1.858008\\nH -0.382573 -0.819250 1.289432\\nH 1.081865 -2.503979 -0.168641\\nH -1.331235 1.561379 -0.829596\\nH 1.614205 -1.132983 0.338172\\nN -0.782966 -0.416580 -2.095293\\nO -0.214195 1.679236 1.061251\",\"xyz\");\n\tviewer_17169596992465305.setStyle({\"sphere\": {\"scale\": 0.35}, \"stick\": {\"radius\": 0.2}});\n\tviewer_17169596992465305.zoomTo();\nviewer_17169596992465305.render();\n});\n</script>",
      "text/html": [
       "<div id=\"3dmolviewer_17169596992465305\"  style=\"position: relative; width: 800px; height: 400px;\">\n",
       "        <p id=\"3dmolwarning_17169596992465305\" style=\"background-color:#ffcccc;color:black\">3Dmol.js failed to load for some reason.  Please check your browser console for error messages.<br></p>\n",
       "        </div>\n",
       "<script>\n",
       "\n",
       "var loadScriptAsync = function(uri){\n",
       "  return new Promise((resolve, reject) => {\n",
       "    //this is to ignore the existence of requirejs amd\n",
       "    var savedexports, savedmodule;\n",
       "    if (typeof exports !== 'undefined') savedexports = exports;\n",
       "    else exports = {}\n",
       "    if (typeof module !== 'undefined') savedmodule = module;\n",
       "    else module = {}\n",
       "\n",
       "    var tag = document.createElement('script');\n",
       "    tag.src = uri;\n",
       "    tag.async = true;\n",
       "    tag.onload = () => {\n",
       "        exports = savedexports;\n",
       "        module = savedmodule;\n",
       "        resolve();\n",
       "    };\n",
       "  var firstScriptTag = document.getElementsByTagName('script')[0];\n",
       "  firstScriptTag.parentNode.insertBefore(tag, firstScriptTag);\n",
       "});\n",
       "};\n",
       "\n",
       "if(typeof $3Dmolpromise === 'undefined') {\n",
       "$3Dmolpromise = null;\n",
       "  $3Dmolpromise = loadScriptAsync('https://cdnjs.cloudflare.com/ajax/libs/3Dmol/2.1.0/3Dmol-min.js');\n",
       "}\n",
       "\n",
       "var viewer_17169596992465305 = null;\n",
       "var warn = document.getElementById(\"3dmolwarning_17169596992465305\");\n",
       "if(warn) {\n",
       "    warn.parentNode.removeChild(warn);\n",
       "}\n",
       "$3Dmolpromise.then(function() {\n",
       "viewer_17169596992465305 = $3Dmol.createViewer(document.getElementById(\"3dmolviewer_17169596992465305\"),{backgroundColor:\"white\"});\n",
       "viewer_17169596992465305.zoomTo();\n",
       "\tviewer_17169596992465305.addModel(\"13\\nH7 C4 N1 O1\\nC -0.487911 2.580953 -1.453482\\nC 0.485056 -1.442395 0.327193\\nC -0.787968 1.434040 -0.741353\\nC 0.276145 -0.952488 0.498868\\nH 0.793986 -1.873154 0.570865\\nH 0.139218 1.495765 -0.655417\\nH -0.403632 0.389447 1.858008\\nH -0.382573 -0.819250 1.289432\\nH 1.081865 -2.503979 -0.168641\\nH -1.331235 1.561379 -0.829596\\nH 1.614205 -1.132983 0.338172\\nN -0.782966 -0.416580 -2.095293\\nO -0.214195 1.679236 1.061251\",\"xyz\");\n",
       "\tviewer_17169596992465305.setStyle({\"sphere\": {\"scale\": 0.35}, \"stick\": {\"radius\": 0.2}});\n",
       "\tviewer_17169596992465305.zoomTo();\n",
       "viewer_17169596992465305.render();\n",
       "});\n",
       "</script>"
      ]
     },
     "metadata": {},
     "output_type": "display_data"
    }
   ],
   "source": [
    "from model.visualize import draw_mol\n",
    "\n",
    "for i in range(4):\n",
    "    draw_mol(f'./demo/{time_point}/mol_{i}.xyz')"
   ]
  },
  {
   "cell_type": "markdown",
   "metadata": {},
   "source": [
    "The results show that our model can generate diverse and stable structures."
   ]
  },
  {
   "cell_type": "code",
   "execution_count": 9,
   "metadata": {},
   "outputs": [
    {
     "data": {
      "text/plain": [
       "tensor([-6.4190e-07, -5.2269e-07,  2.7510e-07])"
      ]
     },
     "execution_count": 9,
     "metadata": {},
     "output_type": "execute_result"
    }
   ],
   "source": [
    "mols_pos.mean(dim=0)"
   ]
  },
  {
   "cell_type": "code",
   "execution_count": null,
   "metadata": {},
   "outputs": [],
   "source": []
  }
 ],
 "metadata": {
  "kernelspec": {
   "display_name": "pl_pyg",
   "language": "python",
   "name": "python3"
  },
  "language_info": {
   "codemirror_mode": {
    "name": "ipython",
    "version": 3
   },
   "file_extension": ".py",
   "mimetype": "text/x-python",
   "name": "python",
   "nbconvert_exporter": "python",
   "pygments_lexer": "ipython3",
   "version": "3.11.9"
  }
 },
 "nbformat": 4,
 "nbformat_minor": 2
}
