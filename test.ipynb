{
 "cells": [
  {
   "cell_type": "code",
   "execution_count": 1,
   "metadata": {},
   "outputs": [],
   "source": [
    "import time "
   ]
  },
  {
   "cell_type": "code",
   "execution_count": 3,
   "metadata": {},
   "outputs": [
    {
     "data": {
      "text/plain": [
       "1716782943.9610522"
      ]
     },
     "execution_count": 3,
     "metadata": {},
     "output_type": "execute_result"
    }
   ],
   "source": [
    "time.time()"
   ]
  },
  {
   "cell_type": "code",
   "execution_count": 5,
   "metadata": {},
   "outputs": [
    {
     "name": "stdout",
     "output_type": "stream",
     "text": [
      "Formatted Time: 0527121057\n"
     ]
    }
   ],
   "source": [
    "import time\n",
    "from datetime import datetime\n",
    "\n",
    "current_timestamp = time.time()\n",
    "readable_time_dt = datetime.fromtimestamp(current_timestamp)\n",
    "formatted_time = readable_time_dt.strftime('%m%d%H%M%S')"
   ]
  },
  {
   "cell_type": "code",
   "execution_count": 13,
   "metadata": {},
   "outputs": [
    {
     "data": {
      "text/plain": [
       "'05-27-12:12:56'"
      ]
     },
     "execution_count": 13,
     "metadata": {},
     "output_type": "execute_result"
    }
   ],
   "source": [
    "datetime.now().strftime(\"%m-%d-%H:%M:%S\")"
   ]
  },
  {
   "cell_type": "markdown",
   "metadata": {},
   "source": []
  },
  {
   "cell_type": "code",
   "execution_count": 1,
   "metadata": {},
   "outputs": [],
   "source": [
    "from model import QM9Dataset"
   ]
  },
  {
   "cell_type": "code",
   "execution_count": 4,
   "metadata": {},
   "outputs": [],
   "source": [
    "from config import data_config\n",
    "qm9 = QM9Dataset(**data_config)"
   ]
  },
  {
   "cell_type": "code",
   "execution_count": 11,
   "metadata": {},
   "outputs": [
    {
     "data": {
      "text/plain": [
       "(tensor([6, 6, 6, 6, 8, 6, 7, 1, 1, 1, 1, 1, 1, 1, 1, 1]),\n",
       " tensor([[-0.0408,  1.6354,  0.1848],\n",
       "         [-0.1424,  0.1071,  0.1160],\n",
       "         [-1.6080, -0.3415,  0.0771],\n",
       "         [ 0.6843, -0.4844, -1.0696],\n",
       "         [ 1.6874, -1.3156, -0.4412],\n",
       "         [ 1.4568, -1.2043,  0.8893],\n",
       "         [ 0.5126, -0.4775,  1.3141],\n",
       "         [ 1.0053,  1.9530,  0.2270],\n",
       "         [-0.5067,  2.0957, -0.6936],\n",
       "         [-0.5452,  2.0089,  1.0800],\n",
       "         [-2.1153,  0.0648, -0.8050],\n",
       "         [-1.6786, -1.4328,  0.0436],\n",
       "         [-2.1349,  0.0054,  0.9700],\n",
       "         [ 0.0895, -1.1144, -1.7375],\n",
       "         [ 1.1971,  0.2793, -1.6617],\n",
       "         [ 2.1388, -1.7793,  1.5067]]))"
      ]
     },
     "execution_count": 11,
     "metadata": {},
     "output_type": "execute_result"
    }
   ],
   "source": [
    "qm9[1000]"
   ]
  },
  {
   "cell_type": "code",
   "execution_count": null,
   "metadata": {},
   "outputs": [],
   "source": []
  }
 ],
 "metadata": {
  "kernelspec": {
   "display_name": "pl_pyg",
   "language": "python",
   "name": "python3"
  },
  "language_info": {
   "codemirror_mode": {
    "name": "ipython",
    "version": 3
   },
   "file_extension": ".py",
   "mimetype": "text/x-python",
   "name": "python",
   "nbconvert_exporter": "python",
   "pygments_lexer": "ipython3",
   "version": "3.11.9"
  }
 },
 "nbformat": 4,
 "nbformat_minor": 2
}
