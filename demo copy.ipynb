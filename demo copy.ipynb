{
 "cells": [
  {
   "cell_type": "markdown",
   "metadata": {},
   "source": [
    "# Score based diffusion model for molecule generation."
   ]
  },
  {
   "cell_type": "markdown",
   "metadata": {},
   "source": [
    "# 1. Project Overview\n",
    "\n",
    "We are leveraging a score-based Stochastic Differential Equation (SDE) diffusion generative model to achieve stable molecular conformation generation. The project uses the QM9 dataset, which includes 100,000 stable molecular conformations, represented by atomic numbers and Cartesian coordinates. Our approach focuses on the Variance Exploding Stochastic Differential Equation (VE-SDE) for model training, combined with the trainable equivariant graph neural network PaiNN to predict reverse SDE scores effectively.\n",
    "\n",
    "The training process spans a total of 8 hours over 500 epochs on a single RTX 4090 GPU, ensuring a robust and efficient model. After completing the training, we employ the Euler-Maruyama method for reverse inference, facilitating the generation of molecular conformations.\n",
    "\n",
    "Our method can generate stable conformations for given molecular compositions, demonstrating significant stability and chemical relevance. To verify the chemical validity of the generated molecules, we use the open-source library Open Babel to convert the generated structures into SMILES notation. This process confirms that the majority of the generated molecules are both stable and chemically meaningful, showcasing the potential of our approach in practical applications.\n",
    "\n",
    "In summary, our project successfully integrates advanced deep generative model with molecular science, providing a powerful tool for generating and analyzing stable molecular conformations with high accuracy and efficiency."
   ]
  },
  {
   "cell_type": "markdown",
   "metadata": {},
   "source": [
    "# 2. Itroduction of Score-Based Diffusion Modeling through Stochastic Differential Equations."
   ]
  },
  {
   "cell_type": "markdown",
   "metadata": {},
   "source": [
    "Diffusion model is a kind of generative model, which has gained extensive attention in generating high-quality samples in recent years.  They use the principle of diffusion process to generate complex data distribution from simple noise distribution by way of gradual de-noising. Diffusion generative models can be primarily divided into three categories: Score Matching with Langevin Dynamics (SMLD), Denoising Diffusion Probabilistic Models (DDPM), and Score-based Generative Model (SGM). Here, we primarily use SGM, precisely VESDE."
   ]
  },
  {
   "cell_type": "markdown",
   "metadata": {},
   "source": [
    "### *Variance Exploding Stochastic Differential Equation (VESDE) Diffusion*\n",
    "\n",
    "Variance Exploding Stochastic Differential Equations (VESDE) diffusion models are a class of score-based generative models. These models leverage the principles of stochastic processes, particularly stochastic differential equations (SDEs), to model the evolution of data points over continuous time. (Song, Yang, et al. \"Score-based generative modeling through stochastic differential equations.\" arXiv preprint arXiv:2011.13456 (2020).)\n",
    "\n",
    "### *Core Concept*\n",
    "\n",
    "At the heart of VESDE diffusion is the idea of modeling the data distribution as a process that evolves over time according to a stochastic differential equation. This evolution is characterized by the variance of the data points increasing (or \"exploding\") as time progresses, which is a key feature distinguishing VESDE from other types of SDE-based models like Variance Preserving SDE (VPSDE).\n",
    "\n",
    "### *Mathematical Formulation*\n",
    "\n",
    "The VESDE can be defined by the following SDE:\n",
    "\n",
    "$$dx_{t} = f(x_t, t)dt + g(t)dW_t$$\n",
    "\n",
    "where:\n",
    "\n",
    "- $x_t$ represents the data point at time $t$\n",
    "- $f(x_t, t)$ is the drift term that dictates the deterministic part of the evolution.\n",
    "- $g(t)$ is the diffusion term that controls the magnitude of the stochastic component.\n",
    "- $W_t$ is a standard Wiener process (also known as Brownian motion).\n",
    "\n",
    "### *Training and Sampling*\n",
    "\n",
    "Training a VESDE model involves learning to reverse this diffusion process. During training, the model is trained to denoise corrupted data samples, effectively learning the reverse dynamics of the SDE. This reverse process can be described by the reverse-time SDE, which can be solved using techniques like the Euler-Maruyama method.\n",
    "\n",
    "Once trained, sampling from a VESDE model involves simulating the reverse-time SDE starting from a noise distribution (typically Gaussian noise) and evolving it backward in time to obtain a sample from the learned data distribution.\n",
    "\n",
    "### *Molecule Generation*\n",
    "\n",
    "The coordinate space of the molecule is a continuous space, so we want to use the diffusion model to generate the three-dimensional conformation of the molecule.\n",
    "\n",
    "Here is the main code for the socre-based model:"
   ]
  },
  {
   "cell_type": "markdown",
   "metadata": {},
   "source": [
    "```python\n",
    "class VESDE(torch.nn.Module):\n",
    "    def __init__(\n",
    "        self,\n",
    "        score_model: torch.nn.Module,\n",
    "        schedule: DiffSchedule,\n",
    ") -> None:\n",
    "        super().__init__()\n",
    "        self.score_model = score_model\n",
    "        self.schedule = schedule\n",
    "        \n",
    "    def forward(self, pos, atomic_numbers, mask):\n",
    "        t = self.schedule(mask)\n",
    "        pos_dim = pos.shape[-1]\n",
    "        nodes_mask = get_batch_mask_for_nodes(mask)\n",
    "        edge_index = get_full_edges_index(nodes_mask, remove_self_edge=False)\n",
    "\n",
    "        # sample zero CoM noise\n",
    "        noise = sample_center_gravity_zero_gaussian_batch(\n",
    "            (pos.shape[0], pos_dim), nodes_mask\n",
    "        )\n",
    "        nodes_t = t[nodes_mask]\n",
    "        std = self.schedule.marginal_prob_std(nodes_t)\n",
    "        perturbed_pos = pos + noise * std[:, None]\n",
    "        \n",
    "        # compute score\n",
    "        score = self.score_model(atomic_numbers, nodes_t, perturbed_pos, edge_index)\n",
    "        score = score / std[:, None] # normalize score\n",
    "        if torch.any(torch.isnan(score)):\n",
    "            print('nan in score, resetting to randn')\n",
    "            score = torch.randn_like(score, requires_grad=True)\n",
    "        score = remove_mean_batch(score, nodes_mask)\n",
    "        \n",
    "        l2loss = torch.mean(torch.sum((score * std[:, None] + noise)**2, dim=-1))\n",
    "        return l2loss\n",
    "\n",
    "    @torch.no_grad()\n",
    "    def sample(\n",
    "        self,\n",
    "        atomic_numbers: torch.Tensor,\n",
    "        mask: torch.Tensor,\n",
    "        num_steps: int=500,\n",
    "        t_mode: str='linear',\n",
    "    )-> Tuple[torch.Tensor, List[torch.Tensor]]:\n",
    "        '''\n",
    "        Sample a mols and return the trajectory using Euler Maruyama sampler.\n",
    "        '''\n",
    "        device = atomic_numbers.device\n",
    "        pos_shape = [atomic_numbers.size(0), 3]\n",
    "        t = torch.ones(len(atomic_numbers), device=atomic_numbers.device)\n",
    "        nodes_mask = get_batch_mask_for_nodes(mask)\n",
    "        \n",
    "        # sample zero CoM noise as initial position\n",
    "        init_com = sample_center_gravity_zero_gaussian_batch(\n",
    "            (pos_shape[0], pos_shape[1]), nodes_mask\n",
    "        )\n",
    "        init_pos = init_com * self.schedule.marginal_prob_std(t)[:, None]\n",
    "        edge_index = get_full_edges_index(nodes_mask, remove_self_edge=False)\n",
    "        num_steps = torch.tensor(num_steps, device=device)\n",
    "        time_steps = self.schedule.sample_t(num_steps, mode=t_mode)\n",
    "        step_sizes = torch.cat((-torch.diff(time_steps), time_steps[-1].unsqueeze(0)))\n",
    "        \n",
    "        # sample batch of mols\n",
    "        pos = init_pos\n",
    "        trajs = []\n",
    "        for time_step, step_size in zip(time_steps, step_sizes):\n",
    "            batch_time_step = torch.ones(pos.size(0), device=device) * time_step\n",
    "            g = self.schedule.diffusion_coeff(batch_time_step)\n",
    "            score = self.score_model(atomic_numbers, batch_time_step, pos, edge_index)\n",
    "            \n",
    "            # normalize score\n",
    "            if torch.any(torch.isnan(score)):\n",
    "                print('nan in score, resetting to randn')\n",
    "                score = torch.randn_like(score)\n",
    "            score = score / self.schedule.marginal_prob_std(batch_time_step)[:, None]\n",
    "            score = remove_mean_batch(score, nodes_mask)\n",
    "            mean_pos = pos + (g**2)[:, None] * score * step_size\n",
    "            noise = sample_center_gravity_zero_gaussian_batch(\n",
    "                (pos_shape[0], pos_shape[1]), nodes_mask\n",
    "            )\n",
    "            pos = mean_pos + torch.sqrt(step_size) * g[:, None] * noise\n",
    "            trajs.append(mean_pos)\n",
    "        return mean_pos, trajs\n",
    "```"
   ]
  },
  {
   "cell_type": "markdown",
   "metadata": {},
   "source": [
    "# 3. Equivariant Graph Neural Networks."
   ]
  },
  {
   "cell_type": "markdown",
   "metadata": {},
   "source": [
    "Equivariant Graph Neural Networks (EGNNs) are a class of specially designed Graph Neural Networks that are equivariant under certain transformations of graphs (such as rotation, translation, reflection, etc.). This means that if these transformations are made to the input graph, the output of the model will undergo the same transformation accordingly. This property is especially useful when dealing with tasks with spatial symmetries (such as molecular modeling, physical simulations, etc.), as it guarantees that the model is invariant or isotropic to these transformations and is able to better capture and exploit the symmetries in the data.\n",
    "\n",
    "PaiNN (Polarizable atom interaction neural network) is a equivariant graph neural network specifically designed for molecular modeling and prediction. PaiNN's design philosophy aims to incorporate interaction models from physics to better predict the physical and chemical properties of molecules. (Schütt, Kristof, Oliver Unke, and Michael Gastegger. \"Equivariant message passing for the prediction of tensorial properties and molecular spectra.\" International Conference on Machine Learning. PMLR, 2021.)\n",
    "\n",
    "We need a neural network to fit the noise in diffusion models, and since molecules can naturally be represented as graphs, we will use the equivariant PaiNN as our graph neural network for training. \n",
    "\n",
    "Let's verify the equivariance of PaiNN:"
   ]
  },
  {
   "cell_type": "code",
   "execution_count": 1,
   "metadata": {},
   "outputs": [
    {
     "name": "stderr",
     "output_type": "stream",
     "text": [
      "/home/xmcao/.conda/envs/install/envs/pl_pyg/lib/python3.11/site-packages/torch_geometric/typing.py:54: UserWarning: An issue occurred while importing 'pyg-lib'. Disabling its usage. Stacktrace: /lib64/libm.so.6: version `GLIBC_2.29' not found (required by /home/xmcao/.conda/envs/install/envs/pl_pyg/lib/python3.11/site-packages/libpyg.so)\n",
      "  warnings.warn(f\"An issue occurred while importing 'pyg-lib'. \"\n",
      "/home/xmcao/.conda/envs/install/envs/pl_pyg/lib/python3.11/site-packages/torch_geometric/typing.py:110: UserWarning: An issue occurred while importing 'torch-sparse'. Disabling its usage. Stacktrace: /lib64/libm.so.6: version `GLIBC_2.29' not found (required by /home/xmcao/.conda/envs/install/envs/pl_pyg/lib/python3.11/site-packages/libpyg.so)\n",
      "  warnings.warn(f\"An issue occurred while importing 'torch-sparse'. \"\n",
      "/home/xmcao/.conda/envs/install/envs/pl_pyg/lib/python3.11/site-packages/torch/cuda/__init__.py:619: UserWarning: Can't initialize NVML\n",
      "  warnings.warn(\"Can't initialize NVML\")\n",
      "/home/xmcao/.conda/envs/install/envs/pl_pyg/lib/python3.11/site-packages/torch/cuda/__init__.py:749: UserWarning: CUDA initialization: The NVIDIA driver on your system is too old (found version 11070). Please update your GPU driver by downloading and installing a new version from the URL: http://www.nvidia.com/Download/index.aspx Alternatively, go to: https://pytorch.org to install a PyTorch version that has been compiled with your version of the CUDA driver. (Triggered internally at ../c10/cuda/CUDAFunctions.cpp:108.)\n",
      "  return torch._C._cuda_getDeviceCount() if nvml_count < 0 else nvml_count\n"
     ]
    },
    {
     "name": "stdout",
     "output_type": "stream",
     "text": [
      "The molecular input to the model rotates, and the output should rotate simultaneously. \n",
      "So this number should be zero: tensor(7.4579e-11, grad_fn=<MaxBackward1>)\n"
     ]
    }
   ],
   "source": [
    "import torch\n",
    "from model.painn import PaiNN\n",
    "\n",
    "model = PaiNN()\n",
    "atomic_numbers = torch.tensor([1, 6, 6, 1, 1, 1, 1, 1, 1], dtype=torch.long) # H, C, C, H, H, H, H, H, H\n",
    "t = torch.tensor([0.4, 0.4, 0.4, 0.4, 0.4, 0.4, 0.4, 0.4, 0.4], dtype=torch.float) # random time\n",
    "from torch_geometric.nn import radius_graph\n",
    "pos = torch.tensor([[ 0.0072, -0.5687,  0.0000],\n",
    "    [-1.2854,  0.2499,  0.0000],\n",
    "    [ 1.1304,  0.3147,  0.0000],\n",
    "    [ 0.0392, -1.1972,  0.8900],\n",
    "    [ 0.0392, -1.1972, -0.8900],\n",
    "    [-1.3175,  0.8784,  0.8900],\n",
    "    [-1.3175,  0.8784, -0.8900],\n",
    "    [-2.1422, -0.4239,  0.0000],\n",
    "    [ 1.9857, -0.1365,  0.0000]], dtype = torch.float)\n",
    "\n",
    "edge_index = radius_graph(pos, r=1.70, batch=None, loop=False)\n",
    "from e3nn import o3\n",
    "rot = o3.rand_matrix()\n",
    "pos_rot = pos @ rot\n",
    "out_rot = model(atomic_numbers, t, pos, edge_index) @ rot\n",
    "out = model(atomic_numbers, t, pos_rot, edge_index)\n",
    "print('The molecular input to the model rotates, and the output should rotate simultaneously. \\nSo this number should be zero:', (out - out_rot).max())"
   ]
  },
  {
   "cell_type": "code",
   "execution_count": 2,
   "metadata": {},
   "outputs": [
    {
     "name": "stdout",
     "output_type": "stream",
     "text": [
      "PaiNN(\n",
      "  (atom_emb): AtomEmbedding(\n",
      "    (embeddings): Embedding(83, 512)\n",
      "  )\n",
      "  (t_emb): GaussianFourierProjection()\n",
      "  (embedding): Linear(in_features=1024, out_features=512, bias=True)\n",
      "  (radial_basis): RadialBasis(\n",
      "    (envelope): PolynomialEnvelope()\n",
      "    (rbf): GaussianSmearing()\n",
      "  )\n",
      "  (message_layers): ModuleList(\n",
      "    (0-5): 6 x PaiNNMessage()\n",
      "  )\n",
      "  (update_layers): ModuleList(\n",
      "    (0-5): 6 x PaiNNUpdate(\n",
      "      (vec_proj): Linear(in_features=512, out_features=1024, bias=False)\n",
      "      (xvec_proj): Sequential(\n",
      "        (0): Linear(in_features=1024, out_features=512, bias=True)\n",
      "        (1): ScaledSiLU(\n",
      "          (_activation): SiLU()\n",
      "        )\n",
      "        (2): Linear(in_features=512, out_features=1536, bias=True)\n",
      "      )\n",
      "    )\n",
      "  )\n",
      "  (out_xh): Sequential(\n",
      "    (0): Linear(in_features=512, out_features=256, bias=True)\n",
      "    (1): ScaledSiLU(\n",
      "      (_activation): SiLU()\n",
      "    )\n",
      "    (2): Linear(in_features=256, out_features=8, bias=True)\n",
      "  )\n",
      "  (out_dpos): PaiNNOutput(\n",
      "    (output_network): ModuleList(\n",
      "      (0): GatedEquivariantBlock(\n",
      "        (vec1_proj): Linear(in_features=512, out_features=512, bias=False)\n",
      "        (vec2_proj): Linear(in_features=512, out_features=256, bias=False)\n",
      "        (update_net): Sequential(\n",
      "          (0): Linear(in_features=1024, out_features=512, bias=True)\n",
      "          (1): ScaledSiLU(\n",
      "            (_activation): SiLU()\n",
      "          )\n",
      "          (2): Linear(in_features=512, out_features=512, bias=True)\n",
      "        )\n",
      "        (act): ScaledSiLU(\n",
      "          (_activation): SiLU()\n",
      "        )\n",
      "      )\n",
      "      (1): GatedEquivariantBlock(\n",
      "        (vec1_proj): Linear(in_features=256, out_features=256, bias=False)\n",
      "        (vec2_proj): Linear(in_features=256, out_features=1, bias=False)\n",
      "        (update_net): Sequential(\n",
      "          (0): Linear(in_features=512, out_features=256, bias=True)\n",
      "          (1): ScaledSiLU(\n",
      "            (_activation): SiLU()\n",
      "          )\n",
      "          (2): Linear(in_features=256, out_features=2, bias=True)\n",
      "        )\n",
      "        (act): ScaledSiLU(\n",
      "          (_activation): SiLU()\n",
      "        )\n",
      "      )\n",
      "    )\n",
      "  )\n",
      ")\n"
     ]
    }
   ],
   "source": [
    "# print the architecture of PaiNN\n",
    "print(model)"
   ]
  },
  {
   "cell_type": "markdown",
   "metadata": {},
   "source": [
    "# 4. Results"
   ]
  },
  {
   "cell_type": "markdown",
   "metadata": {},
   "source": [
    "Load the trained pytorch lightning model."
   ]
  },
  {
   "cell_type": "code",
   "execution_count": 48,
   "metadata": {},
   "outputs": [],
   "source": [
    "from model.pl import pl_module\n",
    "\n",
    "device = torch.device(\"cuda\" if torch.cuda.is_available() else \"cpu\")\n",
    "lightning_module = pl_module.load_from_checkpoint(\n",
    "    checkpoint_path=\"checkpoint.ckpt\",\n",
    "    map_location=torch.device(device),\n",
    ")"
   ]
  },
  {
   "cell_type": "markdown",
   "metadata": {},
   "source": [
    "Predefine the molecular format with the molecular formula C4H7NO, since graph neural networks are permutation-invariant, the order of the atoms does not matter."
   ]
  },
  {
   "cell_type": "code",
   "execution_count": 49,
   "metadata": {},
   "outputs": [],
   "source": [
    "# Atomic number 6 is carbon, 1 is hydrogen, 7 is nitrogen, 8 is oxygen\n",
    "C5 = torch.tensor([6, 6, 6, 6, 6], dtype=torch.long, device=device)\n",
    "H10 = torch.tensor([1, 1, 1, 1, 1, 1, 1, 1, 1, 1], dtype=torch.long, device=device)\n",
    "O2 = torch.tensor([8, 8], dtype=torch.long, device=device)\n",
    "\n",
    "atomic_numbers = torch.cat([C5, H10, O2])\n",
    "assert len(atomic_numbers) == 17"
   ]
  },
  {
   "cell_type": "code",
   "execution_count": 50,
   "metadata": {},
   "outputs": [],
   "source": [
    "# Predifine 4 molecules of identical composition\n",
    "atomic_numbers = atomic_numbers.repeat(4, 1).reshape(-1)\n",
    "mask = torch.tensor([17, 17, 17, 17], dtype=torch.long, device=device)\n",
    "assert len(atomic_numbers) == 68"
   ]
  },
  {
   "cell_type": "markdown",
   "metadata": {},
   "source": [
    "Sample molecules from gaussian noise by reversed SDE, using Euler Maruyama sampler."
   ]
  },
  {
   "cell_type": "code",
   "execution_count": 51,
   "metadata": {},
   "outputs": [
    {
     "name": "stdout",
     "output_type": "stream",
     "text": [
      "saved samples to demo/2024-06-02_21-48-16\n"
     ]
    }
   ],
   "source": [
    "from datetime import datetime\n",
    "import os\n",
    "from model.io import write_batch_xyz\n",
    "\n",
    "mols_pos, trajs = lightning_module.en_diffusion.sample(\n",
    "    atomic_numbers,\n",
    "    mask,\n",
    "    num_steps=500,\n",
    "    t_mode='cosine',\n",
    ")\n",
    "\n",
    "time_point = datetime.now().strftime(\"%Y-%m-%d_%H-%M-%S\")\n",
    "save_dir = f'demo/{time_point}'\n",
    "os.makedirs(save_dir, exist_ok=True)\n",
    "write_batch_xyz(save_dir, atomic_numbers, mols_pos, mask)\n",
    "print(f\"saved samples to {save_dir}\")\n"
   ]
  },
  {
   "cell_type": "markdown",
   "metadata": {},
   "source": [
    "The SMILES formula of the generated molecules is automatically identified using openbabel."
   ]
  },
  {
   "cell_type": "code",
   "execution_count": 52,
   "metadata": {},
   "outputs": [],
   "source": [
    "import subprocess\n",
    "\n",
    "smis = []\n",
    "for i in range(4):\n",
    "    smi = subprocess.run(\n",
    "        'obabel ' +  f'./demo/{time_point}/mol_{i}.xyz -osmi',\n",
    "        capture_output=True,\n",
    "        text=True,\n",
    "        shell=True,\n",
    "    ).stdout\n",
    "    smis.append(smi.split('\\t')[0])"
   ]
  },
  {
   "cell_type": "code",
   "execution_count": 53,
   "metadata": {},
   "outputs": [
    {
     "data": {
      "text/plain": [
       "['[C@]1(C)(CCO1)CO',\n",
       " 'COC(=O)C(C)C',\n",
       " 'C1[C@@H](C)[C@H]1OCO',\n",
       " 'CO[C@H]1CO[C@H]1C']"
      ]
     },
     "execution_count": 53,
     "metadata": {},
     "output_type": "execute_result"
    }
   ],
   "source": [
    "smis"
   ]
  },
  {
   "cell_type": "markdown",
   "metadata": {},
   "source": [
    "Visualizing molecules."
   ]
  },
  {
   "cell_type": "code",
   "execution_count": 54,
   "metadata": {},
   "outputs": [
    {
     "data": {
      "application/3dmoljs_load.v0": "<div id=\"3dmolviewer_1717336096167313\"  style=\"position: relative; width: 800px; height: 400px;\">\n        <p id=\"3dmolwarning_1717336096167313\" style=\"background-color:#ffcccc;color:black\">3Dmol.js failed to load for some reason.  Please check your browser console for error messages.<br></p>\n        </div>\n<script>\n\nvar loadScriptAsync = function(uri){\n  return new Promise((resolve, reject) => {\n    //this is to ignore the existence of requirejs amd\n    var savedexports, savedmodule;\n    if (typeof exports !== 'undefined') savedexports = exports;\n    else exports = {}\n    if (typeof module !== 'undefined') savedmodule = module;\n    else module = {}\n\n    var tag = document.createElement('script');\n    tag.src = uri;\n    tag.async = true;\n    tag.onload = () => {\n        exports = savedexports;\n        module = savedmodule;\n        resolve();\n    };\n  var firstScriptTag = document.getElementsByTagName('script')[0];\n  firstScriptTag.parentNode.insertBefore(tag, firstScriptTag);\n});\n};\n\nif(typeof $3Dmolpromise === 'undefined') {\n$3Dmolpromise = null;\n  $3Dmolpromise = loadScriptAsync('https://cdnjs.cloudflare.com/ajax/libs/3Dmol/2.1.0/3Dmol-min.js');\n}\n\nvar viewer_1717336096167313 = null;\nvar warn = document.getElementById(\"3dmolwarning_1717336096167313\");\nif(warn) {\n    warn.parentNode.removeChild(warn);\n}\n$3Dmolpromise.then(function() {\nviewer_1717336096167313 = $3Dmol.createViewer(document.getElementById(\"3dmolviewer_1717336096167313\"),{backgroundColor:\"white\"});\nviewer_1717336096167313.zoomTo();\n\tviewer_1717336096167313.addModel(\"17\\nH10 C5 O2\\nC -0.027676 -0.188012 -0.102456\\nC -0.611776 -1.331251 -0.901256\\nC -0.923518 1.521083 0.644702\\nC -0.708586 0.139851 1.261949\\nC 1.516195 -0.226034 -0.059379\\nH -0.473639 -2.278202 -0.361994\\nH -0.070856 0.098038 2.149904\\nH 1.606694 0.712155 -1.747852\\nH -0.323162 2.343730 1.071881\\nH -1.634586 -0.428819 1.444838\\nH -1.679005 -1.199225 -1.071335\\nH 1.858494 -1.218096 0.292804\\nH -0.107053 -1.420076 -1.859359\\nH -1.957660 1.856571 0.569219\\nH 1.877345 0.504821 0.656903\\nO -0.426316 1.114750 -0.663238\\nO 2.085107 -0.001301 -1.325298\",\"xyz\");\n\tviewer_1717336096167313.setStyle({\"sphere\": {\"scale\": 0.35}, \"stick\": {\"radius\": 0.2}});\n\tviewer_1717336096167313.zoomTo();\nviewer_1717336096167313.render();\n});\n</script>",
      "text/html": [
       "<div id=\"3dmolviewer_1717336096167313\"  style=\"position: relative; width: 800px; height: 400px;\">\n",
       "        <p id=\"3dmolwarning_1717336096167313\" style=\"background-color:#ffcccc;color:black\">3Dmol.js failed to load for some reason.  Please check your browser console for error messages.<br></p>\n",
       "        </div>\n",
       "<script>\n",
       "\n",
       "var loadScriptAsync = function(uri){\n",
       "  return new Promise((resolve, reject) => {\n",
       "    //this is to ignore the existence of requirejs amd\n",
       "    var savedexports, savedmodule;\n",
       "    if (typeof exports !== 'undefined') savedexports = exports;\n",
       "    else exports = {}\n",
       "    if (typeof module !== 'undefined') savedmodule = module;\n",
       "    else module = {}\n",
       "\n",
       "    var tag = document.createElement('script');\n",
       "    tag.src = uri;\n",
       "    tag.async = true;\n",
       "    tag.onload = () => {\n",
       "        exports = savedexports;\n",
       "        module = savedmodule;\n",
       "        resolve();\n",
       "    };\n",
       "  var firstScriptTag = document.getElementsByTagName('script')[0];\n",
       "  firstScriptTag.parentNode.insertBefore(tag, firstScriptTag);\n",
       "});\n",
       "};\n",
       "\n",
       "if(typeof $3Dmolpromise === 'undefined') {\n",
       "$3Dmolpromise = null;\n",
       "  $3Dmolpromise = loadScriptAsync('https://cdnjs.cloudflare.com/ajax/libs/3Dmol/2.1.0/3Dmol-min.js');\n",
       "}\n",
       "\n",
       "var viewer_1717336096167313 = null;\n",
       "var warn = document.getElementById(\"3dmolwarning_1717336096167313\");\n",
       "if(warn) {\n",
       "    warn.parentNode.removeChild(warn);\n",
       "}\n",
       "$3Dmolpromise.then(function() {\n",
       "viewer_1717336096167313 = $3Dmol.createViewer(document.getElementById(\"3dmolviewer_1717336096167313\"),{backgroundColor:\"white\"});\n",
       "viewer_1717336096167313.zoomTo();\n",
       "\tviewer_1717336096167313.addModel(\"17\\nH10 C5 O2\\nC -0.027676 -0.188012 -0.102456\\nC -0.611776 -1.331251 -0.901256\\nC -0.923518 1.521083 0.644702\\nC -0.708586 0.139851 1.261949\\nC 1.516195 -0.226034 -0.059379\\nH -0.473639 -2.278202 -0.361994\\nH -0.070856 0.098038 2.149904\\nH 1.606694 0.712155 -1.747852\\nH -0.323162 2.343730 1.071881\\nH -1.634586 -0.428819 1.444838\\nH -1.679005 -1.199225 -1.071335\\nH 1.858494 -1.218096 0.292804\\nH -0.107053 -1.420076 -1.859359\\nH -1.957660 1.856571 0.569219\\nH 1.877345 0.504821 0.656903\\nO -0.426316 1.114750 -0.663238\\nO 2.085107 -0.001301 -1.325298\",\"xyz\");\n",
       "\tviewer_1717336096167313.setStyle({\"sphere\": {\"scale\": 0.35}, \"stick\": {\"radius\": 0.2}});\n",
       "\tviewer_1717336096167313.zoomTo();\n",
       "viewer_1717336096167313.render();\n",
       "});\n",
       "</script>"
      ]
     },
     "metadata": {},
     "output_type": "display_data"
    },
    {
     "data": {
      "application/3dmoljs_load.v0": "<div id=\"3dmolviewer_17173360961679378\"  style=\"position: relative; width: 800px; height: 400px;\">\n        <p id=\"3dmolwarning_17173360961679378\" style=\"background-color:#ffcccc;color:black\">3Dmol.js failed to load for some reason.  Please check your browser console for error messages.<br></p>\n        </div>\n<script>\n\nvar loadScriptAsync = function(uri){\n  return new Promise((resolve, reject) => {\n    //this is to ignore the existence of requirejs amd\n    var savedexports, savedmodule;\n    if (typeof exports !== 'undefined') savedexports = exports;\n    else exports = {}\n    if (typeof module !== 'undefined') savedmodule = module;\n    else module = {}\n\n    var tag = document.createElement('script');\n    tag.src = uri;\n    tag.async = true;\n    tag.onload = () => {\n        exports = savedexports;\n        module = savedmodule;\n        resolve();\n    };\n  var firstScriptTag = document.getElementsByTagName('script')[0];\n  firstScriptTag.parentNode.insertBefore(tag, firstScriptTag);\n});\n};\n\nif(typeof $3Dmolpromise === 'undefined') {\n$3Dmolpromise = null;\n  $3Dmolpromise = loadScriptAsync('https://cdnjs.cloudflare.com/ajax/libs/3Dmol/2.1.0/3Dmol-min.js');\n}\n\nvar viewer_17173360961679378 = null;\nvar warn = document.getElementById(\"3dmolwarning_17173360961679378\");\nif(warn) {\n    warn.parentNode.removeChild(warn);\n}\n$3Dmolpromise.then(function() {\nviewer_17173360961679378 = $3Dmol.createViewer(document.getElementById(\"3dmolviewer_17173360961679378\"),{backgroundColor:\"white\"});\nviewer_17173360961679378.zoomTo();\n\tviewer_17173360961679378.addModel(\"17\\nH10 C5 O2\\nC 0.919221 -1.357757 2.365171\\nC 0.000629 -0.036655 0.642459\\nC -1.649833 0.875457 -1.046516\\nC -0.379801 0.031198 -0.834311\\nC 0.796206 0.595079 -1.640029\\nH 1.758987 -0.683272 2.543576\\nH -1.899305 0.946439 -2.113223\\nH 1.234054 -2.394586 2.492998\\nH 0.565742 0.630177 -2.699579\\nH -0.576434 -0.993160 -1.180351\\nH -2.503495 0.412374 -0.533306\\nH 1.047641 1.596445 -1.297860\\nH 1.690033 -0.037751 -1.498976\\nH -1.511881 1.870329 -0.651222\\nH 0.104886 -1.124042 3.048084\\nO 0.470200 -1.244736 0.991353\\nO -0.066856 0.914478 1.411711\",\"xyz\");\n\tviewer_17173360961679378.setStyle({\"sphere\": {\"scale\": 0.35}, \"stick\": {\"radius\": 0.2}});\n\tviewer_17173360961679378.zoomTo();\nviewer_17173360961679378.render();\n});\n</script>",
      "text/html": [
       "<div id=\"3dmolviewer_17173360961679378\"  style=\"position: relative; width: 800px; height: 400px;\">\n",
       "        <p id=\"3dmolwarning_17173360961679378\" style=\"background-color:#ffcccc;color:black\">3Dmol.js failed to load for some reason.  Please check your browser console for error messages.<br></p>\n",
       "        </div>\n",
       "<script>\n",
       "\n",
       "var loadScriptAsync = function(uri){\n",
       "  return new Promise((resolve, reject) => {\n",
       "    //this is to ignore the existence of requirejs amd\n",
       "    var savedexports, savedmodule;\n",
       "    if (typeof exports !== 'undefined') savedexports = exports;\n",
       "    else exports = {}\n",
       "    if (typeof module !== 'undefined') savedmodule = module;\n",
       "    else module = {}\n",
       "\n",
       "    var tag = document.createElement('script');\n",
       "    tag.src = uri;\n",
       "    tag.async = true;\n",
       "    tag.onload = () => {\n",
       "        exports = savedexports;\n",
       "        module = savedmodule;\n",
       "        resolve();\n",
       "    };\n",
       "  var firstScriptTag = document.getElementsByTagName('script')[0];\n",
       "  firstScriptTag.parentNode.insertBefore(tag, firstScriptTag);\n",
       "});\n",
       "};\n",
       "\n",
       "if(typeof $3Dmolpromise === 'undefined') {\n",
       "$3Dmolpromise = null;\n",
       "  $3Dmolpromise = loadScriptAsync('https://cdnjs.cloudflare.com/ajax/libs/3Dmol/2.1.0/3Dmol-min.js');\n",
       "}\n",
       "\n",
       "var viewer_17173360961679378 = null;\n",
       "var warn = document.getElementById(\"3dmolwarning_17173360961679378\");\n",
       "if(warn) {\n",
       "    warn.parentNode.removeChild(warn);\n",
       "}\n",
       "$3Dmolpromise.then(function() {\n",
       "viewer_17173360961679378 = $3Dmol.createViewer(document.getElementById(\"3dmolviewer_17173360961679378\"),{backgroundColor:\"white\"});\n",
       "viewer_17173360961679378.zoomTo();\n",
       "\tviewer_17173360961679378.addModel(\"17\\nH10 C5 O2\\nC 0.919221 -1.357757 2.365171\\nC 0.000629 -0.036655 0.642459\\nC -1.649833 0.875457 -1.046516\\nC -0.379801 0.031198 -0.834311\\nC 0.796206 0.595079 -1.640029\\nH 1.758987 -0.683272 2.543576\\nH -1.899305 0.946439 -2.113223\\nH 1.234054 -2.394586 2.492998\\nH 0.565742 0.630177 -2.699579\\nH -0.576434 -0.993160 -1.180351\\nH -2.503495 0.412374 -0.533306\\nH 1.047641 1.596445 -1.297860\\nH 1.690033 -0.037751 -1.498976\\nH -1.511881 1.870329 -0.651222\\nH 0.104886 -1.124042 3.048084\\nO 0.470200 -1.244736 0.991353\\nO -0.066856 0.914478 1.411711\",\"xyz\");\n",
       "\tviewer_17173360961679378.setStyle({\"sphere\": {\"scale\": 0.35}, \"stick\": {\"radius\": 0.2}});\n",
       "\tviewer_17173360961679378.zoomTo();\n",
       "viewer_17173360961679378.render();\n",
       "});\n",
       "</script>"
      ]
     },
     "metadata": {},
     "output_type": "display_data"
    },
    {
     "data": {
      "application/3dmoljs_load.v0": "<div id=\"3dmolviewer_17173360961685734\"  style=\"position: relative; width: 800px; height: 400px;\">\n        <p id=\"3dmolwarning_17173360961685734\" style=\"background-color:#ffcccc;color:black\">3Dmol.js failed to load for some reason.  Please check your browser console for error messages.<br></p>\n        </div>\n<script>\n\nvar loadScriptAsync = function(uri){\n  return new Promise((resolve, reject) => {\n    //this is to ignore the existence of requirejs amd\n    var savedexports, savedmodule;\n    if (typeof exports !== 'undefined') savedexports = exports;\n    else exports = {}\n    if (typeof module !== 'undefined') savedmodule = module;\n    else module = {}\n\n    var tag = document.createElement('script');\n    tag.src = uri;\n    tag.async = true;\n    tag.onload = () => {\n        exports = savedexports;\n        module = savedmodule;\n        resolve();\n    };\n  var firstScriptTag = document.getElementsByTagName('script')[0];\n  firstScriptTag.parentNode.insertBefore(tag, firstScriptTag);\n});\n};\n\nif(typeof $3Dmolpromise === 'undefined') {\n$3Dmolpromise = null;\n  $3Dmolpromise = loadScriptAsync('https://cdnjs.cloudflare.com/ajax/libs/3Dmol/2.1.0/3Dmol-min.js');\n}\n\nvar viewer_17173360961685734 = null;\nvar warn = document.getElementById(\"3dmolwarning_17173360961685734\");\nif(warn) {\n    warn.parentNode.removeChild(warn);\n}\n$3Dmolpromise.then(function() {\nviewer_17173360961685734 = $3Dmol.createViewer(document.getElementById(\"3dmolviewer_17173360961685734\"),{backgroundColor:\"white\"});\nviewer_17173360961685734.zoomTo();\n\tviewer_17173360961685734.addModel(\"17\\nH10 C5 O2\\nC 0.186563 1.291883 -0.803631\\nC -0.250004 1.366996 0.658227\\nC 0.925244 -1.781729 -0.797504\\nC -1.641364 0.908680 1.049816\\nC 0.785579 0.366058 0.212529\\nH 0.798073 2.100610 -1.211340\\nH 0.522385 -1.408274 -1.771597\\nH -1.650884 0.622223 2.113600\\nH -0.527565 0.899240 -1.501252\\nH -1.974701 0.054412 0.446683\\nH 0.171551 2.212567 1.231475\\nH 1.825762 0.536938 0.488587\\nH 2.030156 -1.694251 -0.843483\\nH -2.351619 1.727985 0.911142\\nH 0.150607 -3.088315 0.185138\\nO 0.422853 -1.009677 0.263769\\nO 0.577380 -3.105326 -0.632168\",\"xyz\");\n\tviewer_17173360961685734.setStyle({\"sphere\": {\"scale\": 0.35}, \"stick\": {\"radius\": 0.2}});\n\tviewer_17173360961685734.zoomTo();\nviewer_17173360961685734.render();\n});\n</script>",
      "text/html": [
       "<div id=\"3dmolviewer_17173360961685734\"  style=\"position: relative; width: 800px; height: 400px;\">\n",
       "        <p id=\"3dmolwarning_17173360961685734\" style=\"background-color:#ffcccc;color:black\">3Dmol.js failed to load for some reason.  Please check your browser console for error messages.<br></p>\n",
       "        </div>\n",
       "<script>\n",
       "\n",
       "var loadScriptAsync = function(uri){\n",
       "  return new Promise((resolve, reject) => {\n",
       "    //this is to ignore the existence of requirejs amd\n",
       "    var savedexports, savedmodule;\n",
       "    if (typeof exports !== 'undefined') savedexports = exports;\n",
       "    else exports = {}\n",
       "    if (typeof module !== 'undefined') savedmodule = module;\n",
       "    else module = {}\n",
       "\n",
       "    var tag = document.createElement('script');\n",
       "    tag.src = uri;\n",
       "    tag.async = true;\n",
       "    tag.onload = () => {\n",
       "        exports = savedexports;\n",
       "        module = savedmodule;\n",
       "        resolve();\n",
       "    };\n",
       "  var firstScriptTag = document.getElementsByTagName('script')[0];\n",
       "  firstScriptTag.parentNode.insertBefore(tag, firstScriptTag);\n",
       "});\n",
       "};\n",
       "\n",
       "if(typeof $3Dmolpromise === 'undefined') {\n",
       "$3Dmolpromise = null;\n",
       "  $3Dmolpromise = loadScriptAsync('https://cdnjs.cloudflare.com/ajax/libs/3Dmol/2.1.0/3Dmol-min.js');\n",
       "}\n",
       "\n",
       "var viewer_17173360961685734 = null;\n",
       "var warn = document.getElementById(\"3dmolwarning_17173360961685734\");\n",
       "if(warn) {\n",
       "    warn.parentNode.removeChild(warn);\n",
       "}\n",
       "$3Dmolpromise.then(function() {\n",
       "viewer_17173360961685734 = $3Dmol.createViewer(document.getElementById(\"3dmolviewer_17173360961685734\"),{backgroundColor:\"white\"});\n",
       "viewer_17173360961685734.zoomTo();\n",
       "\tviewer_17173360961685734.addModel(\"17\\nH10 C5 O2\\nC 0.186563 1.291883 -0.803631\\nC -0.250004 1.366996 0.658227\\nC 0.925244 -1.781729 -0.797504\\nC -1.641364 0.908680 1.049816\\nC 0.785579 0.366058 0.212529\\nH 0.798073 2.100610 -1.211340\\nH 0.522385 -1.408274 -1.771597\\nH -1.650884 0.622223 2.113600\\nH -0.527565 0.899240 -1.501252\\nH -1.974701 0.054412 0.446683\\nH 0.171551 2.212567 1.231475\\nH 1.825762 0.536938 0.488587\\nH 2.030156 -1.694251 -0.843483\\nH -2.351619 1.727985 0.911142\\nH 0.150607 -3.088315 0.185138\\nO 0.422853 -1.009677 0.263769\\nO 0.577380 -3.105326 -0.632168\",\"xyz\");\n",
       "\tviewer_17173360961685734.setStyle({\"sphere\": {\"scale\": 0.35}, \"stick\": {\"radius\": 0.2}});\n",
       "\tviewer_17173360961685734.zoomTo();\n",
       "viewer_17173360961685734.render();\n",
       "});\n",
       "</script>"
      ]
     },
     "metadata": {},
     "output_type": "display_data"
    },
    {
     "data": {
      "application/3dmoljs_load.v0": "<div id=\"3dmolviewer_17173360961690764\"  style=\"position: relative; width: 800px; height: 400px;\">\n        <p id=\"3dmolwarning_17173360961690764\" style=\"background-color:#ffcccc;color:black\">3Dmol.js failed to load for some reason.  Please check your browser console for error messages.<br></p>\n        </div>\n<script>\n\nvar loadScriptAsync = function(uri){\n  return new Promise((resolve, reject) => {\n    //this is to ignore the existence of requirejs amd\n    var savedexports, savedmodule;\n    if (typeof exports !== 'undefined') savedexports = exports;\n    else exports = {}\n    if (typeof module !== 'undefined') savedmodule = module;\n    else module = {}\n\n    var tag = document.createElement('script');\n    tag.src = uri;\n    tag.async = true;\n    tag.onload = () => {\n        exports = savedexports;\n        module = savedmodule;\n        resolve();\n    };\n  var firstScriptTag = document.getElementsByTagName('script')[0];\n  firstScriptTag.parentNode.insertBefore(tag, firstScriptTag);\n});\n};\n\nif(typeof $3Dmolpromise === 'undefined') {\n$3Dmolpromise = null;\n  $3Dmolpromise = loadScriptAsync('https://cdnjs.cloudflare.com/ajax/libs/3Dmol/2.1.0/3Dmol-min.js');\n}\n\nvar viewer_17173360961690764 = null;\nvar warn = document.getElementById(\"3dmolwarning_17173360961690764\");\nif(warn) {\n    warn.parentNode.removeChild(warn);\n}\n$3Dmolpromise.then(function() {\nviewer_17173360961690764 = $3Dmol.createViewer(document.getElementById(\"3dmolviewer_17173360961690764\"),{backgroundColor:\"white\"});\nviewer_17173360961690764.zoomTo();\n\tviewer_17173360961690764.addModel(\"17\\nH10 C5 O2\\nC -1.423357 -1.180452 -1.525003\\nC 0.018588 1.478472 -0.581417\\nC 0.349985 -0.017165 -0.478464\\nC 1.054788 0.400590 0.810279\\nC 0.661473 -0.248824 2.123488\\nH -1.060689 1.725786 -0.629552\\nH 1.043108 0.331267 2.957509\\nH -0.780468 -1.750601 -2.201784\\nH -0.421991 -0.331496 2.190396\\nH 1.095948 -1.267594 2.189503\\nH 0.992887 -0.406458 -1.269053\\nH 0.536050 2.020249 -1.399019\\nH 2.161110 0.378313 0.694682\\nH -1.750427 -0.263550 -2.033502\\nH -2.311236 -1.758503 -1.261503\\nO 0.594503 1.767293 0.700722\\nO -0.760275 -0.877297 -0.287277\",\"xyz\");\n\tviewer_17173360961690764.setStyle({\"sphere\": {\"scale\": 0.35}, \"stick\": {\"radius\": 0.2}});\n\tviewer_17173360961690764.zoomTo();\nviewer_17173360961690764.render();\n});\n</script>",
      "text/html": [
       "<div id=\"3dmolviewer_17173360961690764\"  style=\"position: relative; width: 800px; height: 400px;\">\n",
       "        <p id=\"3dmolwarning_17173360961690764\" style=\"background-color:#ffcccc;color:black\">3Dmol.js failed to load for some reason.  Please check your browser console for error messages.<br></p>\n",
       "        </div>\n",
       "<script>\n",
       "\n",
       "var loadScriptAsync = function(uri){\n",
       "  return new Promise((resolve, reject) => {\n",
       "    //this is to ignore the existence of requirejs amd\n",
       "    var savedexports, savedmodule;\n",
       "    if (typeof exports !== 'undefined') savedexports = exports;\n",
       "    else exports = {}\n",
       "    if (typeof module !== 'undefined') savedmodule = module;\n",
       "    else module = {}\n",
       "\n",
       "    var tag = document.createElement('script');\n",
       "    tag.src = uri;\n",
       "    tag.async = true;\n",
       "    tag.onload = () => {\n",
       "        exports = savedexports;\n",
       "        module = savedmodule;\n",
       "        resolve();\n",
       "    };\n",
       "  var firstScriptTag = document.getElementsByTagName('script')[0];\n",
       "  firstScriptTag.parentNode.insertBefore(tag, firstScriptTag);\n",
       "});\n",
       "};\n",
       "\n",
       "if(typeof $3Dmolpromise === 'undefined') {\n",
       "$3Dmolpromise = null;\n",
       "  $3Dmolpromise = loadScriptAsync('https://cdnjs.cloudflare.com/ajax/libs/3Dmol/2.1.0/3Dmol-min.js');\n",
       "}\n",
       "\n",
       "var viewer_17173360961690764 = null;\n",
       "var warn = document.getElementById(\"3dmolwarning_17173360961690764\");\n",
       "if(warn) {\n",
       "    warn.parentNode.removeChild(warn);\n",
       "}\n",
       "$3Dmolpromise.then(function() {\n",
       "viewer_17173360961690764 = $3Dmol.createViewer(document.getElementById(\"3dmolviewer_17173360961690764\"),{backgroundColor:\"white\"});\n",
       "viewer_17173360961690764.zoomTo();\n",
       "\tviewer_17173360961690764.addModel(\"17\\nH10 C5 O2\\nC -1.423357 -1.180452 -1.525003\\nC 0.018588 1.478472 -0.581417\\nC 0.349985 -0.017165 -0.478464\\nC 1.054788 0.400590 0.810279\\nC 0.661473 -0.248824 2.123488\\nH -1.060689 1.725786 -0.629552\\nH 1.043108 0.331267 2.957509\\nH -0.780468 -1.750601 -2.201784\\nH -0.421991 -0.331496 2.190396\\nH 1.095948 -1.267594 2.189503\\nH 0.992887 -0.406458 -1.269053\\nH 0.536050 2.020249 -1.399019\\nH 2.161110 0.378313 0.694682\\nH -1.750427 -0.263550 -2.033502\\nH -2.311236 -1.758503 -1.261503\\nO 0.594503 1.767293 0.700722\\nO -0.760275 -0.877297 -0.287277\",\"xyz\");\n",
       "\tviewer_17173360961690764.setStyle({\"sphere\": {\"scale\": 0.35}, \"stick\": {\"radius\": 0.2}});\n",
       "\tviewer_17173360961690764.zoomTo();\n",
       "viewer_17173360961690764.render();\n",
       "});\n",
       "</script>"
      ]
     },
     "metadata": {},
     "output_type": "display_data"
    }
   ],
   "source": [
    "from model.visualize import draw_mol\n",
    "\n",
    "for i in range(4):\n",
    "    draw_mol(f'./demo/{time_point}/mol_{i}.xyz')"
   ]
  },
  {
   "cell_type": "markdown",
   "metadata": {},
   "source": [
    "The results show that our model can generate diverse and stable structures. All molecules satisfy Lewis' rule and conform to chemical intuition."
   ]
  }
 ],
 "metadata": {
  "kernelspec": {
   "display_name": "pl_pyg",
   "language": "python",
   "name": "python3"
  },
  "language_info": {
   "codemirror_mode": {
    "name": "ipython",
    "version": 3
   },
   "file_extension": ".py",
   "mimetype": "text/x-python",
   "name": "python",
   "nbconvert_exporter": "python",
   "pygments_lexer": "ipython3",
   "version": "3.11.9"
  }
 },
 "nbformat": 4,
 "nbformat_minor": 2
}
