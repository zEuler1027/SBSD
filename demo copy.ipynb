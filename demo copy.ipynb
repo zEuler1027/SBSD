{
 "cells": [
  {
   "cell_type": "markdown",
   "metadata": {},
   "source": [
    "# Score based diffusion model for molecule generation."
   ]
  },
  {
   "cell_type": "markdown",
   "metadata": {},
   "source": [
    "# 1. Project Overview\n",
    "\n",
    "We are leveraging a score-based Stochastic Differential Equation (SDE) diffusion generative model to achieve stable molecular conformation generation. The project uses the QM9 dataset, which includes 100,000 stable molecular conformations, represented by atomic numbers and Cartesian coordinates. Our approach focuses on the Variance Exploding Stochastic Differential Equation (VE-SDE) for model training, combined with the trainable equivariant graph neural network PaiNN to predict reverse SDE scores effectively.\n",
    "\n",
    "The training process spans a total of 8 hours over 500 epochs on a single RTX 4090 GPU, ensuring a robust and efficient model. After completing the training, we employ the Euler-Maruyama method for reverse inference, facilitating the generation of molecular conformations.\n",
    "\n",
    "Our method can generate stable conformations for given molecular compositions, demonstrating significant stability and chemical relevance. To verify the chemical validity of the generated molecules, we use the open-source library Open Babel to convert the generated structures into SMILES notation. This process confirms that the majority of the generated molecules are both stable and chemically meaningful, showcasing the potential of our approach in practical applications.\n",
    "\n",
    "In summary, our project successfully integrates advanced deep generative model with molecular science, providing a powerful tool for generating and analyzing stable molecular conformations with high accuracy and efficiency."
   ]
  },
  {
   "cell_type": "markdown",
   "metadata": {},
   "source": [
    "# 2. Itroduction of Score-Based Diffusion Modeling through Stochastic Differential Equations."
   ]
  },
  {
   "cell_type": "markdown",
   "metadata": {},
   "source": [
    "Diffusion model is a kind of generative model, which has gained extensive attention in generating high-quality samples in recent years.  They use the principle of diffusion process to generate complex data distribution from simple noise distribution by way of gradual de-noising. Diffusion generative models can be primarily divided into three categories: Score Matching with Langevin Dynamics (SMLD), Denoising Diffusion Probabilistic Models (DDPM), and Score-based Generative Model (SGM). Here, we primarily use SGM, precisely VESDE."
   ]
  },
  {
   "cell_type": "markdown",
   "metadata": {},
   "source": [
    "### *Variance Exploding Stochastic Differential Equation (VESDE) Diffusion*\n",
    "\n",
    "Variance Exploding Stochastic Differential Equations (VESDE) diffusion models are a class of score-based generative models. These models leverage the principles of stochastic processes, particularly stochastic differential equations (SDEs), to model the evolution of data points over continuous time. (Song, Yang, et al. \"Score-based generative modeling through stochastic differential equations.\" arXiv preprint arXiv:2011.13456 (2020).)\n",
    "\n",
    "### *Core Concept*\n",
    "\n",
    "At the heart of VESDE diffusion is the idea of modeling the data distribution as a process that evolves over time according to a stochastic differential equation. This evolution is characterized by the variance of the data points increasing (or \"exploding\") as time progresses, which is a key feature distinguishing VESDE from other types of SDE-based models like Variance Preserving SDE (VPSDE).\n",
    "\n",
    "### *Mathematical Formulation*\n",
    "\n",
    "The VESDE can be defined by the following SDE:\n",
    "\n",
    "$$dx_{t} = f(x_t, t)dt + g(t)dW_t$$\n",
    "\n",
    "where:\n",
    "\n",
    "- $x_t$ represents the data point at time $t$\n",
    "- $f(x_t, t)$ is the drift term that dictates the deterministic part of the evolution.\n",
    "- $g(t)$ is the diffusion term that controls the magnitude of the stochastic component.\n",
    "- $W_t$ is a standard Wiener process (also known as Brownian motion).\n",
    "\n",
    "### *Training and Sampling*\n",
    "\n",
    "Training a VESDE model involves learning to reverse this diffusion process. During training, the model is trained to denoise corrupted data samples, effectively learning the reverse dynamics of the SDE. This reverse process can be described by the reverse-time SDE, which can be solved using techniques like the Euler-Maruyama method.\n",
    "\n",
    "Once trained, sampling from a VESDE model involves simulating the reverse-time SDE starting from a noise distribution (typically Gaussian noise) and evolving it backward in time to obtain a sample from the learned data distribution.\n",
    "\n",
    "### *Molecule Generation*\n",
    "\n",
    "The coordinate space of the molecule is a continuous space, so we want to use the diffusion model to generate the three-dimensional conformation of the molecule.\n",
    "\n",
    "Here is the main code for the socre-based model:"
   ]
  },
  {
   "cell_type": "markdown",
   "metadata": {},
   "source": [
    "```python\n",
    "class VESDE(torch.nn.Module):\n",
    "    def __init__(\n",
    "        self,\n",
    "        score_model: torch.nn.Module,\n",
    "        schedule: DiffSchedule,\n",
    ") -> None:\n",
    "        super().__init__()\n",
    "        self.score_model = score_model\n",
    "        self.schedule = schedule\n",
    "        \n",
    "    def forward(self, pos, atomic_numbers, mask):\n",
    "        t = self.schedule(mask)\n",
    "        pos_dim = pos.shape[-1]\n",
    "        nodes_mask = get_batch_mask_for_nodes(mask)\n",
    "        edge_index = get_full_edges_index(nodes_mask, remove_self_edge=False)\n",
    "\n",
    "        # sample zero CoM noise\n",
    "        noise = sample_center_gravity_zero_gaussian_batch(\n",
    "            (pos.shape[0], pos_dim), nodes_mask\n",
    "        )\n",
    "        nodes_t = t[nodes_mask]\n",
    "        std = self.schedule.marginal_prob_std(nodes_t)\n",
    "        perturbed_pos = pos + noise * std[:, None]\n",
    "        \n",
    "        # compute score\n",
    "        score = self.score_model(atomic_numbers, nodes_t, perturbed_pos, edge_index)\n",
    "        score = score / std[:, None] # normalize score\n",
    "        if torch.any(torch.isnan(score)):\n",
    "            print('nan in score, resetting to randn')\n",
    "            score = torch.randn_like(score, requires_grad=True)\n",
    "        score = remove_mean_batch(score, nodes_mask)\n",
    "        \n",
    "        l2loss = torch.mean(torch.sum((score * std[:, None] + noise)**2, dim=-1))\n",
    "        return l2loss\n",
    "\n",
    "    @torch.no_grad()\n",
    "    def sample(\n",
    "        self,\n",
    "        atomic_numbers: torch.Tensor,\n",
    "        mask: torch.Tensor,\n",
    "        num_steps: int=500,\n",
    "        t_mode: str='linear',\n",
    "    )-> Tuple[torch.Tensor, List[torch.Tensor]]:\n",
    "        '''\n",
    "        Sample a mols and return the trajectory using Euler Maruyama sampler.\n",
    "        '''\n",
    "        device = atomic_numbers.device\n",
    "        pos_shape = [atomic_numbers.size(0), 3]\n",
    "        t = torch.ones(len(atomic_numbers), device=atomic_numbers.device)\n",
    "        nodes_mask = get_batch_mask_for_nodes(mask)\n",
    "        \n",
    "        # sample zero CoM noise as initial position\n",
    "        init_com = sample_center_gravity_zero_gaussian_batch(\n",
    "            (pos_shape[0], pos_shape[1]), nodes_mask\n",
    "        )\n",
    "        init_pos = init_com * self.schedule.marginal_prob_std(t)[:, None]\n",
    "        edge_index = get_full_edges_index(nodes_mask, remove_self_edge=False)\n",
    "        num_steps = torch.tensor(num_steps, device=device)\n",
    "        time_steps = self.schedule.sample_t(num_steps, mode=t_mode)\n",
    "        step_sizes = torch.cat((-torch.diff(time_steps), time_steps[-1].unsqueeze(0)))\n",
    "        \n",
    "        # sample batch of mols\n",
    "        pos = init_pos\n",
    "        trajs = []\n",
    "        for time_step, step_size in zip(time_steps, step_sizes):\n",
    "            batch_time_step = torch.ones(pos.size(0), device=device) * time_step\n",
    "            g = self.schedule.diffusion_coeff(batch_time_step)\n",
    "            score = self.score_model(atomic_numbers, batch_time_step, pos, edge_index)\n",
    "            \n",
    "            # normalize score\n",
    "            if torch.any(torch.isnan(score)):\n",
    "                print('nan in score, resetting to randn')\n",
    "                score = torch.randn_like(score)\n",
    "            score = score / self.schedule.marginal_prob_std(batch_time_step)[:, None]\n",
    "            score = remove_mean_batch(score, nodes_mask)\n",
    "            mean_pos = pos + (g**2)[:, None] * score * step_size\n",
    "            noise = sample_center_gravity_zero_gaussian_batch(\n",
    "                (pos_shape[0], pos_shape[1]), nodes_mask\n",
    "            )\n",
    "            pos = mean_pos + torch.sqrt(step_size) * g[:, None] * noise\n",
    "            trajs.append(mean_pos)\n",
    "        return mean_pos, trajs\n",
    "```"
   ]
  },
  {
   "cell_type": "markdown",
   "metadata": {},
   "source": [
    "# 3. Equivariant Graph Neural Networks."
   ]
  },
  {
   "cell_type": "markdown",
   "metadata": {},
   "source": [
    "Equivariant Graph Neural Networks (EGNNs) are a class of specially designed Graph Neural Networks that are equivariant under certain transformations of graphs (such as rotation, translation, reflection, etc.). This means that if these transformations are made to the input graph, the output of the model will undergo the same transformation accordingly. This property is especially useful when dealing with tasks with spatial symmetries (such as molecular modeling, physical simulations, etc.), as it guarantees that the model is invariant or isotropic to these transformations and is able to better capture and exploit the symmetries in the data.\n",
    "\n",
    "PaiNN (Polarizable atom interaction neural network) is a equivariant graph neural network specifically designed for molecular modeling and prediction. PaiNN's design philosophy aims to incorporate interaction models from physics to better predict the physical and chemical properties of molecules. (Schütt, Kristof, Oliver Unke, and Michael Gastegger. \"Equivariant message passing for the prediction of tensorial properties and molecular spectra.\" International Conference on Machine Learning. PMLR, 2021.)\n",
    "\n",
    "We need a neural network to fit the noise in diffusion models, and since molecules can naturally be represented as graphs, we will use the equivariant PaiNN as our graph neural network for training. \n",
    "\n",
    "Let's verify the equivariance of PaiNN:"
   ]
  },
  {
   "cell_type": "code",
   "execution_count": 1,
   "metadata": {},
   "outputs": [
    {
     "name": "stderr",
     "output_type": "stream",
     "text": [
      "/home/xmcao/.conda/envs/install/envs/pl_pyg/lib/python3.11/site-packages/torch_geometric/typing.py:54: UserWarning: An issue occurred while importing 'pyg-lib'. Disabling its usage. Stacktrace: /lib64/libm.so.6: version `GLIBC_2.29' not found (required by /home/xmcao/.conda/envs/install/envs/pl_pyg/lib/python3.11/site-packages/libpyg.so)\n",
      "  warnings.warn(f\"An issue occurred while importing 'pyg-lib'. \"\n",
      "/home/xmcao/.conda/envs/install/envs/pl_pyg/lib/python3.11/site-packages/torch_geometric/typing.py:110: UserWarning: An issue occurred while importing 'torch-sparse'. Disabling its usage. Stacktrace: /lib64/libm.so.6: version `GLIBC_2.29' not found (required by /home/xmcao/.conda/envs/install/envs/pl_pyg/lib/python3.11/site-packages/libpyg.so)\n",
      "  warnings.warn(f\"An issue occurred while importing 'torch-sparse'. \"\n",
      "/home/xmcao/.conda/envs/install/envs/pl_pyg/lib/python3.11/site-packages/torch/cuda/__init__.py:619: UserWarning: Can't initialize NVML\n",
      "  warnings.warn(\"Can't initialize NVML\")\n",
      "/home/xmcao/.conda/envs/install/envs/pl_pyg/lib/python3.11/site-packages/torch/cuda/__init__.py:749: UserWarning: CUDA initialization: The NVIDIA driver on your system is too old (found version 11070). Please update your GPU driver by downloading and installing a new version from the URL: http://www.nvidia.com/Download/index.aspx Alternatively, go to: https://pytorch.org to install a PyTorch version that has been compiled with your version of the CUDA driver. (Triggered internally at ../c10/cuda/CUDAFunctions.cpp:108.)\n",
      "  return torch._C._cuda_getDeviceCount() if nvml_count < 0 else nvml_count\n"
     ]
    },
    {
     "name": "stdout",
     "output_type": "stream",
     "text": [
      "The molecular input to the model rotates, and the output should rotate simultaneously. \n",
      "So this number should be zero: tensor(1.0550e-10, grad_fn=<MaxBackward1>)\n"
     ]
    }
   ],
   "source": [
    "import torch\n",
    "from model.painn import PaiNN\n",
    "\n",
    "model = PaiNN()\n",
    "atomic_numbers = torch.tensor([1, 6, 6, 1, 1, 1, 1, 1, 1], dtype=torch.long) # H, C, C, H, H, H, H, H, H\n",
    "t = torch.tensor([0.4, 0.4, 0.4, 0.4, 0.4, 0.4, 0.4, 0.4, 0.4], dtype=torch.float) # random time\n",
    "from torch_geometric.nn import radius_graph\n",
    "pos = torch.tensor([[ 0.0072, -0.5687,  0.0000],\n",
    "    [-1.2854,  0.2499,  0.0000],\n",
    "    [ 1.1304,  0.3147,  0.0000],\n",
    "    [ 0.0392, -1.1972,  0.8900],\n",
    "    [ 0.0392, -1.1972, -0.8900],\n",
    "    [-1.3175,  0.8784,  0.8900],\n",
    "    [-1.3175,  0.8784, -0.8900],\n",
    "    [-2.1422, -0.4239,  0.0000],\n",
    "    [ 1.9857, -0.1365,  0.0000]], dtype = torch.float)\n",
    "\n",
    "edge_index = radius_graph(pos, r=1.70, batch=None, loop=False)\n",
    "from e3nn import o3\n",
    "rot = o3.rand_matrix()\n",
    "pos_rot = pos @ rot\n",
    "out_rot = model(atomic_numbers, t, pos, edge_index) @ rot\n",
    "out = model(atomic_numbers, t, pos_rot, edge_index)\n",
    "print('The molecular input to the model rotates, and the output should rotate simultaneously. \\nSo this number should be zero:', (out - out_rot).max())"
   ]
  },
  {
   "cell_type": "code",
   "execution_count": 2,
   "metadata": {},
   "outputs": [
    {
     "name": "stdout",
     "output_type": "stream",
     "text": [
      "PaiNN(\n",
      "  (atom_emb): AtomEmbedding(\n",
      "    (embeddings): Embedding(83, 512)\n",
      "  )\n",
      "  (t_emb): GaussianFourierProjection()\n",
      "  (embedding): Linear(in_features=1024, out_features=512, bias=True)\n",
      "  (radial_basis): RadialBasis(\n",
      "    (envelope): PolynomialEnvelope()\n",
      "    (rbf): GaussianSmearing()\n",
      "  )\n",
      "  (message_layers): ModuleList(\n",
      "    (0-5): 6 x PaiNNMessage()\n",
      "  )\n",
      "  (update_layers): ModuleList(\n",
      "    (0-5): 6 x PaiNNUpdate(\n",
      "      (vec_proj): Linear(in_features=512, out_features=1024, bias=False)\n",
      "      (xvec_proj): Sequential(\n",
      "        (0): Linear(in_features=1024, out_features=512, bias=True)\n",
      "        (1): ScaledSiLU(\n",
      "          (_activation): SiLU()\n",
      "        )\n",
      "        (2): Linear(in_features=512, out_features=1536, bias=True)\n",
      "      )\n",
      "    )\n",
      "  )\n",
      "  (out_xh): Sequential(\n",
      "    (0): Linear(in_features=512, out_features=256, bias=True)\n",
      "    (1): ScaledSiLU(\n",
      "      (_activation): SiLU()\n",
      "    )\n",
      "    (2): Linear(in_features=256, out_features=8, bias=True)\n",
      "  )\n",
      "  (out_dpos): PaiNNOutput(\n",
      "    (output_network): ModuleList(\n",
      "      (0): GatedEquivariantBlock(\n",
      "        (vec1_proj): Linear(in_features=512, out_features=512, bias=False)\n",
      "        (vec2_proj): Linear(in_features=512, out_features=256, bias=False)\n",
      "        (update_net): Sequential(\n",
      "          (0): Linear(in_features=1024, out_features=512, bias=True)\n",
      "          (1): ScaledSiLU(\n",
      "            (_activation): SiLU()\n",
      "          )\n",
      "          (2): Linear(in_features=512, out_features=512, bias=True)\n",
      "        )\n",
      "        (act): ScaledSiLU(\n",
      "          (_activation): SiLU()\n",
      "        )\n",
      "      )\n",
      "      (1): GatedEquivariantBlock(\n",
      "        (vec1_proj): Linear(in_features=256, out_features=256, bias=False)\n",
      "        (vec2_proj): Linear(in_features=256, out_features=1, bias=False)\n",
      "        (update_net): Sequential(\n",
      "          (0): Linear(in_features=512, out_features=256, bias=True)\n",
      "          (1): ScaledSiLU(\n",
      "            (_activation): SiLU()\n",
      "          )\n",
      "          (2): Linear(in_features=256, out_features=2, bias=True)\n",
      "        )\n",
      "        (act): ScaledSiLU(\n",
      "          (_activation): SiLU()\n",
      "        )\n",
      "      )\n",
      "    )\n",
      "  )\n",
      ")\n"
     ]
    }
   ],
   "source": [
    "# print the architecture of PaiNN\n",
    "print(model)"
   ]
  },
  {
   "cell_type": "markdown",
   "metadata": {},
   "source": [
    "# 4. Results"
   ]
  },
  {
   "cell_type": "markdown",
   "metadata": {},
   "source": [
    "Load the trained pytorch lightning model."
   ]
  },
  {
   "cell_type": "code",
   "execution_count": 3,
   "metadata": {},
   "outputs": [],
   "source": [
    "from model.pl import pl_module\n",
    "\n",
    "device = torch.device(\"cuda\" if torch.cuda.is_available() else \"cpu\")\n",
    "lightning_module = pl_module.load_from_checkpoint(\n",
    "    checkpoint_path=\"checkpoint.ckpt\",\n",
    "    map_location=torch.device(device),\n",
    ")"
   ]
  },
  {
   "cell_type": "markdown",
   "metadata": {},
   "source": [
    "Predefine the molecular format with the molecular formula C4H7NO, since graph neural networks are permutation-invariant, the order of the atoms does not matter."
   ]
  },
  {
   "cell_type": "code",
   "execution_count": 4,
   "metadata": {},
   "outputs": [],
   "source": [
    "# Atomic number 6 is carbon, 1 is hydrogen, 7 is nitrogen, 8 is oxygen\n",
    "C6 = torch.tensor([6, 6, 6, 6, 6, 6], dtype=torch.long, device=device)\n",
    "H6 = torch.tensor([1, 1, 1, 1, 1, 1], dtype=torch.long, device=device)\n",
    "\n",
    "atomic_numbers = torch.cat([C6, H6])\n",
    "assert len(atomic_numbers) == 12"
   ]
  },
  {
   "cell_type": "code",
   "execution_count": 5,
   "metadata": {},
   "outputs": [],
   "source": [
    "# Predifine 4 molecules of identical composition\n",
    "atomic_numbers = atomic_numbers.repeat(4, 1).reshape(-1)\n",
    "mask = torch.tensor([12, 12, 12, 12], dtype=torch.long, device=device)\n",
    "assert len(atomic_numbers) == 48"
   ]
  },
  {
   "cell_type": "markdown",
   "metadata": {},
   "source": [
    "Sample molecules from gaussian noise by reversed SDE, using Euler Maruyama sampler."
   ]
  },
  {
   "cell_type": "code",
   "execution_count": 43,
   "metadata": {},
   "outputs": [
    {
     "name": "stdout",
     "output_type": "stream",
     "text": [
      "saved samples to demo/2024-06-05_00-04-45\n"
     ]
    }
   ],
   "source": [
    "from datetime import datetime\n",
    "import os\n",
    "from model.io import write_batch_xyz\n",
    "\n",
    "mols_pos, trajs = lightning_module.en_diffusion.sample(\n",
    "    atomic_numbers,\n",
    "    mask,\n",
    "    num_steps=100,\n",
    "    t_mode='cosine',\n",
    ")\n",
    "\n",
    "time_point = datetime.now().strftime(\"%Y-%m-%d_%H-%M-%S\")\n",
    "save_dir = f'demo/{time_point}'\n",
    "os.makedirs(save_dir, exist_ok=True)\n",
    "write_batch_xyz(save_dir, atomic_numbers, mols_pos, mask)\n",
    "print(f\"saved samples to {save_dir}\")\n"
   ]
  },
  {
   "cell_type": "markdown",
   "metadata": {},
   "source": [
    "The SMILES formula of the generated molecules is automatically identified using openbabel."
   ]
  },
  {
   "cell_type": "code",
   "execution_count": 44,
   "metadata": {},
   "outputs": [],
   "source": [
    "import subprocess\n",
    "\n",
    "smis = []\n",
    "for i in range(4):\n",
    "    smi = subprocess.run(\n",
    "        'obabel ' +  f'./demo/{time_point}/mol_{i}.xyz -osmi',\n",
    "        capture_output=True,\n",
    "        text=True,\n",
    "        shell=True,\n",
    "    ).stdout\n",
    "    smis.append(smi.split('\\t')[0])"
   ]
  },
  {
   "cell_type": "code",
   "execution_count": 45,
   "metadata": {},
   "outputs": [
    {
     "data": {
      "text/plain": [
       "['C(C#CC#C)C', 'c1ccccc1', 'C#CCC#CC', 'C#CC(C#C)C']"
      ]
     },
     "execution_count": 45,
     "metadata": {},
     "output_type": "execute_result"
    }
   ],
   "source": [
    "smis"
   ]
  },
  {
   "cell_type": "markdown",
   "metadata": {},
   "source": [
    "Visualizing molecules."
   ]
  },
  {
   "cell_type": "code",
   "execution_count": 46,
   "metadata": {},
   "outputs": [
    {
     "data": {
      "application/3dmoljs_load.v0": "<div id=\"3dmolviewer_17175170898863497\"  style=\"position: relative; width: 800px; height: 400px;\">\n        <p id=\"3dmolwarning_17175170898863497\" style=\"background-color:#ffcccc;color:black\">3Dmol.js failed to load for some reason.  Please check your browser console for error messages.<br></p>\n        </div>\n<script>\n\nvar loadScriptAsync = function(uri){\n  return new Promise((resolve, reject) => {\n    //this is to ignore the existence of requirejs amd\n    var savedexports, savedmodule;\n    if (typeof exports !== 'undefined') savedexports = exports;\n    else exports = {}\n    if (typeof module !== 'undefined') savedmodule = module;\n    else module = {}\n\n    var tag = document.createElement('script');\n    tag.src = uri;\n    tag.async = true;\n    tag.onload = () => {\n        exports = savedexports;\n        module = savedmodule;\n        resolve();\n    };\n  var firstScriptTag = document.getElementsByTagName('script')[0];\n  firstScriptTag.parentNode.insertBefore(tag, firstScriptTag);\n});\n};\n\nif(typeof $3Dmolpromise === 'undefined') {\n$3Dmolpromise = null;\n  $3Dmolpromise = loadScriptAsync('https://cdnjs.cloudflare.com/ajax/libs/3Dmol/2.1.0/3Dmol-min.js');\n}\n\nvar viewer_17175170898863497 = null;\nvar warn = document.getElementById(\"3dmolwarning_17175170898863497\");\nif(warn) {\n    warn.parentNode.removeChild(warn);\n}\n$3Dmolpromise.then(function() {\nviewer_17175170898863497 = $3Dmol.createViewer(document.getElementById(\"3dmolviewer_17175170898863497\"),{backgroundColor:\"white\"});\nviewer_17175170898863497.zoomTo();\n\tviewer_17175170898863497.addModel(\"12\\nH6 C6\\nC -0.360381 -0.949963 -1.082140\\nC -0.362307 -0.223225 0.238335\\nC -0.316186 1.024858 2.490679\\nC -0.348301 1.619424 3.604208\\nC -0.344703 0.373976 1.319856\\nC 0.695630 -0.347828 -2.030076\\nH 0.683305 -0.977376 -2.945455\\nH 1.721652 -0.526232 -1.574425\\nH -1.327207 -0.764691 -1.484186\\nH -0.223600 -1.975651 -0.819079\\nH -0.347460 2.116610 4.510924\\nH 0.529551 0.630098 -2.228637\",\"xyz\");\n\tviewer_17175170898863497.setStyle({\"sphere\": {\"scale\": 0.35}, \"stick\": {\"radius\": 0.2}});\n\tviewer_17175170898863497.zoomTo();\nviewer_17175170898863497.render();\n});\n</script>",
      "text/html": [
       "<div id=\"3dmolviewer_17175170898863497\"  style=\"position: relative; width: 800px; height: 400px;\">\n",
       "        <p id=\"3dmolwarning_17175170898863497\" style=\"background-color:#ffcccc;color:black\">3Dmol.js failed to load for some reason.  Please check your browser console for error messages.<br></p>\n",
       "        </div>\n",
       "<script>\n",
       "\n",
       "var loadScriptAsync = function(uri){\n",
       "  return new Promise((resolve, reject) => {\n",
       "    //this is to ignore the existence of requirejs amd\n",
       "    var savedexports, savedmodule;\n",
       "    if (typeof exports !== 'undefined') savedexports = exports;\n",
       "    else exports = {}\n",
       "    if (typeof module !== 'undefined') savedmodule = module;\n",
       "    else module = {}\n",
       "\n",
       "    var tag = document.createElement('script');\n",
       "    tag.src = uri;\n",
       "    tag.async = true;\n",
       "    tag.onload = () => {\n",
       "        exports = savedexports;\n",
       "        module = savedmodule;\n",
       "        resolve();\n",
       "    };\n",
       "  var firstScriptTag = document.getElementsByTagName('script')[0];\n",
       "  firstScriptTag.parentNode.insertBefore(tag, firstScriptTag);\n",
       "});\n",
       "};\n",
       "\n",
       "if(typeof $3Dmolpromise === 'undefined') {\n",
       "$3Dmolpromise = null;\n",
       "  $3Dmolpromise = loadScriptAsync('https://cdnjs.cloudflare.com/ajax/libs/3Dmol/2.1.0/3Dmol-min.js');\n",
       "}\n",
       "\n",
       "var viewer_17175170898863497 = null;\n",
       "var warn = document.getElementById(\"3dmolwarning_17175170898863497\");\n",
       "if(warn) {\n",
       "    warn.parentNode.removeChild(warn);\n",
       "}\n",
       "$3Dmolpromise.then(function() {\n",
       "viewer_17175170898863497 = $3Dmol.createViewer(document.getElementById(\"3dmolviewer_17175170898863497\"),{backgroundColor:\"white\"});\n",
       "viewer_17175170898863497.zoomTo();\n",
       "\tviewer_17175170898863497.addModel(\"12\\nH6 C6\\nC -0.360381 -0.949963 -1.082140\\nC -0.362307 -0.223225 0.238335\\nC -0.316186 1.024858 2.490679\\nC -0.348301 1.619424 3.604208\\nC -0.344703 0.373976 1.319856\\nC 0.695630 -0.347828 -2.030076\\nH 0.683305 -0.977376 -2.945455\\nH 1.721652 -0.526232 -1.574425\\nH -1.327207 -0.764691 -1.484186\\nH -0.223600 -1.975651 -0.819079\\nH -0.347460 2.116610 4.510924\\nH 0.529551 0.630098 -2.228637\",\"xyz\");\n",
       "\tviewer_17175170898863497.setStyle({\"sphere\": {\"scale\": 0.35}, \"stick\": {\"radius\": 0.2}});\n",
       "\tviewer_17175170898863497.zoomTo();\n",
       "viewer_17175170898863497.render();\n",
       "});\n",
       "</script>"
      ]
     },
     "metadata": {},
     "output_type": "display_data"
    },
    {
     "data": {
      "application/3dmoljs_load.v0": "<div id=\"3dmolviewer_17175170898870294\"  style=\"position: relative; width: 800px; height: 400px;\">\n        <p id=\"3dmolwarning_17175170898870294\" style=\"background-color:#ffcccc;color:black\">3Dmol.js failed to load for some reason.  Please check your browser console for error messages.<br></p>\n        </div>\n<script>\n\nvar loadScriptAsync = function(uri){\n  return new Promise((resolve, reject) => {\n    //this is to ignore the existence of requirejs amd\n    var savedexports, savedmodule;\n    if (typeof exports !== 'undefined') savedexports = exports;\n    else exports = {}\n    if (typeof module !== 'undefined') savedmodule = module;\n    else module = {}\n\n    var tag = document.createElement('script');\n    tag.src = uri;\n    tag.async = true;\n    tag.onload = () => {\n        exports = savedexports;\n        module = savedmodule;\n        resolve();\n    };\n  var firstScriptTag = document.getElementsByTagName('script')[0];\n  firstScriptTag.parentNode.insertBefore(tag, firstScriptTag);\n});\n};\n\nif(typeof $3Dmolpromise === 'undefined') {\n$3Dmolpromise = null;\n  $3Dmolpromise = loadScriptAsync('https://cdnjs.cloudflare.com/ajax/libs/3Dmol/2.1.0/3Dmol-min.js');\n}\n\nvar viewer_17175170898870294 = null;\nvar warn = document.getElementById(\"3dmolwarning_17175170898870294\");\nif(warn) {\n    warn.parentNode.removeChild(warn);\n}\n$3Dmolpromise.then(function() {\nviewer_17175170898870294 = $3Dmol.createViewer(document.getElementById(\"3dmolviewer_17175170898870294\"),{backgroundColor:\"white\"});\nviewer_17175170898870294.zoomTo();\n\tviewer_17175170898870294.addModel(\"12\\nH6 C6\\nC 0.076628 0.631871 1.266674\\nC -1.152348 0.109201 0.779830\\nC -1.215302 -0.525638 -0.477918\\nC 1.158181 -0.107371 -0.762676\\nC -0.065657 -0.663314 -1.258828\\nC 1.183024 0.500753 0.457307\\nH -2.143134 -0.916973 -0.838250\\nH -0.122193 -1.132620 -2.204390\\nH 0.095212 1.111167 2.213159\\nH 2.160001 0.904060 0.839243\\nH -2.032660 0.247811 1.378173\\nH 2.058241 -0.158941 -1.392331\",\"xyz\");\n\tviewer_17175170898870294.setStyle({\"sphere\": {\"scale\": 0.35}, \"stick\": {\"radius\": 0.2}});\n\tviewer_17175170898870294.zoomTo();\nviewer_17175170898870294.render();\n});\n</script>",
      "text/html": [
       "<div id=\"3dmolviewer_17175170898870294\"  style=\"position: relative; width: 800px; height: 400px;\">\n",
       "        <p id=\"3dmolwarning_17175170898870294\" style=\"background-color:#ffcccc;color:black\">3Dmol.js failed to load for some reason.  Please check your browser console for error messages.<br></p>\n",
       "        </div>\n",
       "<script>\n",
       "\n",
       "var loadScriptAsync = function(uri){\n",
       "  return new Promise((resolve, reject) => {\n",
       "    //this is to ignore the existence of requirejs amd\n",
       "    var savedexports, savedmodule;\n",
       "    if (typeof exports !== 'undefined') savedexports = exports;\n",
       "    else exports = {}\n",
       "    if (typeof module !== 'undefined') savedmodule = module;\n",
       "    else module = {}\n",
       "\n",
       "    var tag = document.createElement('script');\n",
       "    tag.src = uri;\n",
       "    tag.async = true;\n",
       "    tag.onload = () => {\n",
       "        exports = savedexports;\n",
       "        module = savedmodule;\n",
       "        resolve();\n",
       "    };\n",
       "  var firstScriptTag = document.getElementsByTagName('script')[0];\n",
       "  firstScriptTag.parentNode.insertBefore(tag, firstScriptTag);\n",
       "});\n",
       "};\n",
       "\n",
       "if(typeof $3Dmolpromise === 'undefined') {\n",
       "$3Dmolpromise = null;\n",
       "  $3Dmolpromise = loadScriptAsync('https://cdnjs.cloudflare.com/ajax/libs/3Dmol/2.1.0/3Dmol-min.js');\n",
       "}\n",
       "\n",
       "var viewer_17175170898870294 = null;\n",
       "var warn = document.getElementById(\"3dmolwarning_17175170898870294\");\n",
       "if(warn) {\n",
       "    warn.parentNode.removeChild(warn);\n",
       "}\n",
       "$3Dmolpromise.then(function() {\n",
       "viewer_17175170898870294 = $3Dmol.createViewer(document.getElementById(\"3dmolviewer_17175170898870294\"),{backgroundColor:\"white\"});\n",
       "viewer_17175170898870294.zoomTo();\n",
       "\tviewer_17175170898870294.addModel(\"12\\nH6 C6\\nC 0.076628 0.631871 1.266674\\nC -1.152348 0.109201 0.779830\\nC -1.215302 -0.525638 -0.477918\\nC 1.158181 -0.107371 -0.762676\\nC -0.065657 -0.663314 -1.258828\\nC 1.183024 0.500753 0.457307\\nH -2.143134 -0.916973 -0.838250\\nH -0.122193 -1.132620 -2.204390\\nH 0.095212 1.111167 2.213159\\nH 2.160001 0.904060 0.839243\\nH -2.032660 0.247811 1.378173\\nH 2.058241 -0.158941 -1.392331\",\"xyz\");\n",
       "\tviewer_17175170898870294.setStyle({\"sphere\": {\"scale\": 0.35}, \"stick\": {\"radius\": 0.2}});\n",
       "\tviewer_17175170898870294.zoomTo();\n",
       "viewer_17175170898870294.render();\n",
       "});\n",
       "</script>"
      ]
     },
     "metadata": {},
     "output_type": "display_data"
    },
    {
     "data": {
      "application/3dmoljs_load.v0": "<div id=\"3dmolviewer_17175170898874907\"  style=\"position: relative; width: 800px; height: 400px;\">\n        <p id=\"3dmolwarning_17175170898874907\" style=\"background-color:#ffcccc;color:black\">3Dmol.js failed to load for some reason.  Please check your browser console for error messages.<br></p>\n        </div>\n<script>\n\nvar loadScriptAsync = function(uri){\n  return new Promise((resolve, reject) => {\n    //this is to ignore the existence of requirejs amd\n    var savedexports, savedmodule;\n    if (typeof exports !== 'undefined') savedexports = exports;\n    else exports = {}\n    if (typeof module !== 'undefined') savedmodule = module;\n    else module = {}\n\n    var tag = document.createElement('script');\n    tag.src = uri;\n    tag.async = true;\n    tag.onload = () => {\n        exports = savedexports;\n        module = savedmodule;\n        resolve();\n    };\n  var firstScriptTag = document.getElementsByTagName('script')[0];\n  firstScriptTag.parentNode.insertBefore(tag, firstScriptTag);\n});\n};\n\nif(typeof $3Dmolpromise === 'undefined') {\n$3Dmolpromise = null;\n  $3Dmolpromise = loadScriptAsync('https://cdnjs.cloudflare.com/ajax/libs/3Dmol/2.1.0/3Dmol-min.js');\n}\n\nvar viewer_17175170898874907 = null;\nvar warn = document.getElementById(\"3dmolwarning_17175170898874907\");\nif(warn) {\n    warn.parentNode.removeChild(warn);\n}\n$3Dmolpromise.then(function() {\nviewer_17175170898874907 = $3Dmol.createViewer(document.getElementById(\"3dmolviewer_17175170898874907\"),{backgroundColor:\"white\"});\nviewer_17175170898874907.zoomTo();\n\tviewer_17175170898874907.addModel(\"12\\nH6 C6\\nC -1.695688 2.354415 1.527400\\nC -0.635395 1.863406 1.159043\\nC 0.282136 -2.287335 -1.386702\\nC 0.451878 -0.005059 -0.059429\\nC 0.365265 -1.027295 -0.661897\\nC 0.626527 1.255982 0.698103\\nH -0.251305 -3.040813 -0.801926\\nH 1.244707 1.059686 1.599370\\nH 1.295433 -2.687551 -1.663605\\nH -2.591555 2.716522 1.795568\\nH 1.198658 1.963549 0.092145\\nH -0.290649 -2.165505 -2.298077\",\"xyz\");\n\tviewer_17175170898874907.setStyle({\"sphere\": {\"scale\": 0.35}, \"stick\": {\"radius\": 0.2}});\n\tviewer_17175170898874907.zoomTo();\nviewer_17175170898874907.render();\n});\n</script>",
      "text/html": [
       "<div id=\"3dmolviewer_17175170898874907\"  style=\"position: relative; width: 800px; height: 400px;\">\n",
       "        <p id=\"3dmolwarning_17175170898874907\" style=\"background-color:#ffcccc;color:black\">3Dmol.js failed to load for some reason.  Please check your browser console for error messages.<br></p>\n",
       "        </div>\n",
       "<script>\n",
       "\n",
       "var loadScriptAsync = function(uri){\n",
       "  return new Promise((resolve, reject) => {\n",
       "    //this is to ignore the existence of requirejs amd\n",
       "    var savedexports, savedmodule;\n",
       "    if (typeof exports !== 'undefined') savedexports = exports;\n",
       "    else exports = {}\n",
       "    if (typeof module !== 'undefined') savedmodule = module;\n",
       "    else module = {}\n",
       "\n",
       "    var tag = document.createElement('script');\n",
       "    tag.src = uri;\n",
       "    tag.async = true;\n",
       "    tag.onload = () => {\n",
       "        exports = savedexports;\n",
       "        module = savedmodule;\n",
       "        resolve();\n",
       "    };\n",
       "  var firstScriptTag = document.getElementsByTagName('script')[0];\n",
       "  firstScriptTag.parentNode.insertBefore(tag, firstScriptTag);\n",
       "});\n",
       "};\n",
       "\n",
       "if(typeof $3Dmolpromise === 'undefined') {\n",
       "$3Dmolpromise = null;\n",
       "  $3Dmolpromise = loadScriptAsync('https://cdnjs.cloudflare.com/ajax/libs/3Dmol/2.1.0/3Dmol-min.js');\n",
       "}\n",
       "\n",
       "var viewer_17175170898874907 = null;\n",
       "var warn = document.getElementById(\"3dmolwarning_17175170898874907\");\n",
       "if(warn) {\n",
       "    warn.parentNode.removeChild(warn);\n",
       "}\n",
       "$3Dmolpromise.then(function() {\n",
       "viewer_17175170898874907 = $3Dmol.createViewer(document.getElementById(\"3dmolviewer_17175170898874907\"),{backgroundColor:\"white\"});\n",
       "viewer_17175170898874907.zoomTo();\n",
       "\tviewer_17175170898874907.addModel(\"12\\nH6 C6\\nC -1.695688 2.354415 1.527400\\nC -0.635395 1.863406 1.159043\\nC 0.282136 -2.287335 -1.386702\\nC 0.451878 -0.005059 -0.059429\\nC 0.365265 -1.027295 -0.661897\\nC 0.626527 1.255982 0.698103\\nH -0.251305 -3.040813 -0.801926\\nH 1.244707 1.059686 1.599370\\nH 1.295433 -2.687551 -1.663605\\nH -2.591555 2.716522 1.795568\\nH 1.198658 1.963549 0.092145\\nH -0.290649 -2.165505 -2.298077\",\"xyz\");\n",
       "\tviewer_17175170898874907.setStyle({\"sphere\": {\"scale\": 0.35}, \"stick\": {\"radius\": 0.2}});\n",
       "\tviewer_17175170898874907.zoomTo();\n",
       "viewer_17175170898874907.render();\n",
       "});\n",
       "</script>"
      ]
     },
     "metadata": {},
     "output_type": "display_data"
    },
    {
     "data": {
      "application/3dmoljs_load.v0": "<div id=\"3dmolviewer_1717517089887977\"  style=\"position: relative; width: 800px; height: 400px;\">\n        <p id=\"3dmolwarning_1717517089887977\" style=\"background-color:#ffcccc;color:black\">3Dmol.js failed to load for some reason.  Please check your browser console for error messages.<br></p>\n        </div>\n<script>\n\nvar loadScriptAsync = function(uri){\n  return new Promise((resolve, reject) => {\n    //this is to ignore the existence of requirejs amd\n    var savedexports, savedmodule;\n    if (typeof exports !== 'undefined') savedexports = exports;\n    else exports = {}\n    if (typeof module !== 'undefined') savedmodule = module;\n    else module = {}\n\n    var tag = document.createElement('script');\n    tag.src = uri;\n    tag.async = true;\n    tag.onload = () => {\n        exports = savedexports;\n        module = savedmodule;\n        resolve();\n    };\n  var firstScriptTag = document.getElementsByTagName('script')[0];\n  firstScriptTag.parentNode.insertBefore(tag, firstScriptTag);\n});\n};\n\nif(typeof $3Dmolpromise === 'undefined') {\n$3Dmolpromise = null;\n  $3Dmolpromise = loadScriptAsync('https://cdnjs.cloudflare.com/ajax/libs/3Dmol/2.1.0/3Dmol-min.js');\n}\n\nvar viewer_1717517089887977 = null;\nvar warn = document.getElementById(\"3dmolwarning_1717517089887977\");\nif(warn) {\n    warn.parentNode.removeChild(warn);\n}\n$3Dmolpromise.then(function() {\nviewer_1717517089887977 = $3Dmol.createViewer(document.getElementById(\"3dmolviewer_1717517089887977\"),{backgroundColor:\"white\"});\nviewer_1717517089887977.zoomTo();\n\tviewer_1717517089887977.addModel(\"12\\nH6 C6\\nC -1.609986 1.757830 0.903795\\nC 0.774726 -0.779048 0.847670\\nC 1.665394 -1.071833 1.538354\\nC -1.018461 0.802460 0.474381\\nC -0.311353 -0.401480 -0.061760\\nC 0.202963 -0.157861 -1.489689\\nH 2.506965 -1.339306 2.146292\\nH -1.036753 -1.200974 -0.088912\\nH -0.663004 0.115631 -2.161282\\nH 0.895068 0.693450 -1.505285\\nH -2.119349 2.617294 1.264085\\nH 0.713788 -1.036166 -1.867657\",\"xyz\");\n\tviewer_1717517089887977.setStyle({\"sphere\": {\"scale\": 0.35}, \"stick\": {\"radius\": 0.2}});\n\tviewer_1717517089887977.zoomTo();\nviewer_1717517089887977.render();\n});\n</script>",
      "text/html": [
       "<div id=\"3dmolviewer_1717517089887977\"  style=\"position: relative; width: 800px; height: 400px;\">\n",
       "        <p id=\"3dmolwarning_1717517089887977\" style=\"background-color:#ffcccc;color:black\">3Dmol.js failed to load for some reason.  Please check your browser console for error messages.<br></p>\n",
       "        </div>\n",
       "<script>\n",
       "\n",
       "var loadScriptAsync = function(uri){\n",
       "  return new Promise((resolve, reject) => {\n",
       "    //this is to ignore the existence of requirejs amd\n",
       "    var savedexports, savedmodule;\n",
       "    if (typeof exports !== 'undefined') savedexports = exports;\n",
       "    else exports = {}\n",
       "    if (typeof module !== 'undefined') savedmodule = module;\n",
       "    else module = {}\n",
       "\n",
       "    var tag = document.createElement('script');\n",
       "    tag.src = uri;\n",
       "    tag.async = true;\n",
       "    tag.onload = () => {\n",
       "        exports = savedexports;\n",
       "        module = savedmodule;\n",
       "        resolve();\n",
       "    };\n",
       "  var firstScriptTag = document.getElementsByTagName('script')[0];\n",
       "  firstScriptTag.parentNode.insertBefore(tag, firstScriptTag);\n",
       "});\n",
       "};\n",
       "\n",
       "if(typeof $3Dmolpromise === 'undefined') {\n",
       "$3Dmolpromise = null;\n",
       "  $3Dmolpromise = loadScriptAsync('https://cdnjs.cloudflare.com/ajax/libs/3Dmol/2.1.0/3Dmol-min.js');\n",
       "}\n",
       "\n",
       "var viewer_1717517089887977 = null;\n",
       "var warn = document.getElementById(\"3dmolwarning_1717517089887977\");\n",
       "if(warn) {\n",
       "    warn.parentNode.removeChild(warn);\n",
       "}\n",
       "$3Dmolpromise.then(function() {\n",
       "viewer_1717517089887977 = $3Dmol.createViewer(document.getElementById(\"3dmolviewer_1717517089887977\"),{backgroundColor:\"white\"});\n",
       "viewer_1717517089887977.zoomTo();\n",
       "\tviewer_1717517089887977.addModel(\"12\\nH6 C6\\nC -1.609986 1.757830 0.903795\\nC 0.774726 -0.779048 0.847670\\nC 1.665394 -1.071833 1.538354\\nC -1.018461 0.802460 0.474381\\nC -0.311353 -0.401480 -0.061760\\nC 0.202963 -0.157861 -1.489689\\nH 2.506965 -1.339306 2.146292\\nH -1.036753 -1.200974 -0.088912\\nH -0.663004 0.115631 -2.161282\\nH 0.895068 0.693450 -1.505285\\nH -2.119349 2.617294 1.264085\\nH 0.713788 -1.036166 -1.867657\",\"xyz\");\n",
       "\tviewer_1717517089887977.setStyle({\"sphere\": {\"scale\": 0.35}, \"stick\": {\"radius\": 0.2}});\n",
       "\tviewer_1717517089887977.zoomTo();\n",
       "viewer_1717517089887977.render();\n",
       "});\n",
       "</script>"
      ]
     },
     "metadata": {},
     "output_type": "display_data"
    }
   ],
   "source": [
    "from model.visualize import draw_mol_xyz\n",
    "\n",
    "for i in range(4):\n",
    "    draw_mol_xyz(f'./demo/{time_point}/mol_{i}.xyz')"
   ]
  },
  {
   "cell_type": "markdown",
   "metadata": {},
   "source": [
    "The results show that our model can generate diverse and stable structures. All molecules satisfy Lewis' rule and conform to chemical intuition."
   ]
  },
  {
   "cell_type": "code",
   "execution_count": 47,
   "metadata": {},
   "outputs": [],
   "source": [
    "bezene = [trajs[12:24] for trajs in trajs]"
   ]
  },
  {
   "cell_type": "code",
   "execution_count": 48,
   "metadata": {},
   "outputs": [],
   "source": [
    "import py3Dmol\n",
    "from pymatgen.core.structure import Molecule\n",
    "\n",
    "def draw_mol_pymatgen(mol: Molecule):\n",
    "    xyz_str = mol.to(fmt=\"xyz\")\n",
    "    view = py3Dmol.view(width=800, height=400)\n",
    "    view.addModel(xyz_str, 'xyz')\n",
    "    view.setStyle({'sphere': {'scale': 0.35}, 'stick': {'radius': 0.20}})\n",
    "    view.zoomTo()\n",
    "    view.show()\n"
   ]
  },
  {
   "cell_type": "code",
   "execution_count": 51,
   "metadata": {},
   "outputs": [],
   "source": [
    "\n",
    "benzenes = [Molecule([\"C\"]*6 + ['H']*6, bezene[i]) for i in range(100)]\n"
   ]
  },
  {
   "cell_type": "code",
   "execution_count": 53,
   "metadata": {},
   "outputs": [
    {
     "data": {
      "application/3dmoljs_load.v0": "<div id=\"3dmolviewer_17175173874342544\"  style=\"position: relative; width: 800px; height: 400px;\">\n        <p id=\"3dmolwarning_17175173874342544\" style=\"background-color:#ffcccc;color:black\">3Dmol.js failed to load for some reason.  Please check your browser console for error messages.<br></p>\n        </div>\n<script>\n\nvar loadScriptAsync = function(uri){\n  return new Promise((resolve, reject) => {\n    //this is to ignore the existence of requirejs amd\n    var savedexports, savedmodule;\n    if (typeof exports !== 'undefined') savedexports = exports;\n    else exports = {}\n    if (typeof module !== 'undefined') savedmodule = module;\n    else module = {}\n\n    var tag = document.createElement('script');\n    tag.src = uri;\n    tag.async = true;\n    tag.onload = () => {\n        exports = savedexports;\n        module = savedmodule;\n        resolve();\n    };\n  var firstScriptTag = document.getElementsByTagName('script')[0];\n  firstScriptTag.parentNode.insertBefore(tag, firstScriptTag);\n});\n};\n\nif(typeof $3Dmolpromise === 'undefined') {\n$3Dmolpromise = null;\n  $3Dmolpromise = loadScriptAsync('https://cdnjs.cloudflare.com/ajax/libs/3Dmol/2.1.0/3Dmol-min.js');\n}\n\nvar viewer_17175173874342544 = null;\nvar warn = document.getElementById(\"3dmolwarning_17175173874342544\");\nif(warn) {\n    warn.parentNode.removeChild(warn);\n}\n$3Dmolpromise.then(function() {\nviewer_17175173874342544 = $3Dmol.createViewer(document.getElementById(\"3dmolviewer_17175173874342544\"),{backgroundColor:\"white\"});\nviewer_17175173874342544.zoomTo();\n\tviewer_17175173874342544.addModelsAsFrames(\"12\\nH6 C6\\nC 1.714909 1.043989 -1.781552\\nC 0.500753 1.147564 5.348846\\nC 2.096957 0.098590 -3.415799\\nC 1.126051 1.309391 -1.365548\\nC -3.751276 2.393056 0.076955\\nC 0.266512 1.623518 3.514848\\nH -3.780046 -0.903277 2.224245\\nH -2.467477 -2.311531 -2.019356\\nH 2.027115 -0.839215 4.459527\\nH 0.735349 1.316141 -3.021356\\nH -1.124371 -2.766065 0.849562\\nH 2.655517 -2.112154 -4.870382\\n12\\nH6 C6\\nC 1.535354 1.858687 -1.630214\\nC 0.235626 0.862862 4.959792\\nC 1.813562 -0.259826 -3.651763\\nC 1.681106 1.320594 -2.019198\\nC -3.547753 2.352024 0.700296\\nC 0.216359 0.664329 2.749808\\nH -3.188269 -1.903546 2.313138\\nH -2.633398 -1.317369 -2.313262\\nH 1.619424 -0.560712 5.167804\\nH 0.537167 0.630359 -2.159761\\nH -0.590506 -2.145870 1.149293\\nH 2.321321 -1.501523 -5.265940\\n12\\nH6 C6\\nC 1.712823 1.840601 -1.033943\\nC 0.659918 1.326188 3.760459\\nC 2.390848 -0.548541 -3.385917\\nC 1.836908 0.762784 -1.161078\\nC -3.474540 1.694087 0.869831\\nC 1.175080 0.535121 2.804343\\nH -3.527218 -1.310102 1.915201\\nH -3.504109 -1.846020 -1.925491\\nH 0.596788 -0.726904 4.247162\\nH 0.647898 1.490543 -2.514939\\nH -0.557238 -1.971382 1.009982\\nH 2.042834 -1.246367 -4.585617\\n12\\nH6 C6\\nC 1.428048 1.901677 -1.160334\\nC -0.045888 1.169936 3.880748\\nC 2.868308 -0.044667 -3.003126\\nC 1.222937 0.534288 -1.116246\\nC -3.541208 1.069518 1.468431\\nC 1.248939 1.096323 2.042297\\nH -3.916637 -1.235052 2.222653\\nH -2.421490 -1.564920 -2.605209\\nH 0.083452 -1.788680 3.497912\\nH 1.924770 1.470796 -2.611174\\nH -0.299313 -1.321949 1.354222\\nH 1.448073 -1.287262 -3.970180\\n12\\nH6 C6\\nC 0.491277 2.676152 -0.926558\\nC -0.325565 0.249590 3.226103\\nC 2.259543 0.610021 -3.470007\\nC 1.221451 -0.064614 -1.136386\\nC -2.801690 0.334540 1.203865\\nC 2.320510 0.959027 1.812224\\nH -4.011297 -0.658449 1.813444\\nH -2.168763 -2.395220 -2.529123\\nH 0.057401 -1.107342 4.015604\\nH 1.765330 1.081611 -2.324261\\nH -0.085091 -1.410440 2.231891\\nH 1.276886 -0.274868 -3.916803\\n12\\nH6 C6\\nC -0.121218 2.306258 -0.257122\\nC -0.234042 0.388573 3.414925\\nC 2.215151 -0.243610 -3.344204\\nC 1.220500 0.215702 -1.958989\\nC -2.587600 0.338903 2.010623\\nC 2.160165 0.289077 2.159303\\nH -4.062089 -0.719825 0.934249\\nH -1.743434 -1.689226 -2.544324\\nH -0.199807 -1.318121 3.753547\\nH 1.801112 1.516155 -2.506469\\nH -0.341356 -0.797488 1.889719\\nH 1.892609 -0.286390 -3.551265\\n12\\nH6 C6\\nC 0.106488 2.368783 -0.479145\\nC -0.201866 0.254130 3.658440\\nC 2.429456 -0.488822 -3.369486\\nC 0.766849 0.490710 -2.285983\\nC -2.790355 0.426493 1.216208\\nC 1.687986 0.150343 2.226732\\nH -4.545693 -0.465862 1.052469\\nH -1.013605 -1.469447 -2.179476\\nH -0.039288 -1.225821 4.391952\\nH 1.265193 1.989515 -2.858164\\nH 0.167854 -0.912374 1.360940\\nH 2.166974 -1.117640 -2.734494\\n12\\nH6 C6\\nC 0.076492 2.363705 -0.104559\\nC -0.270316 0.222010 3.715676\\nC 2.598622 -0.452650 -3.597877\\nC 0.963301 0.321864 -2.074693\\nC -2.822219 0.136079 0.652895\\nC 2.016606 -0.243085 1.818138\\nH -4.333732 -0.759622 1.282328\\nH -1.049471 -1.034713 -1.963609\\nH -0.187311 -1.209612 3.581152\\nH 1.293076 2.184188 -2.353081\\nH -0.164980 -0.743799 1.427968\\nH 1.879925 -0.784357 -2.384345\\n12\\nH6 C6\\nC 0.832538 1.960228 0.274530\\nC -0.724955 0.697055 3.806396\\nC 2.095821 -0.501734 -3.335682\\nC 1.044946 0.549120 -1.617365\\nC -2.063252 0.248753 0.072977\\nC 1.919409 -0.578238 1.370608\\nH -4.598420 -1.104053 0.810252\\nH -1.309776 -0.692663 -1.581694\\nH 0.492192 -0.663160 3.049444\\nH 1.408962 1.852728 -2.727889\\nH -0.458522 -0.925232 1.745324\\nH 1.361049 -0.842797 -1.866909\\n12\\nH6 C6\\nC 0.603196 1.681361 0.410616\\nC -0.646955 0.807170 3.754146\\nC 1.740154 -0.833549 -2.681083\\nC 1.430037 0.448616 -1.459937\\nC -2.063704 -0.072582 0.668576\\nC 1.577311 -0.640770 0.888391\\nH -4.426739 -0.791920 -0.165400\\nH -1.088618 -0.625619 -2.182681\\nH 0.739391 -1.013869 2.953858\\nH 1.627731 1.656623 -2.619292\\nH -0.534264 -0.442680 2.667789\\nH 1.042451 -0.172775 -2.234990\\n12\\nH6 C6\\nC 0.645442 1.865991 -0.049633\\nC -0.355785 1.268655 3.182240\\nC 0.811650 -0.996704 -2.412872\\nC 2.693227 -0.439806 -1.555259\\nC -2.193712 0.504181 0.475762\\nC 1.442643 -0.671500 1.384788\\nH -3.930573 -0.613554 -0.549623\\nH -1.014546 -1.171834 -2.216939\\nH 0.771716 -0.514500 2.711031\\nH 1.077239 1.130030 -2.040637\\nH -0.995054 -0.430938 2.765858\\nH 1.047745 0.069986 -1.694721\\n12\\nH6 C6\\nC 1.032012 1.612322 -0.042243\\nC -0.158855 1.149631 3.397137\\nC 0.531925 -0.149209 -2.045175\\nC 2.356432 -0.246808 -1.333217\\nC -1.815208 0.022859 -0.021288\\nC 1.553468 -0.447242 0.780651\\nH -3.813178 -0.946437 -0.739918\\nH -1.243361 -0.760458 -2.477591\\nH 0.930423 -0.282391 2.839018\\nH 0.816976 0.883724 -1.765706\\nH -1.360805 -1.249342 2.803767\\nH 1.170163 0.413359 -1.395442\\n12\\nH6 C6\\nC 1.572257 1.443667 -0.067093\\nC -0.215827 1.084741 3.063136\\nC 1.062104 -0.381981 -1.508940\\nC 2.215933 -0.198780 -1.662580\\nC -2.078130 -0.085283 -0.193844\\nC 1.365762 -0.343567 0.800962\\nH -3.520774 -1.102495 -0.561202\\nH -1.327580 -1.010318 -2.446340\\nH 0.693446 -0.679473 2.927027\\nH 1.278887 1.300763 -1.908743\\nH -1.937096 -0.620617 2.440813\\nH 0.891010 0.593348 -0.883203\\n12\\nH6 C6\\nC 1.217291 1.386282 -0.070107\\nC -0.746496 0.710810 3.220693\\nC 0.677043 -0.360290 -1.522842\\nC 2.001867 -0.245516 -1.836433\\nC -1.666907 0.000793 -0.858981\\nC 1.516850 -0.129599 0.741568\\nH -3.240933 -1.324373 -0.722679\\nH -0.877460 -1.234605 -2.140062\\nH 0.543036 0.013382 2.494091\\nH 1.518932 0.969885 -1.181068\\nH -1.752634 -0.192585 2.824391\\nH 0.809404 0.405821 -0.948576\\n12\\nH6 C6\\nC 0.833531 1.210053 -0.155089\\nC -0.885692 0.641489 3.036589\\nC 0.429139 -0.093735 -1.460829\\nC 1.474783 0.310158 -1.899560\\nC -1.305085 0.358472 -0.835251\\nC 2.121418 0.233054 0.662397\\nH -3.173036 -1.639167 -1.189849\\nH -1.265127 -0.877761 -1.575682\\nH 0.464318 -0.572603 2.667126\\nH 1.536285 1.095111 -1.032378\\nH -1.353590 -0.466957 2.810649\\nH 1.123048 -0.198107 -1.028130\\n12\\nH6 C6\\nC 0.309144 1.139778 0.534385\\nC -1.373147 0.393938 2.858981\\nC 0.456858 -0.062747 -1.570240\\nC 1.674018 0.493134 -2.072614\\nC -1.048958 0.109261 -0.769223\\nC 2.134035 0.164620 0.245077\\nH -2.890826 -1.880184 -1.302731\\nH -1.296668 -0.878386 -1.775633\\nH 0.589323 -0.226309 2.851078\\nH 1.573348 0.871053 -0.727730\\nH -1.404940 0.035135 2.447470\\nH 1.277804 -0.159286 -0.718826\\n12\\nH6 C6\\nC 0.251948 1.139511 0.486035\\nC -1.516654 0.200018 2.437017\\nC 0.453844 -0.224121 -0.910802\\nC 1.812635 -0.037145 -1.979774\\nC -0.878399 0.046411 -1.055156\\nC 2.187209 0.405980 0.205422\\nH -2.855319 -1.912890 -1.040864\\nH -0.792878 -0.702559 -1.835101\\nH 0.140504 0.205071 3.034734\\nH 1.776156 0.865027 -0.779379\\nH -1.449816 -0.138198 2.199106\\nH 0.870764 0.152903 -0.761245\\n12\\nH6 C6\\nC 0.145857 1.190599 0.328310\\nC -1.205328 0.756057 2.149004\\nC 0.391674 -0.416696 -1.105498\\nC 1.916385 -0.211790 -1.927057\\nC -1.274000 -0.139962 -1.102029\\nC 2.170353 0.452657 0.620246\\nH -3.000381 -1.769130 -0.730738\\nH -0.619135 -0.682805 -1.880837\\nH 0.250557 0.451257 2.854981\\nH 1.872906 0.799502 -0.626069\\nH -1.852777 -0.333167 2.428189\\nH 1.203880 -0.096514 -1.008509\\n12\\nH6 C6\\nC 0.344175 1.437529 0.481966\\nC -1.382640 0.226538 2.169965\\nC 0.036099 -0.340527 -1.420387\\nC 1.661139 0.128651 -1.590370\\nC -1.143084 -0.510863 -1.193524\\nC 2.342172 0.826381 0.552679\\nH -2.658515 -1.392807 -0.524813\\nH -0.410234 -0.912687 -1.940354\\nH 0.260509 0.647486 2.818393\\nH 1.803259 0.473098 -0.250394\\nH -2.118214 0.020459 2.179057\\nH 1.265327 -0.603250 -1.282224\\n12\\nH6 C6\\nC 0.477770 1.659765 0.560138\\nC -1.256461 0.250697 2.017293\\nC -0.248334 -0.085359 -0.948363\\nC 1.474439 -0.066798 -1.420418\\nC -1.326707 -0.365659 -1.085372\\nC 1.738764 1.019872 0.598730\\nH -2.702213 -1.421639 -0.859837\\nH -0.191317 -0.685415 -2.136947\\nH 0.492462 0.259753 2.854274\\nH 1.967906 0.506651 -0.145177\\nH -2.028465 -0.250174 2.001711\\nH 1.602148 -0.821686 -1.436041\\n12\\nH6 C6\\nC 0.083789 1.516020 0.611851\\nC -1.305337 0.113568 1.907764\\nC -0.171759 -0.434158 -1.126235\\nC 1.636281 0.069209 -1.287411\\nC -1.284722 -0.630014 -0.961522\\nC 1.565827 0.948366 0.760526\\nH -2.651333 -1.061252 -0.956870\\nH -0.043688 -0.788398 -1.962408\\nH 0.491764 0.285898 2.877978\\nH 1.829949 0.629391 0.010298\\nH -1.712599 0.107616 1.776666\\nH 1.561820 -0.756237 -1.650643\\n12\\nH6 C6\\nC 0.069387 1.578392 0.756596\\nC -1.230384 -0.018813 1.595981\\nC -0.291255 -0.558226 -0.917836\\nC 1.500783 0.195828 -0.921335\\nC -0.979461 -0.632301 -0.921997\\nC 1.526166 0.914417 0.958096\\nH -2.450233 -0.826797 -1.031599\\nH -0.218096 -0.834849 -2.103546\\nH 0.136236 0.188752 2.727916\\nH 2.086284 0.743784 -0.098464\\nH -1.750771 0.003407 1.539228\\nH 1.601336 -0.753588 -1.583048\\n12\\nH6 C6\\nC 0.304637 1.576876 0.659989\\nC -1.164331 0.085829 1.327671\\nC -0.317461 -0.739197 -0.840597\\nC 1.377443 0.301317 -0.699146\\nC -1.057630 -0.707856 -0.885870\\nC 1.711603 0.630175 0.946255\\nH -2.575906 -0.943477 -1.038757\\nH -0.246181 -0.631950 -1.977247\\nH 0.037814 -0.207292 2.511714\\nH 2.148001 0.973344 0.062006\\nH -1.951652 0.105132 1.413728\\nH 1.733655 -0.442894 -1.479753\\n12\\nH6 C6\\nC 0.302533 1.359070 0.435126\\nC -1.249765 0.166436 1.057979\\nC -0.462267 -0.876002 -0.966677\\nC 1.523229 0.427600 -0.641492\\nC -0.916413 -0.761663 -0.704014\\nC 1.525365 0.774827 0.854295\\nH -2.712714 -0.954328 -0.742548\\nH -0.303102 -0.737311 -1.976511\\nH 0.162452 0.099402 2.621800\\nH 2.419876 0.739887 0.106448\\nH -2.067311 0.317732 1.555603\\nH 1.778111 -0.555641 -1.600017\\n12\\nH6 C6\\nC 0.297494 1.063411 0.579899\\nC -1.207248 0.078940 1.136262\\nC -0.403455 -0.627933 -0.751761\\nC 1.184532 0.386852 -0.690932\\nC -0.721978 -0.600510 -0.569776\\nC 1.276725 0.725362 0.615936\\nH -2.918729 -1.034029 -0.654154\\nH -0.264254 -0.985061 -2.215828\\nH 0.368814 0.106159 2.674313\\nH 2.526412 0.791090 0.130886\\nH -1.836600 0.610914 1.504218\\nH 1.698279 -0.515188 -1.759071\\n12\\nH6 C6\\nC 0.278071 0.985890 0.708481\\nC -1.167913 0.219135 0.890823\\nC -0.641647 -0.556338 -0.632877\\nC 1.105210 0.132735 -0.977717\\nC -0.554049 -0.402051 -0.953096\\nC 1.558664 0.804873 0.666741\\nH -2.648535 -1.198846 -0.578952\\nH -0.073267 -1.018472 -2.282147\\nH 0.391681 0.224473 2.866150\\nH 2.347151 0.824384 0.364546\\nH -2.090555 0.447415 1.662996\\nH 1.495183 -0.463193 -1.734954\\n12\\nH6 C6\\nC 0.128744 1.025159 0.758634\\nC -1.233252 0.216364 0.772757\\nC -0.855651 -0.503649 -0.704389\\nC 1.385531 -0.036241 -1.054994\\nC -0.554883 -0.304727 -1.213447\\nC 1.709522 0.580756 0.890217\\nH -2.539571 -1.073778 -0.667922\\nH 0.046829 -0.966948 -2.268299\\nH 0.351581 0.430884 2.849341\\nH 2.138585 0.850450 0.458543\\nH -2.081645 0.261562 1.649185\\nH 1.504203 -0.479825 -1.469632\\n12\\nH6 C6\\nC 0.030254 1.108910 1.026908\\nC -1.345893 0.399301 0.701777\\nC -0.733596 -0.531795 -0.690974\\nC 1.154513 0.334861 -0.634555\\nC -0.307915 -0.422615 -1.230629\\nC 1.735150 0.635035 0.806911\\nH -2.433546 -1.260154 -0.549863\\nH -0.000408 -0.946523 -2.413100\\nH 0.063850 0.511426 2.590632\\nH 2.218169 0.781598 0.556367\\nH -2.064741 0.036142 1.636144\\nH 1.684156 -0.646180 -1.799624\\n12\\nH6 C6\\nC -0.009078 1.001361 0.998009\\nC -1.124851 0.329230 0.552957\\nC -0.825315 -0.301868 -0.727198\\nC 1.118032 0.157312 -0.662938\\nC -0.272739 -0.489553 -1.141346\\nC 1.667101 0.623813 0.838856\\nH -2.486076 -1.190134 -0.481022\\nH -0.178001 -1.256901 -2.291701\\nH 0.138476 0.642038 2.332906\\nH 2.125685 0.800904 0.667611\\nH -1.805023 0.189319 1.649984\\nH 1.651782 -0.505514 -1.736123\\n12\\nH6 C6\\nC 0.090345 1.045128 1.150517\\nC -1.093195 0.515519 0.496167\\nC -0.896498 -0.369368 -0.783246\\nC 1.212933 0.126726 -0.500180\\nC -0.369282 -0.591775 -1.092332\\nC 1.404846 0.733360 0.693904\\nH -2.523920 -1.236141 -0.557842\\nH -0.127444 -1.367770 -2.112875\\nH 0.172673 0.816813 2.359769\\nH 2.336137 0.750515 0.605202\\nH -1.720694 0.185431 1.503169\\nH 1.514092 -0.608432 -1.762259\\n12\\nH6 C6\\nC 0.001217 0.819122 1.271806\\nC -1.214672 0.450963 0.443649\\nC -1.011624 -0.532385 -0.696360\\nC 1.234738 0.153154 -0.627255\\nC -0.426876 -0.540901 -1.235090\\nC 1.519185 1.052035 0.703973\\nH -2.442133 -1.250649 -0.594907\\nH -0.081439 -1.495124 -2.018013\\nH 0.115253 0.998768 2.427833\\nH 2.260954 0.901565 0.466682\\nH -1.779796 0.056613 1.476159\\nH 1.825185 -0.613155 -1.618482\\n12\\nH6 C6\\nC 0.167903 0.789873 1.254133\\nC -1.209718 0.421358 0.386178\\nC -1.175937 -0.562271 -0.667392\\nC 1.237832 0.206934 -0.758166\\nC -0.314962 -0.462633 -1.214916\\nC 1.461362 0.716200 0.599267\\nH -2.354038 -1.328127 -0.667134\\nH -0.008357 -1.486806 -2.130416\\nH 0.022326 0.919408 2.579135\\nH 2.220304 0.982913 0.558146\\nH -1.935838 0.116474 1.495801\\nH 1.889115 -0.313315 -1.434642\\n12\\nH6 C6\\nC -0.028109 0.831829 1.108766\\nC -1.104911 0.310176 0.474636\\nC -1.220402 -0.434043 -0.574180\\nC 1.319808 0.199040 -0.639474\\nC -0.293454 -0.462718 -1.096608\\nC 1.423087 0.662704 0.537610\\nH -2.333877 -1.268304 -0.584232\\nH 0.156616 -1.535096 -2.326032\\nH 0.098798 0.964613 2.524911\\nH 2.106878 0.856924 0.596540\\nH -1.919367 0.180508 1.403345\\nH 1.794927 -0.305625 -1.425290\\n12\\nH6 C6\\nC -0.006318 0.915730 1.122356\\nC -0.965723 0.352752 0.478492\\nC -1.294045 -0.562589 -0.561260\\nC 1.299156 0.108915 -0.703963\\nC -0.293196 -0.650266 -0.968687\\nC 1.393987 0.682113 0.574808\\nH -2.269337 -1.174665 -0.698281\\nH 0.117876 -1.510047 -2.313361\\nH 0.069391 1.057509 2.556809\\nH 2.027997 0.846521 0.519730\\nH -1.819980 0.161481 1.484779\\nH 1.740184 -0.227448 -1.491428\\n12\\nH6 C6\\nC 0.020735 0.814353 1.110004\\nC -1.137249 0.301543 0.442966\\nC -1.323656 -0.558539 -0.611730\\nC 1.388832 0.138622 -0.727567\\nC 0.004971 -0.634101 -1.007310\\nC 1.393119 0.659040 0.559287\\nH -2.268077 -1.070260 -0.523360\\nH 0.035176 -1.397235 -2.232713\\nH -0.010726 0.998093 2.520140\\nH 2.165145 0.946977 0.543914\\nH -1.978548 0.131792 1.509014\\nH 1.710273 -0.330278 -1.582654\\n12\\nH6 C6\\nC 0.034596 0.781393 1.215361\\nC -1.155874 0.272815 0.282553\\nC -1.487088 -0.617611 -0.603749\\nC 1.354040 0.208265 -0.788690\\nC -0.040316 -0.709436 -1.020131\\nC 1.504592 0.605719 0.505512\\nH -2.347341 -1.051973 -0.519403\\nH 0.000168 -1.314876 -2.093685\\nH -0.063099 1.067064 2.451673\\nH 2.204317 0.891348 0.480588\\nH -1.933619 0.105701 1.496126\\nH 1.929618 -0.238402 -1.406163\\n12\\nH6 C6\\nC 0.115946 0.774463 1.198412\\nC -1.277270 0.310313 0.318091\\nC -1.331989 -0.684148 -0.566309\\nC 1.256682 0.174375 -0.835737\\nC -0.216755 -0.695375 -1.083795\\nC 1.384354 0.648076 0.517039\\nH -2.393708 -0.976601 -0.490867\\nH 0.146558 -1.261673 -2.058414\\nH 0.023630 1.088440 2.431717\\nH 2.254275 0.869529 0.523519\\nH -1.932188 0.035341 1.449764\\nH 1.970459 -0.282734 -1.403426\\n12\\nH6 C6\\nC 0.107523 0.606384 1.158880\\nC -1.132131 0.339077 0.460616\\nC -1.351384 -0.573769 -0.590619\\nC 1.107071 0.219866 -0.655756\\nC -0.145443 -0.793379 -1.132590\\nC 1.440141 0.542774 0.463293\\nH -2.515159 -0.898514 -0.577436\\nH 0.086346 -1.296096 -1.911700\\nH 0.020365 1.087853 2.359505\\nH 2.247322 0.860631 0.541567\\nH -1.928549 0.141146 1.411552\\nH 2.063890 -0.235963 -1.527319\\n12\\nH6 C6\\nC 0.111489 0.717615 1.166706\\nC -1.168702 0.343580 0.580880\\nC -1.260179 -0.589780 -0.410126\\nC 1.048936 -0.007748 -0.568627\\nC -0.106626 -0.777371 -1.194270\\nC 1.340753 0.532470 0.434655\\nH -2.401351 -0.827369 -0.669654\\nH 0.169386 -1.188831 -1.938766\\nH -0.088522 1.147611 2.232383\\nH 2.201662 0.911252 0.560648\\nH -1.883627 0.045884 1.395479\\nH 2.036775 -0.307306 -1.589315\\n12\\nH6 C6\\nC -0.010745 0.628743 1.149500\\nC -1.204253 0.219357 0.729319\\nC -1.235972 -0.665097 -0.350420\\nC 1.035398 -0.069911 -0.600949\\nC -0.027121 -0.717049 -1.193956\\nC 1.268918 0.574565 0.457055\\nH -2.149497 -0.848952 -0.732364\\nH 0.144156 -1.080173 -1.913661\\nH -0.168913 1.188484 2.181687\\nH 2.272023 1.005577 0.556929\\nH -1.986915 0.151764 1.399085\\nH 2.062915 -0.387303 -1.682233\\n12\\nH6 C6\\nC 0.063629 0.669246 1.144386\\nC -1.222656 0.160954 0.812440\\nC -1.235572 -0.569216 -0.424926\\nC 1.093192 -0.084770 -0.604897\\nC -0.035175 -0.779268 -1.128244\\nC 1.330275 0.552841 0.354754\\nH -2.228505 -0.861755 -0.725093\\nH 0.063421 -1.071132 -1.986469\\nH -0.113702 1.078782 2.120516\\nH 2.226990 1.037306 0.604997\\nH -1.951911 0.235747 1.439749\\nH 2.010009 -0.368728 -1.607218\\n12\\nH6 C6\\nC 0.009638 0.749190 1.152379\\nC -1.256229 0.065562 0.816707\\nC -1.228429 -0.558997 -0.389379\\nC 1.069868 -0.153074 -0.653363\\nC -0.019628 -0.663478 -1.110998\\nC 1.389389 0.494859 0.336483\\nH -2.100118 -0.799172 -0.706915\\nH -0.014136 -1.071943 -2.057533\\nH -0.094502 1.086176 2.089701\\nH 2.210970 1.011695 0.636245\\nH -1.900806 0.215315 1.419604\\nH 1.933979 -0.376127 -1.532937\\n12\\nH6 C6\\nC 0.014735 0.677815 1.133437\\nC -1.210732 0.136299 0.823059\\nC -1.243579 -0.567386 -0.417704\\nC 1.061753 -0.236421 -0.648394\\nC -0.008240 -0.661427 -1.119900\\nC 1.393005 0.574442 0.433703\\nH -2.164410 -0.795200 -0.714862\\nH -0.025030 -1.082961 -2.105511\\nH -0.072393 1.046491 2.085230\\nH 2.209007 0.997800 0.692643\\nH -1.980999 0.252705 1.378513\\nH 2.026879 -0.342151 -1.540223\\n12\\nH6 C6\\nC 0.016071 0.627699 1.149567\\nC -1.207700 0.088547 0.873409\\nC -1.286142 -0.517404 -0.457542\\nC 1.110445 -0.184555 -0.741382\\nC -0.046156 -0.646933 -1.162721\\nC 1.320667 0.547617 0.536360\\nH -2.101966 -0.941685 -0.766394\\nH -0.045270 -1.124143 -2.123589\\nH 0.024513 1.136023 2.116396\\nH 2.155205 0.983512 0.740246\\nH -1.981129 0.298628 1.312606\\nH 2.041456 -0.267299 -1.476963\\n12\\nH6 C6\\nC 0.029567 0.632946 1.133272\\nC -1.211107 0.114740 0.812710\\nC -1.242288 -0.490149 -0.472064\\nC 1.100176 -0.215520 -0.708206\\nC -0.060236 -0.648507 -1.265958\\nC 1.289981 0.502537 0.553453\\nH -2.094501 -0.928202 -0.764876\\nH -0.025515 -1.081069 -2.103339\\nH 0.013858 1.094190 2.117904\\nH 2.133689 0.978712 0.821340\\nH -1.956318 0.297968 1.290554\\nH 2.022688 -0.257641 -1.414797\\n12\\nH6 C6\\nC 0.074186 0.678986 1.130191\\nC -1.201373 0.152430 0.816175\\nC -1.188896 -0.469006 -0.426910\\nC 1.148533 -0.172351 -0.793622\\nC -0.071917 -0.662824 -1.236048\\nC 1.245787 0.473480 0.496571\\nH -2.152975 -0.907826 -0.775349\\nH -0.085164 -1.134175 -2.130438\\nH 0.056294 1.125710 2.165463\\nH 2.071601 0.934929 0.810694\\nH -1.936668 0.214814 1.359522\\nH 2.040587 -0.234161 -1.416255\\n12\\nH6 C6\\nC 0.063971 0.623343 1.202570\\nC -1.167233 0.156266 0.806050\\nC -1.211157 -0.470615 -0.465398\\nC 1.183821 -0.138850 -0.781898\\nC -0.097420 -0.626502 -1.239677\\nC 1.217736 0.471669 0.499043\\nH -2.142205 -0.863454 -0.826988\\nH -0.078436 -1.103559 -2.213737\\nH 0.085602 1.058185 2.197222\\nH 2.082771 0.904250 0.831243\\nH -1.972944 0.204618 1.362396\\nH 2.035486 -0.215343 -1.370833\\n12\\nH6 C6\\nC 0.096691 0.643851 1.218851\\nC -1.152291 0.147483 0.793518\\nC -1.224123 -0.515533 -0.448704\\nC 1.153367 -0.123593 -0.797342\\nC -0.060082 -0.629760 -1.245189\\nC 1.217141 0.510256 0.467298\\nH -2.144287 -0.919902 -0.799019\\nH -0.125049 -1.140527 -2.190844\\nH 0.114621 1.103492 2.202738\\nH 2.085808 0.916496 0.803076\\nH -1.999352 0.200959 1.376372\\nH 2.037550 -0.193215 -1.380762\\n12\\nH6 C6\\nC 0.060080 0.614083 1.238930\\nC -1.149980 0.112902 0.778022\\nC -1.213156 -0.513021 -0.471528\\nC 1.149490 -0.113313 -0.775999\\nC -0.057764 -0.632416 -1.248770\\nC 1.214959 0.510811 0.473703\\nH -2.156633 -0.906223 -0.831690\\nH -0.102067 -1.130042 -2.202966\\nH 0.113584 1.100869 2.211143\\nH 2.144698 0.921061 0.834880\\nH -2.047377 0.217268 1.383321\\nH 2.044160 -0.181972 -1.389051\\n12\\nH6 C6\\nC 0.076628 0.631871 1.266674\\nC -1.152348 0.109201 0.779830\\nC -1.215302 -0.525638 -0.477918\\nC 1.158181 -0.107371 -0.762676\\nC -0.065657 -0.663314 -1.258828\\nC 1.183024 0.500753 0.457307\\nH -2.143134 -0.916973 -0.838250\\nH -0.122193 -1.132620 -2.204390\\nH 0.095212 1.111167 2.213159\\nH 2.160001 0.904060 0.839243\\nH -2.032660 0.247811 1.378173\\nH 2.058241 -0.158941 -1.392331\\n\");\n\tviewer_17175173874342544.setStyle({\"sphere\": {\"scale\": 0.35}, \"stick\": {\"radius\": 0.2}});\n\tviewer_17175173874342544.zoomTo();\n\tviewer_17175173874342544.animate({\"loop\": \"forward\"});\nviewer_17175173874342544.render();\n});\n</script>",
      "text/html": [
       "<div id=\"3dmolviewer_17175173874342544\"  style=\"position: relative; width: 800px; height: 400px;\">\n",
       "        <p id=\"3dmolwarning_17175173874342544\" style=\"background-color:#ffcccc;color:black\">3Dmol.js failed to load for some reason.  Please check your browser console for error messages.<br></p>\n",
       "        </div>\n",
       "<script>\n",
       "\n",
       "var loadScriptAsync = function(uri){\n",
       "  return new Promise((resolve, reject) => {\n",
       "    //this is to ignore the existence of requirejs amd\n",
       "    var savedexports, savedmodule;\n",
       "    if (typeof exports !== 'undefined') savedexports = exports;\n",
       "    else exports = {}\n",
       "    if (typeof module !== 'undefined') savedmodule = module;\n",
       "    else module = {}\n",
       "\n",
       "    var tag = document.createElement('script');\n",
       "    tag.src = uri;\n",
       "    tag.async = true;\n",
       "    tag.onload = () => {\n",
       "        exports = savedexports;\n",
       "        module = savedmodule;\n",
       "        resolve();\n",
       "    };\n",
       "  var firstScriptTag = document.getElementsByTagName('script')[0];\n",
       "  firstScriptTag.parentNode.insertBefore(tag, firstScriptTag);\n",
       "});\n",
       "};\n",
       "\n",
       "if(typeof $3Dmolpromise === 'undefined') {\n",
       "$3Dmolpromise = null;\n",
       "  $3Dmolpromise = loadScriptAsync('https://cdnjs.cloudflare.com/ajax/libs/3Dmol/2.1.0/3Dmol-min.js');\n",
       "}\n",
       "\n",
       "var viewer_17175173874342544 = null;\n",
       "var warn = document.getElementById(\"3dmolwarning_17175173874342544\");\n",
       "if(warn) {\n",
       "    warn.parentNode.removeChild(warn);\n",
       "}\n",
       "$3Dmolpromise.then(function() {\n",
       "viewer_17175173874342544 = $3Dmol.createViewer(document.getElementById(\"3dmolviewer_17175173874342544\"),{backgroundColor:\"white\"});\n",
       "viewer_17175173874342544.zoomTo();\n",
       "\tviewer_17175173874342544.addModelsAsFrames(\"12\\nH6 C6\\nC 1.714909 1.043989 -1.781552\\nC 0.500753 1.147564 5.348846\\nC 2.096957 0.098590 -3.415799\\nC 1.126051 1.309391 -1.365548\\nC -3.751276 2.393056 0.076955\\nC 0.266512 1.623518 3.514848\\nH -3.780046 -0.903277 2.224245\\nH -2.467477 -2.311531 -2.019356\\nH 2.027115 -0.839215 4.459527\\nH 0.735349 1.316141 -3.021356\\nH -1.124371 -2.766065 0.849562\\nH 2.655517 -2.112154 -4.870382\\n12\\nH6 C6\\nC 1.535354 1.858687 -1.630214\\nC 0.235626 0.862862 4.959792\\nC 1.813562 -0.259826 -3.651763\\nC 1.681106 1.320594 -2.019198\\nC -3.547753 2.352024 0.700296\\nC 0.216359 0.664329 2.749808\\nH -3.188269 -1.903546 2.313138\\nH -2.633398 -1.317369 -2.313262\\nH 1.619424 -0.560712 5.167804\\nH 0.537167 0.630359 -2.159761\\nH -0.590506 -2.145870 1.149293\\nH 2.321321 -1.501523 -5.265940\\n12\\nH6 C6\\nC 1.712823 1.840601 -1.033943\\nC 0.659918 1.326188 3.760459\\nC 2.390848 -0.548541 -3.385917\\nC 1.836908 0.762784 -1.161078\\nC -3.474540 1.694087 0.869831\\nC 1.175080 0.535121 2.804343\\nH -3.527218 -1.310102 1.915201\\nH -3.504109 -1.846020 -1.925491\\nH 0.596788 -0.726904 4.247162\\nH 0.647898 1.490543 -2.514939\\nH -0.557238 -1.971382 1.009982\\nH 2.042834 -1.246367 -4.585617\\n12\\nH6 C6\\nC 1.428048 1.901677 -1.160334\\nC -0.045888 1.169936 3.880748\\nC 2.868308 -0.044667 -3.003126\\nC 1.222937 0.534288 -1.116246\\nC -3.541208 1.069518 1.468431\\nC 1.248939 1.096323 2.042297\\nH -3.916637 -1.235052 2.222653\\nH -2.421490 -1.564920 -2.605209\\nH 0.083452 -1.788680 3.497912\\nH 1.924770 1.470796 -2.611174\\nH -0.299313 -1.321949 1.354222\\nH 1.448073 -1.287262 -3.970180\\n12\\nH6 C6\\nC 0.491277 2.676152 -0.926558\\nC -0.325565 0.249590 3.226103\\nC 2.259543 0.610021 -3.470007\\nC 1.221451 -0.064614 -1.136386\\nC -2.801690 0.334540 1.203865\\nC 2.320510 0.959027 1.812224\\nH -4.011297 -0.658449 1.813444\\nH -2.168763 -2.395220 -2.529123\\nH 0.057401 -1.107342 4.015604\\nH 1.765330 1.081611 -2.324261\\nH -0.085091 -1.410440 2.231891\\nH 1.276886 -0.274868 -3.916803\\n12\\nH6 C6\\nC -0.121218 2.306258 -0.257122\\nC -0.234042 0.388573 3.414925\\nC 2.215151 -0.243610 -3.344204\\nC 1.220500 0.215702 -1.958989\\nC -2.587600 0.338903 2.010623\\nC 2.160165 0.289077 2.159303\\nH -4.062089 -0.719825 0.934249\\nH -1.743434 -1.689226 -2.544324\\nH -0.199807 -1.318121 3.753547\\nH 1.801112 1.516155 -2.506469\\nH -0.341356 -0.797488 1.889719\\nH 1.892609 -0.286390 -3.551265\\n12\\nH6 C6\\nC 0.106488 2.368783 -0.479145\\nC -0.201866 0.254130 3.658440\\nC 2.429456 -0.488822 -3.369486\\nC 0.766849 0.490710 -2.285983\\nC -2.790355 0.426493 1.216208\\nC 1.687986 0.150343 2.226732\\nH -4.545693 -0.465862 1.052469\\nH -1.013605 -1.469447 -2.179476\\nH -0.039288 -1.225821 4.391952\\nH 1.265193 1.989515 -2.858164\\nH 0.167854 -0.912374 1.360940\\nH 2.166974 -1.117640 -2.734494\\n12\\nH6 C6\\nC 0.076492 2.363705 -0.104559\\nC -0.270316 0.222010 3.715676\\nC 2.598622 -0.452650 -3.597877\\nC 0.963301 0.321864 -2.074693\\nC -2.822219 0.136079 0.652895\\nC 2.016606 -0.243085 1.818138\\nH -4.333732 -0.759622 1.282328\\nH -1.049471 -1.034713 -1.963609\\nH -0.187311 -1.209612 3.581152\\nH 1.293076 2.184188 -2.353081\\nH -0.164980 -0.743799 1.427968\\nH 1.879925 -0.784357 -2.384345\\n12\\nH6 C6\\nC 0.832538 1.960228 0.274530\\nC -0.724955 0.697055 3.806396\\nC 2.095821 -0.501734 -3.335682\\nC 1.044946 0.549120 -1.617365\\nC -2.063252 0.248753 0.072977\\nC 1.919409 -0.578238 1.370608\\nH -4.598420 -1.104053 0.810252\\nH -1.309776 -0.692663 -1.581694\\nH 0.492192 -0.663160 3.049444\\nH 1.408962 1.852728 -2.727889\\nH -0.458522 -0.925232 1.745324\\nH 1.361049 -0.842797 -1.866909\\n12\\nH6 C6\\nC 0.603196 1.681361 0.410616\\nC -0.646955 0.807170 3.754146\\nC 1.740154 -0.833549 -2.681083\\nC 1.430037 0.448616 -1.459937\\nC -2.063704 -0.072582 0.668576\\nC 1.577311 -0.640770 0.888391\\nH -4.426739 -0.791920 -0.165400\\nH -1.088618 -0.625619 -2.182681\\nH 0.739391 -1.013869 2.953858\\nH 1.627731 1.656623 -2.619292\\nH -0.534264 -0.442680 2.667789\\nH 1.042451 -0.172775 -2.234990\\n12\\nH6 C6\\nC 0.645442 1.865991 -0.049633\\nC -0.355785 1.268655 3.182240\\nC 0.811650 -0.996704 -2.412872\\nC 2.693227 -0.439806 -1.555259\\nC -2.193712 0.504181 0.475762\\nC 1.442643 -0.671500 1.384788\\nH -3.930573 -0.613554 -0.549623\\nH -1.014546 -1.171834 -2.216939\\nH 0.771716 -0.514500 2.711031\\nH 1.077239 1.130030 -2.040637\\nH -0.995054 -0.430938 2.765858\\nH 1.047745 0.069986 -1.694721\\n12\\nH6 C6\\nC 1.032012 1.612322 -0.042243\\nC -0.158855 1.149631 3.397137\\nC 0.531925 -0.149209 -2.045175\\nC 2.356432 -0.246808 -1.333217\\nC -1.815208 0.022859 -0.021288\\nC 1.553468 -0.447242 0.780651\\nH -3.813178 -0.946437 -0.739918\\nH -1.243361 -0.760458 -2.477591\\nH 0.930423 -0.282391 2.839018\\nH 0.816976 0.883724 -1.765706\\nH -1.360805 -1.249342 2.803767\\nH 1.170163 0.413359 -1.395442\\n12\\nH6 C6\\nC 1.572257 1.443667 -0.067093\\nC -0.215827 1.084741 3.063136\\nC 1.062104 -0.381981 -1.508940\\nC 2.215933 -0.198780 -1.662580\\nC -2.078130 -0.085283 -0.193844\\nC 1.365762 -0.343567 0.800962\\nH -3.520774 -1.102495 -0.561202\\nH -1.327580 -1.010318 -2.446340\\nH 0.693446 -0.679473 2.927027\\nH 1.278887 1.300763 -1.908743\\nH -1.937096 -0.620617 2.440813\\nH 0.891010 0.593348 -0.883203\\n12\\nH6 C6\\nC 1.217291 1.386282 -0.070107\\nC -0.746496 0.710810 3.220693\\nC 0.677043 -0.360290 -1.522842\\nC 2.001867 -0.245516 -1.836433\\nC -1.666907 0.000793 -0.858981\\nC 1.516850 -0.129599 0.741568\\nH -3.240933 -1.324373 -0.722679\\nH -0.877460 -1.234605 -2.140062\\nH 0.543036 0.013382 2.494091\\nH 1.518932 0.969885 -1.181068\\nH -1.752634 -0.192585 2.824391\\nH 0.809404 0.405821 -0.948576\\n12\\nH6 C6\\nC 0.833531 1.210053 -0.155089\\nC -0.885692 0.641489 3.036589\\nC 0.429139 -0.093735 -1.460829\\nC 1.474783 0.310158 -1.899560\\nC -1.305085 0.358472 -0.835251\\nC 2.121418 0.233054 0.662397\\nH -3.173036 -1.639167 -1.189849\\nH -1.265127 -0.877761 -1.575682\\nH 0.464318 -0.572603 2.667126\\nH 1.536285 1.095111 -1.032378\\nH -1.353590 -0.466957 2.810649\\nH 1.123048 -0.198107 -1.028130\\n12\\nH6 C6\\nC 0.309144 1.139778 0.534385\\nC -1.373147 0.393938 2.858981\\nC 0.456858 -0.062747 -1.570240\\nC 1.674018 0.493134 -2.072614\\nC -1.048958 0.109261 -0.769223\\nC 2.134035 0.164620 0.245077\\nH -2.890826 -1.880184 -1.302731\\nH -1.296668 -0.878386 -1.775633\\nH 0.589323 -0.226309 2.851078\\nH 1.573348 0.871053 -0.727730\\nH -1.404940 0.035135 2.447470\\nH 1.277804 -0.159286 -0.718826\\n12\\nH6 C6\\nC 0.251948 1.139511 0.486035\\nC -1.516654 0.200018 2.437017\\nC 0.453844 -0.224121 -0.910802\\nC 1.812635 -0.037145 -1.979774\\nC -0.878399 0.046411 -1.055156\\nC 2.187209 0.405980 0.205422\\nH -2.855319 -1.912890 -1.040864\\nH -0.792878 -0.702559 -1.835101\\nH 0.140504 0.205071 3.034734\\nH 1.776156 0.865027 -0.779379\\nH -1.449816 -0.138198 2.199106\\nH 0.870764 0.152903 -0.761245\\n12\\nH6 C6\\nC 0.145857 1.190599 0.328310\\nC -1.205328 0.756057 2.149004\\nC 0.391674 -0.416696 -1.105498\\nC 1.916385 -0.211790 -1.927057\\nC -1.274000 -0.139962 -1.102029\\nC 2.170353 0.452657 0.620246\\nH -3.000381 -1.769130 -0.730738\\nH -0.619135 -0.682805 -1.880837\\nH 0.250557 0.451257 2.854981\\nH 1.872906 0.799502 -0.626069\\nH -1.852777 -0.333167 2.428189\\nH 1.203880 -0.096514 -1.008509\\n12\\nH6 C6\\nC 0.344175 1.437529 0.481966\\nC -1.382640 0.226538 2.169965\\nC 0.036099 -0.340527 -1.420387\\nC 1.661139 0.128651 -1.590370\\nC -1.143084 -0.510863 -1.193524\\nC 2.342172 0.826381 0.552679\\nH -2.658515 -1.392807 -0.524813\\nH -0.410234 -0.912687 -1.940354\\nH 0.260509 0.647486 2.818393\\nH 1.803259 0.473098 -0.250394\\nH -2.118214 0.020459 2.179057\\nH 1.265327 -0.603250 -1.282224\\n12\\nH6 C6\\nC 0.477770 1.659765 0.560138\\nC -1.256461 0.250697 2.017293\\nC -0.248334 -0.085359 -0.948363\\nC 1.474439 -0.066798 -1.420418\\nC -1.326707 -0.365659 -1.085372\\nC 1.738764 1.019872 0.598730\\nH -2.702213 -1.421639 -0.859837\\nH -0.191317 -0.685415 -2.136947\\nH 0.492462 0.259753 2.854274\\nH 1.967906 0.506651 -0.145177\\nH -2.028465 -0.250174 2.001711\\nH 1.602148 -0.821686 -1.436041\\n12\\nH6 C6\\nC 0.083789 1.516020 0.611851\\nC -1.305337 0.113568 1.907764\\nC -0.171759 -0.434158 -1.126235\\nC 1.636281 0.069209 -1.287411\\nC -1.284722 -0.630014 -0.961522\\nC 1.565827 0.948366 0.760526\\nH -2.651333 -1.061252 -0.956870\\nH -0.043688 -0.788398 -1.962408\\nH 0.491764 0.285898 2.877978\\nH 1.829949 0.629391 0.010298\\nH -1.712599 0.107616 1.776666\\nH 1.561820 -0.756237 -1.650643\\n12\\nH6 C6\\nC 0.069387 1.578392 0.756596\\nC -1.230384 -0.018813 1.595981\\nC -0.291255 -0.558226 -0.917836\\nC 1.500783 0.195828 -0.921335\\nC -0.979461 -0.632301 -0.921997\\nC 1.526166 0.914417 0.958096\\nH -2.450233 -0.826797 -1.031599\\nH -0.218096 -0.834849 -2.103546\\nH 0.136236 0.188752 2.727916\\nH 2.086284 0.743784 -0.098464\\nH -1.750771 0.003407 1.539228\\nH 1.601336 -0.753588 -1.583048\\n12\\nH6 C6\\nC 0.304637 1.576876 0.659989\\nC -1.164331 0.085829 1.327671\\nC -0.317461 -0.739197 -0.840597\\nC 1.377443 0.301317 -0.699146\\nC -1.057630 -0.707856 -0.885870\\nC 1.711603 0.630175 0.946255\\nH -2.575906 -0.943477 -1.038757\\nH -0.246181 -0.631950 -1.977247\\nH 0.037814 -0.207292 2.511714\\nH 2.148001 0.973344 0.062006\\nH -1.951652 0.105132 1.413728\\nH 1.733655 -0.442894 -1.479753\\n12\\nH6 C6\\nC 0.302533 1.359070 0.435126\\nC -1.249765 0.166436 1.057979\\nC -0.462267 -0.876002 -0.966677\\nC 1.523229 0.427600 -0.641492\\nC -0.916413 -0.761663 -0.704014\\nC 1.525365 0.774827 0.854295\\nH -2.712714 -0.954328 -0.742548\\nH -0.303102 -0.737311 -1.976511\\nH 0.162452 0.099402 2.621800\\nH 2.419876 0.739887 0.106448\\nH -2.067311 0.317732 1.555603\\nH 1.778111 -0.555641 -1.600017\\n12\\nH6 C6\\nC 0.297494 1.063411 0.579899\\nC -1.207248 0.078940 1.136262\\nC -0.403455 -0.627933 -0.751761\\nC 1.184532 0.386852 -0.690932\\nC -0.721978 -0.600510 -0.569776\\nC 1.276725 0.725362 0.615936\\nH -2.918729 -1.034029 -0.654154\\nH -0.264254 -0.985061 -2.215828\\nH 0.368814 0.106159 2.674313\\nH 2.526412 0.791090 0.130886\\nH -1.836600 0.610914 1.504218\\nH 1.698279 -0.515188 -1.759071\\n12\\nH6 C6\\nC 0.278071 0.985890 0.708481\\nC -1.167913 0.219135 0.890823\\nC -0.641647 -0.556338 -0.632877\\nC 1.105210 0.132735 -0.977717\\nC -0.554049 -0.402051 -0.953096\\nC 1.558664 0.804873 0.666741\\nH -2.648535 -1.198846 -0.578952\\nH -0.073267 -1.018472 -2.282147\\nH 0.391681 0.224473 2.866150\\nH 2.347151 0.824384 0.364546\\nH -2.090555 0.447415 1.662996\\nH 1.495183 -0.463193 -1.734954\\n12\\nH6 C6\\nC 0.128744 1.025159 0.758634\\nC -1.233252 0.216364 0.772757\\nC -0.855651 -0.503649 -0.704389\\nC 1.385531 -0.036241 -1.054994\\nC -0.554883 -0.304727 -1.213447\\nC 1.709522 0.580756 0.890217\\nH -2.539571 -1.073778 -0.667922\\nH 0.046829 -0.966948 -2.268299\\nH 0.351581 0.430884 2.849341\\nH 2.138585 0.850450 0.458543\\nH -2.081645 0.261562 1.649185\\nH 1.504203 -0.479825 -1.469632\\n12\\nH6 C6\\nC 0.030254 1.108910 1.026908\\nC -1.345893 0.399301 0.701777\\nC -0.733596 -0.531795 -0.690974\\nC 1.154513 0.334861 -0.634555\\nC -0.307915 -0.422615 -1.230629\\nC 1.735150 0.635035 0.806911\\nH -2.433546 -1.260154 -0.549863\\nH -0.000408 -0.946523 -2.413100\\nH 0.063850 0.511426 2.590632\\nH 2.218169 0.781598 0.556367\\nH -2.064741 0.036142 1.636144\\nH 1.684156 -0.646180 -1.799624\\n12\\nH6 C6\\nC -0.009078 1.001361 0.998009\\nC -1.124851 0.329230 0.552957\\nC -0.825315 -0.301868 -0.727198\\nC 1.118032 0.157312 -0.662938\\nC -0.272739 -0.489553 -1.141346\\nC 1.667101 0.623813 0.838856\\nH -2.486076 -1.190134 -0.481022\\nH -0.178001 -1.256901 -2.291701\\nH 0.138476 0.642038 2.332906\\nH 2.125685 0.800904 0.667611\\nH -1.805023 0.189319 1.649984\\nH 1.651782 -0.505514 -1.736123\\n12\\nH6 C6\\nC 0.090345 1.045128 1.150517\\nC -1.093195 0.515519 0.496167\\nC -0.896498 -0.369368 -0.783246\\nC 1.212933 0.126726 -0.500180\\nC -0.369282 -0.591775 -1.092332\\nC 1.404846 0.733360 0.693904\\nH -2.523920 -1.236141 -0.557842\\nH -0.127444 -1.367770 -2.112875\\nH 0.172673 0.816813 2.359769\\nH 2.336137 0.750515 0.605202\\nH -1.720694 0.185431 1.503169\\nH 1.514092 -0.608432 -1.762259\\n12\\nH6 C6\\nC 0.001217 0.819122 1.271806\\nC -1.214672 0.450963 0.443649\\nC -1.011624 -0.532385 -0.696360\\nC 1.234738 0.153154 -0.627255\\nC -0.426876 -0.540901 -1.235090\\nC 1.519185 1.052035 0.703973\\nH -2.442133 -1.250649 -0.594907\\nH -0.081439 -1.495124 -2.018013\\nH 0.115253 0.998768 2.427833\\nH 2.260954 0.901565 0.466682\\nH -1.779796 0.056613 1.476159\\nH 1.825185 -0.613155 -1.618482\\n12\\nH6 C6\\nC 0.167903 0.789873 1.254133\\nC -1.209718 0.421358 0.386178\\nC -1.175937 -0.562271 -0.667392\\nC 1.237832 0.206934 -0.758166\\nC -0.314962 -0.462633 -1.214916\\nC 1.461362 0.716200 0.599267\\nH -2.354038 -1.328127 -0.667134\\nH -0.008357 -1.486806 -2.130416\\nH 0.022326 0.919408 2.579135\\nH 2.220304 0.982913 0.558146\\nH -1.935838 0.116474 1.495801\\nH 1.889115 -0.313315 -1.434642\\n12\\nH6 C6\\nC -0.028109 0.831829 1.108766\\nC -1.104911 0.310176 0.474636\\nC -1.220402 -0.434043 -0.574180\\nC 1.319808 0.199040 -0.639474\\nC -0.293454 -0.462718 -1.096608\\nC 1.423087 0.662704 0.537610\\nH -2.333877 -1.268304 -0.584232\\nH 0.156616 -1.535096 -2.326032\\nH 0.098798 0.964613 2.524911\\nH 2.106878 0.856924 0.596540\\nH -1.919367 0.180508 1.403345\\nH 1.794927 -0.305625 -1.425290\\n12\\nH6 C6\\nC -0.006318 0.915730 1.122356\\nC -0.965723 0.352752 0.478492\\nC -1.294045 -0.562589 -0.561260\\nC 1.299156 0.108915 -0.703963\\nC -0.293196 -0.650266 -0.968687\\nC 1.393987 0.682113 0.574808\\nH -2.269337 -1.174665 -0.698281\\nH 0.117876 -1.510047 -2.313361\\nH 0.069391 1.057509 2.556809\\nH 2.027997 0.846521 0.519730\\nH -1.819980 0.161481 1.484779\\nH 1.740184 -0.227448 -1.491428\\n12\\nH6 C6\\nC 0.020735 0.814353 1.110004\\nC -1.137249 0.301543 0.442966\\nC -1.323656 -0.558539 -0.611730\\nC 1.388832 0.138622 -0.727567\\nC 0.004971 -0.634101 -1.007310\\nC 1.393119 0.659040 0.559287\\nH -2.268077 -1.070260 -0.523360\\nH 0.035176 -1.397235 -2.232713\\nH -0.010726 0.998093 2.520140\\nH 2.165145 0.946977 0.543914\\nH -1.978548 0.131792 1.509014\\nH 1.710273 -0.330278 -1.582654\\n12\\nH6 C6\\nC 0.034596 0.781393 1.215361\\nC -1.155874 0.272815 0.282553\\nC -1.487088 -0.617611 -0.603749\\nC 1.354040 0.208265 -0.788690\\nC -0.040316 -0.709436 -1.020131\\nC 1.504592 0.605719 0.505512\\nH -2.347341 -1.051973 -0.519403\\nH 0.000168 -1.314876 -2.093685\\nH -0.063099 1.067064 2.451673\\nH 2.204317 0.891348 0.480588\\nH -1.933619 0.105701 1.496126\\nH 1.929618 -0.238402 -1.406163\\n12\\nH6 C6\\nC 0.115946 0.774463 1.198412\\nC -1.277270 0.310313 0.318091\\nC -1.331989 -0.684148 -0.566309\\nC 1.256682 0.174375 -0.835737\\nC -0.216755 -0.695375 -1.083795\\nC 1.384354 0.648076 0.517039\\nH -2.393708 -0.976601 -0.490867\\nH 0.146558 -1.261673 -2.058414\\nH 0.023630 1.088440 2.431717\\nH 2.254275 0.869529 0.523519\\nH -1.932188 0.035341 1.449764\\nH 1.970459 -0.282734 -1.403426\\n12\\nH6 C6\\nC 0.107523 0.606384 1.158880\\nC -1.132131 0.339077 0.460616\\nC -1.351384 -0.573769 -0.590619\\nC 1.107071 0.219866 -0.655756\\nC -0.145443 -0.793379 -1.132590\\nC 1.440141 0.542774 0.463293\\nH -2.515159 -0.898514 -0.577436\\nH 0.086346 -1.296096 -1.911700\\nH 0.020365 1.087853 2.359505\\nH 2.247322 0.860631 0.541567\\nH -1.928549 0.141146 1.411552\\nH 2.063890 -0.235963 -1.527319\\n12\\nH6 C6\\nC 0.111489 0.717615 1.166706\\nC -1.168702 0.343580 0.580880\\nC -1.260179 -0.589780 -0.410126\\nC 1.048936 -0.007748 -0.568627\\nC -0.106626 -0.777371 -1.194270\\nC 1.340753 0.532470 0.434655\\nH -2.401351 -0.827369 -0.669654\\nH 0.169386 -1.188831 -1.938766\\nH -0.088522 1.147611 2.232383\\nH 2.201662 0.911252 0.560648\\nH -1.883627 0.045884 1.395479\\nH 2.036775 -0.307306 -1.589315\\n12\\nH6 C6\\nC -0.010745 0.628743 1.149500\\nC -1.204253 0.219357 0.729319\\nC -1.235972 -0.665097 -0.350420\\nC 1.035398 -0.069911 -0.600949\\nC -0.027121 -0.717049 -1.193956\\nC 1.268918 0.574565 0.457055\\nH -2.149497 -0.848952 -0.732364\\nH 0.144156 -1.080173 -1.913661\\nH -0.168913 1.188484 2.181687\\nH 2.272023 1.005577 0.556929\\nH -1.986915 0.151764 1.399085\\nH 2.062915 -0.387303 -1.682233\\n12\\nH6 C6\\nC 0.063629 0.669246 1.144386\\nC -1.222656 0.160954 0.812440\\nC -1.235572 -0.569216 -0.424926\\nC 1.093192 -0.084770 -0.604897\\nC -0.035175 -0.779268 -1.128244\\nC 1.330275 0.552841 0.354754\\nH -2.228505 -0.861755 -0.725093\\nH 0.063421 -1.071132 -1.986469\\nH -0.113702 1.078782 2.120516\\nH 2.226990 1.037306 0.604997\\nH -1.951911 0.235747 1.439749\\nH 2.010009 -0.368728 -1.607218\\n12\\nH6 C6\\nC 0.009638 0.749190 1.152379\\nC -1.256229 0.065562 0.816707\\nC -1.228429 -0.558997 -0.389379\\nC 1.069868 -0.153074 -0.653363\\nC -0.019628 -0.663478 -1.110998\\nC 1.389389 0.494859 0.336483\\nH -2.100118 -0.799172 -0.706915\\nH -0.014136 -1.071943 -2.057533\\nH -0.094502 1.086176 2.089701\\nH 2.210970 1.011695 0.636245\\nH -1.900806 0.215315 1.419604\\nH 1.933979 -0.376127 -1.532937\\n12\\nH6 C6\\nC 0.014735 0.677815 1.133437\\nC -1.210732 0.136299 0.823059\\nC -1.243579 -0.567386 -0.417704\\nC 1.061753 -0.236421 -0.648394\\nC -0.008240 -0.661427 -1.119900\\nC 1.393005 0.574442 0.433703\\nH -2.164410 -0.795200 -0.714862\\nH -0.025030 -1.082961 -2.105511\\nH -0.072393 1.046491 2.085230\\nH 2.209007 0.997800 0.692643\\nH -1.980999 0.252705 1.378513\\nH 2.026879 -0.342151 -1.540223\\n12\\nH6 C6\\nC 0.016071 0.627699 1.149567\\nC -1.207700 0.088547 0.873409\\nC -1.286142 -0.517404 -0.457542\\nC 1.110445 -0.184555 -0.741382\\nC -0.046156 -0.646933 -1.162721\\nC 1.320667 0.547617 0.536360\\nH -2.101966 -0.941685 -0.766394\\nH -0.045270 -1.124143 -2.123589\\nH 0.024513 1.136023 2.116396\\nH 2.155205 0.983512 0.740246\\nH -1.981129 0.298628 1.312606\\nH 2.041456 -0.267299 -1.476963\\n12\\nH6 C6\\nC 0.029567 0.632946 1.133272\\nC -1.211107 0.114740 0.812710\\nC -1.242288 -0.490149 -0.472064\\nC 1.100176 -0.215520 -0.708206\\nC -0.060236 -0.648507 -1.265958\\nC 1.289981 0.502537 0.553453\\nH -2.094501 -0.928202 -0.764876\\nH -0.025515 -1.081069 -2.103339\\nH 0.013858 1.094190 2.117904\\nH 2.133689 0.978712 0.821340\\nH -1.956318 0.297968 1.290554\\nH 2.022688 -0.257641 -1.414797\\n12\\nH6 C6\\nC 0.074186 0.678986 1.130191\\nC -1.201373 0.152430 0.816175\\nC -1.188896 -0.469006 -0.426910\\nC 1.148533 -0.172351 -0.793622\\nC -0.071917 -0.662824 -1.236048\\nC 1.245787 0.473480 0.496571\\nH -2.152975 -0.907826 -0.775349\\nH -0.085164 -1.134175 -2.130438\\nH 0.056294 1.125710 2.165463\\nH 2.071601 0.934929 0.810694\\nH -1.936668 0.214814 1.359522\\nH 2.040587 -0.234161 -1.416255\\n12\\nH6 C6\\nC 0.063971 0.623343 1.202570\\nC -1.167233 0.156266 0.806050\\nC -1.211157 -0.470615 -0.465398\\nC 1.183821 -0.138850 -0.781898\\nC -0.097420 -0.626502 -1.239677\\nC 1.217736 0.471669 0.499043\\nH -2.142205 -0.863454 -0.826988\\nH -0.078436 -1.103559 -2.213737\\nH 0.085602 1.058185 2.197222\\nH 2.082771 0.904250 0.831243\\nH -1.972944 0.204618 1.362396\\nH 2.035486 -0.215343 -1.370833\\n12\\nH6 C6\\nC 0.096691 0.643851 1.218851\\nC -1.152291 0.147483 0.793518\\nC -1.224123 -0.515533 -0.448704\\nC 1.153367 -0.123593 -0.797342\\nC -0.060082 -0.629760 -1.245189\\nC 1.217141 0.510256 0.467298\\nH -2.144287 -0.919902 -0.799019\\nH -0.125049 -1.140527 -2.190844\\nH 0.114621 1.103492 2.202738\\nH 2.085808 0.916496 0.803076\\nH -1.999352 0.200959 1.376372\\nH 2.037550 -0.193215 -1.380762\\n12\\nH6 C6\\nC 0.060080 0.614083 1.238930\\nC -1.149980 0.112902 0.778022\\nC -1.213156 -0.513021 -0.471528\\nC 1.149490 -0.113313 -0.775999\\nC -0.057764 -0.632416 -1.248770\\nC 1.214959 0.510811 0.473703\\nH -2.156633 -0.906223 -0.831690\\nH -0.102067 -1.130042 -2.202966\\nH 0.113584 1.100869 2.211143\\nH 2.144698 0.921061 0.834880\\nH -2.047377 0.217268 1.383321\\nH 2.044160 -0.181972 -1.389051\\n12\\nH6 C6\\nC 0.076628 0.631871 1.266674\\nC -1.152348 0.109201 0.779830\\nC -1.215302 -0.525638 -0.477918\\nC 1.158181 -0.107371 -0.762676\\nC -0.065657 -0.663314 -1.258828\\nC 1.183024 0.500753 0.457307\\nH -2.143134 -0.916973 -0.838250\\nH -0.122193 -1.132620 -2.204390\\nH 0.095212 1.111167 2.213159\\nH 2.160001 0.904060 0.839243\\nH -2.032660 0.247811 1.378173\\nH 2.058241 -0.158941 -1.392331\\n\");\n",
       "\tviewer_17175173874342544.setStyle({\"sphere\": {\"scale\": 0.35}, \"stick\": {\"radius\": 0.2}});\n",
       "\tviewer_17175173874342544.zoomTo();\n",
       "\tviewer_17175173874342544.animate({\"loop\": \"forward\"});\n",
       "viewer_17175173874342544.render();\n",
       "});\n",
       "</script>"
      ]
     },
     "metadata": {},
     "output_type": "display_data"
    }
   ],
   "source": [
    "\n",
    "view = py3Dmol.view(width=800, height=400)\n",
    "\n",
    "molecules = [mol.to(fmt=\"xyz\") for mol in benzenes[-50:]]\n",
    "models = ''\n",
    "for i, mol in enumerate(molecules):\n",
    "    models += mol + '\\n'\n",
    "view.addModelsAsFrames(models)\n",
    "view.setStyle({'sphere': {'scale': 0.35}, 'stick': {'radius': 0.20}})\n",
    "view.zoomTo()\n",
    "view.animate({'loop': 'forward'})\n",
    "view.show()"
   ]
  },
  {
   "cell_type": "code",
   "execution_count": null,
   "metadata": {},
   "outputs": [],
   "source": []
  }
 ],
 "metadata": {
  "kernelspec": {
   "display_name": "pl_pyg",
   "language": "python",
   "name": "python3"
  },
  "language_info": {
   "codemirror_mode": {
    "name": "ipython",
    "version": 3
   },
   "file_extension": ".py",
   "mimetype": "text/x-python",
   "name": "python",
   "nbconvert_exporter": "python",
   "pygments_lexer": "ipython3",
   "version": "3.11.9"
  }
 },
 "nbformat": 4,
 "nbformat_minor": 2
}
