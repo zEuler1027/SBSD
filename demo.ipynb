{
 "cells": [
  {
   "cell_type": "markdown",
   "metadata": {},
   "source": [
    "# Score based diffusion model for molecule generation."
   ]
  },
  {
   "cell_type": "markdown",
   "metadata": {},
   "source": [
    "Firstly, load the trained pytorch lightning model."
   ]
  },
  {
   "cell_type": "code",
   "execution_count": 1,
   "metadata": {},
   "outputs": [
    {
     "name": "stderr",
     "output_type": "stream",
     "text": [
      "/home/xmcao/.conda/envs/install/envs/pl_pyg/lib/python3.11/site-packages/torch_geometric/typing.py:54: UserWarning: An issue occurred while importing 'pyg-lib'. Disabling its usage. Stacktrace: /lib64/libm.so.6: version `GLIBC_2.29' not found (required by /home/xmcao/.conda/envs/install/envs/pl_pyg/lib/python3.11/site-packages/libpyg.so)\n",
      "  warnings.warn(f\"An issue occurred while importing 'pyg-lib'. \"\n",
      "/home/xmcao/.conda/envs/install/envs/pl_pyg/lib/python3.11/site-packages/torch_geometric/typing.py:110: UserWarning: An issue occurred while importing 'torch-sparse'. Disabling its usage. Stacktrace: /lib64/libm.so.6: version `GLIBC_2.29' not found (required by /home/xmcao/.conda/envs/install/envs/pl_pyg/lib/python3.11/site-packages/libpyg.so)\n",
      "  warnings.warn(f\"An issue occurred while importing 'torch-sparse'. \"\n",
      "/home/xmcao/.conda/envs/install/envs/pl_pyg/lib/python3.11/site-packages/torch/cuda/__init__.py:619: UserWarning: Can't initialize NVML\n",
      "  warnings.warn(\"Can't initialize NVML\")\n",
      "/home/xmcao/.conda/envs/install/envs/pl_pyg/lib/python3.11/site-packages/torch/cuda/__init__.py:749: UserWarning: CUDA initialization: The NVIDIA driver on your system is too old (found version 11070). Please update your GPU driver by downloading and installing a new version from the URL: http://www.nvidia.com/Download/index.aspx Alternatively, go to: https://pytorch.org to install a PyTorch version that has been compiled with your version of the CUDA driver. (Triggered internally at ../c10/cuda/CUDAFunctions.cpp:108.)\n",
      "  return torch._C._cuda_getDeviceCount() if nvml_count < 0 else nvml_count\n"
     ]
    },
    {
     "name": "stdout",
     "output_type": "stream",
     "text": [
      "pl_module(\n",
      "  (diffschedule): DiffSchedule()\n",
      "  (score_model): PaiNN(\n",
      "    (atom_emb): AtomEmbedding(\n",
      "      (embeddings): Embedding(83, 256)\n",
      "    )\n",
      "    (t_emb): GaussianFourierProjection()\n",
      "    (embedding): Linear(in_features=512, out_features=256, bias=True)\n",
      "    (radial_basis): RadialBasis(\n",
      "      (envelope): PolynomialEnvelope()\n",
      "      (rbf): GaussianSmearing()\n",
      "    )\n",
      "    (message_layers): ModuleList(\n",
      "      (0-5): 6 x PaiNNMessage()\n",
      "    )\n",
      "    (update_layers): ModuleList(\n",
      "      (0-5): 6 x PaiNNUpdate(\n",
      "        (vec_proj): Linear(in_features=256, out_features=512, bias=False)\n",
      "        (xvec_proj): Sequential(\n",
      "          (0): Linear(in_features=512, out_features=256, bias=True)\n",
      "          (1): ScaledSiLU(\n",
      "            (_activation): SiLU()\n",
      "          )\n",
      "          (2): Linear(in_features=256, out_features=768, bias=True)\n",
      "        )\n",
      "      )\n",
      "    )\n",
      "    (out_xh): Sequential(\n",
      "      (0): Linear(in_features=256, out_features=128, bias=True)\n",
      "      (1): ScaledSiLU(\n",
      "        (_activation): SiLU()\n",
      "      )\n",
      "      (2): Linear(in_features=128, out_features=7, bias=True)\n",
      "    )\n",
      "    (out_dpos): PaiNNOutput(\n",
      "      (output_network): ModuleList(\n",
      "        (0): GatedEquivariantBlock(\n",
      "          (vec1_proj): Linear(in_features=256, out_features=256, bias=False)\n",
      "          (vec2_proj): Linear(in_features=256, out_features=128, bias=False)\n",
      "          (update_net): Sequential(\n",
      "            (0): Linear(in_features=512, out_features=256, bias=True)\n",
      "            (1): ScaledSiLU(\n",
      "              (_activation): SiLU()\n",
      "            )\n",
      "            (2): Linear(in_features=256, out_features=256, bias=True)\n",
      "          )\n",
      "          (act): ScaledSiLU(\n",
      "            (_activation): SiLU()\n",
      "          )\n",
      "        )\n",
      "        (1): GatedEquivariantBlock(\n",
      "          (vec1_proj): Linear(in_features=128, out_features=128, bias=False)\n",
      "          (vec2_proj): Linear(in_features=128, out_features=1, bias=False)\n",
      "          (update_net): Sequential(\n",
      "            (0): Linear(in_features=256, out_features=128, bias=True)\n",
      "            (1): ScaledSiLU(\n",
      "              (_activation): SiLU()\n",
      "            )\n",
      "            (2): Linear(in_features=128, out_features=2, bias=True)\n",
      "          )\n",
      "          (act): ScaledSiLU(\n",
      "            (_activation): SiLU()\n",
      "          )\n",
      "        )\n",
      "      )\n",
      "    )\n",
      "  )\n",
      "  (en_diffusion): VESDE(\n",
      "    (score_model): PaiNN(\n",
      "      (atom_emb): AtomEmbedding(\n",
      "        (embeddings): Embedding(83, 256)\n",
      "      )\n",
      "      (t_emb): GaussianFourierProjection()\n",
      "      (embedding): Linear(in_features=512, out_features=256, bias=True)\n",
      "      (radial_basis): RadialBasis(\n",
      "        (envelope): PolynomialEnvelope()\n",
      "        (rbf): GaussianSmearing()\n",
      "      )\n",
      "      (message_layers): ModuleList(\n",
      "        (0-5): 6 x PaiNNMessage()\n",
      "      )\n",
      "      (update_layers): ModuleList(\n",
      "        (0-5): 6 x PaiNNUpdate(\n",
      "          (vec_proj): Linear(in_features=256, out_features=512, bias=False)\n",
      "          (xvec_proj): Sequential(\n",
      "            (0): Linear(in_features=512, out_features=256, bias=True)\n",
      "            (1): ScaledSiLU(\n",
      "              (_activation): SiLU()\n",
      "            )\n",
      "            (2): Linear(in_features=256, out_features=768, bias=True)\n",
      "          )\n",
      "        )\n",
      "      )\n",
      "      (out_xh): Sequential(\n",
      "        (0): Linear(in_features=256, out_features=128, bias=True)\n",
      "        (1): ScaledSiLU(\n",
      "          (_activation): SiLU()\n",
      "        )\n",
      "        (2): Linear(in_features=128, out_features=7, bias=True)\n",
      "      )\n",
      "      (out_dpos): PaiNNOutput(\n",
      "        (output_network): ModuleList(\n",
      "          (0): GatedEquivariantBlock(\n",
      "            (vec1_proj): Linear(in_features=256, out_features=256, bias=False)\n",
      "            (vec2_proj): Linear(in_features=256, out_features=128, bias=False)\n",
      "            (update_net): Sequential(\n",
      "              (0): Linear(in_features=512, out_features=256, bias=True)\n",
      "              (1): ScaledSiLU(\n",
      "                (_activation): SiLU()\n",
      "              )\n",
      "              (2): Linear(in_features=256, out_features=256, bias=True)\n",
      "            )\n",
      "            (act): ScaledSiLU(\n",
      "              (_activation): SiLU()\n",
      "            )\n",
      "          )\n",
      "          (1): GatedEquivariantBlock(\n",
      "            (vec1_proj): Linear(in_features=128, out_features=128, bias=False)\n",
      "            (vec2_proj): Linear(in_features=128, out_features=1, bias=False)\n",
      "            (update_net): Sequential(\n",
      "              (0): Linear(in_features=256, out_features=128, bias=True)\n",
      "              (1): ScaledSiLU(\n",
      "                (_activation): SiLU()\n",
      "              )\n",
      "              (2): Linear(in_features=128, out_features=2, bias=True)\n",
      "            )\n",
      "            (act): ScaledSiLU(\n",
      "              (_activation): SiLU()\n",
      "            )\n",
      "          )\n",
      "        )\n",
      "      )\n",
      "    )\n",
      "    (schedule): DiffSchedule()\n",
      "  )\n",
      ")\n"
     ]
    }
   ],
   "source": [
    "import torch\n",
    "from model import pl_module\n",
    "\n",
    "device = torch.device(\"cuda\" if torch.cuda.is_available() else \"cpu\")\n",
    "lightning_module = pl_module.load_from_checkpoint(\n",
    "    checkpoint_path=\"tb_logs/painn/39929/checkpoints/scorenet-epoch=399-avg_val_loss=0.714.ckpt\",\n",
    "    map_location=torch.device(\"cpu\"),\n",
    ")\n",
    "# print architecture of the lightning model\n",
    "print(lightning_module)"
   ]
  },
  {
   "cell_type": "markdown",
   "metadata": {},
   "source": [
    "Predefine the molecular format with the molecular formula C4H7NO, since graph neural networks are permutation-invariant, the order of the atoms does not matter."
   ]
  },
  {
   "cell_type": "code",
   "execution_count": 2,
   "metadata": {},
   "outputs": [],
   "source": [
    "# Atomic number 6 is carbon, 1 is hydrogen, 7 is nitrogen, 8 is oxygen\n",
    "C4 = torch.tensor([6, 6, 6, 6], dtype=torch.long, device=device)\n",
    "H7 = torch.tensor([1, 1, 1, 1, 1, 1, 1], dtype=torch.long, device=device)\n",
    "N1 = torch.tensor([7], dtype=torch.long, device=device)\n",
    "O1 = torch.tensor([8], dtype=torch.long, device=device)\n",
    "\n",
    "atomic_numbers = torch.cat([C4, H7, N1, O1])\n",
    "assert len(atomic_numbers) == 13"
   ]
  },
  {
   "cell_type": "code",
   "execution_count": 3,
   "metadata": {},
   "outputs": [],
   "source": [
    "# Predifine 4 molecules of identical composition\n",
    "atomic_numbers = atomic_numbers.repeat(4, 1).reshape(-1)\n",
    "mask = torch.tensor([13, 13, 13, 13], dtype=torch.long, device=device)\n",
    "assert len(atomic_numbers) == 52"
   ]
  },
  {
   "cell_type": "markdown",
   "metadata": {},
   "source": [
    "Sample molecules from gaussian noise by reversed SDE, using Euler Maruyama sampler."
   ]
  },
  {
   "cell_type": "code",
   "execution_count": 4,
   "metadata": {},
   "outputs": [
    {
     "name": "stdout",
     "output_type": "stream",
     "text": [
      "saved samples to demo/2024-05-28_01-20-44\n"
     ]
    }
   ],
   "source": [
    "from datetime import datetime\n",
    "import os\n",
    "from model.io import write_batch_xyz\n",
    "\n",
    "mols_pos, trajs = lightning_module.en_diffusion.sample(\n",
    "    atomic_numbers,\n",
    "    mask,\n",
    "    num_steps=1000,\n",
    "    t_mode='linear',\n",
    ")\n",
    "\n",
    "time_point = datetime.now().strftime(\"%Y-%m-%d_%H-%M-%S\")\n",
    "save_dir = f'demo/{time_point}'\n",
    "os.makedirs(save_dir, exist_ok=True)\n",
    "write_batch_xyz(save_dir, atomic_numbers, mols_pos, mask)\n",
    "print(f\"saved samples to {save_dir}\")\n"
   ]
  },
  {
   "cell_type": "markdown",
   "metadata": {},
   "source": [
    "The SMILES formula of the generated molecules is automatically identified using openbabel."
   ]
  },
  {
   "cell_type": "code",
   "execution_count": 5,
   "metadata": {},
   "outputs": [],
   "source": [
    "import subprocess\n",
    "\n",
    "smis = []\n",
    "for i in range(4):\n",
    "    smi = subprocess.run(\n",
    "        'obabel ' +  f'./demo/{time_point}/mol_{i}.xyz -osmi',\n",
    "        capture_output=True,\n",
    "        text=True,\n",
    "        shell=True,\n",
    "    ).stdout\n",
    "    smis.append(smi.split('\\t')[0])"
   ]
  },
  {
   "cell_type": "code",
   "execution_count": 6,
   "metadata": {},
   "outputs": [
    {
     "data": {
      "text/plain": [
       "['C(C#CCN)O', 'C[C](C(=O)C)[NH]', 'C1(CC1)NC=O', 'C(=O)[C@@H]1CCN1']"
      ]
     },
     "execution_count": 6,
     "metadata": {},
     "output_type": "execute_result"
    }
   ],
   "source": [
    "smis"
   ]
  },
  {
   "cell_type": "markdown",
   "metadata": {},
   "source": [
    "Visualizing molecules."
   ]
  },
  {
   "cell_type": "code",
   "execution_count": 7,
   "metadata": {},
   "outputs": [
    {
     "data": {
      "application/3dmoljs_load.v0": "<div id=\"3dmolviewer_17168304445917578\"  style=\"position: relative; width: 800px; height: 400px;\">\n        <p id=\"3dmolwarning_17168304445917578\" style=\"background-color:#ffcccc;color:black\">3Dmol.js failed to load for some reason.  Please check your browser console for error messages.<br></p>\n        </div>\n<script>\n\nvar loadScriptAsync = function(uri){\n  return new Promise((resolve, reject) => {\n    //this is to ignore the existence of requirejs amd\n    var savedexports, savedmodule;\n    if (typeof exports !== 'undefined') savedexports = exports;\n    else exports = {}\n    if (typeof module !== 'undefined') savedmodule = module;\n    else module = {}\n\n    var tag = document.createElement('script');\n    tag.src = uri;\n    tag.async = true;\n    tag.onload = () => {\n        exports = savedexports;\n        module = savedmodule;\n        resolve();\n    };\n  var firstScriptTag = document.getElementsByTagName('script')[0];\n  firstScriptTag.parentNode.insertBefore(tag, firstScriptTag);\n});\n};\n\nif(typeof $3Dmolpromise === 'undefined') {\n$3Dmolpromise = null;\n  $3Dmolpromise = loadScriptAsync('https://cdnjs.cloudflare.com/ajax/libs/3Dmol/2.1.0/3Dmol-min.js');\n}\n\nvar viewer_17168304445917578 = null;\nvar warn = document.getElementById(\"3dmolwarning_17168304445917578\");\nif(warn) {\n    warn.parentNode.removeChild(warn);\n}\n$3Dmolpromise.then(function() {\nviewer_17168304445917578 = $3Dmol.createViewer(document.getElementById(\"3dmolviewer_17168304445917578\"),{backgroundColor:\"white\"});\nviewer_17168304445917578.zoomTo();\n\tviewer_17168304445917578.addModel(\"13\\nH7 C4 N1 O1\\nC 1.717670 0.666517 1.554633\\nC -0.387046 -0.336510 0.050292\\nC -1.440663 -0.884797 -0.790431\\nC 0.543098 0.043330 0.695467\\nH -1.113161 0.273183 -2.363947\\nH 1.509674 0.412483 2.602677\\nH 1.130448 2.400919 1.361948\\nH -2.368361 -0.406552 -0.460569\\nH -1.603474 -1.967121 -0.543575\\nH -0.419100 -1.148969 -2.538463\\nH 2.540353 0.092707 1.300170\\nN -1.351673 -0.704670 -2.199264\\nO 1.959520 1.999654 1.298759\",\"xyz\");\n\tviewer_17168304445917578.setStyle({\"sphere\": {\"scale\": 0.35}, \"stick\": {\"radius\": 0.2}});\n\tviewer_17168304445917578.zoomTo();\nviewer_17168304445917578.render();\n});\n</script>",
      "text/html": [
       "<div id=\"3dmolviewer_17168304445917578\"  style=\"position: relative; width: 800px; height: 400px;\">\n",
       "        <p id=\"3dmolwarning_17168304445917578\" style=\"background-color:#ffcccc;color:black\">3Dmol.js failed to load for some reason.  Please check your browser console for error messages.<br></p>\n",
       "        </div>\n",
       "<script>\n",
       "\n",
       "var loadScriptAsync = function(uri){\n",
       "  return new Promise((resolve, reject) => {\n",
       "    //this is to ignore the existence of requirejs amd\n",
       "    var savedexports, savedmodule;\n",
       "    if (typeof exports !== 'undefined') savedexports = exports;\n",
       "    else exports = {}\n",
       "    if (typeof module !== 'undefined') savedmodule = module;\n",
       "    else module = {}\n",
       "\n",
       "    var tag = document.createElement('script');\n",
       "    tag.src = uri;\n",
       "    tag.async = true;\n",
       "    tag.onload = () => {\n",
       "        exports = savedexports;\n",
       "        module = savedmodule;\n",
       "        resolve();\n",
       "    };\n",
       "  var firstScriptTag = document.getElementsByTagName('script')[0];\n",
       "  firstScriptTag.parentNode.insertBefore(tag, firstScriptTag);\n",
       "});\n",
       "};\n",
       "\n",
       "if(typeof $3Dmolpromise === 'undefined') {\n",
       "$3Dmolpromise = null;\n",
       "  $3Dmolpromise = loadScriptAsync('https://cdnjs.cloudflare.com/ajax/libs/3Dmol/2.1.0/3Dmol-min.js');\n",
       "}\n",
       "\n",
       "var viewer_17168304445917578 = null;\n",
       "var warn = document.getElementById(\"3dmolwarning_17168304445917578\");\n",
       "if(warn) {\n",
       "    warn.parentNode.removeChild(warn);\n",
       "}\n",
       "$3Dmolpromise.then(function() {\n",
       "viewer_17168304445917578 = $3Dmol.createViewer(document.getElementById(\"3dmolviewer_17168304445917578\"),{backgroundColor:\"white\"});\n",
       "viewer_17168304445917578.zoomTo();\n",
       "\tviewer_17168304445917578.addModel(\"13\\nH7 C4 N1 O1\\nC 1.717670 0.666517 1.554633\\nC -0.387046 -0.336510 0.050292\\nC -1.440663 -0.884797 -0.790431\\nC 0.543098 0.043330 0.695467\\nH -1.113161 0.273183 -2.363947\\nH 1.509674 0.412483 2.602677\\nH 1.130448 2.400919 1.361948\\nH -2.368361 -0.406552 -0.460569\\nH -1.603474 -1.967121 -0.543575\\nH -0.419100 -1.148969 -2.538463\\nH 2.540353 0.092707 1.300170\\nN -1.351673 -0.704670 -2.199264\\nO 1.959520 1.999654 1.298759\",\"xyz\");\n",
       "\tviewer_17168304445917578.setStyle({\"sphere\": {\"scale\": 0.35}, \"stick\": {\"radius\": 0.2}});\n",
       "\tviewer_17168304445917578.zoomTo();\n",
       "viewer_17168304445917578.render();\n",
       "});\n",
       "</script>"
      ]
     },
     "metadata": {},
     "output_type": "display_data"
    },
    {
     "data": {
      "application/3dmoljs_load.v0": "<div id=\"3dmolviewer_1716830444592471\"  style=\"position: relative; width: 800px; height: 400px;\">\n        <p id=\"3dmolwarning_1716830444592471\" style=\"background-color:#ffcccc;color:black\">3Dmol.js failed to load for some reason.  Please check your browser console for error messages.<br></p>\n        </div>\n<script>\n\nvar loadScriptAsync = function(uri){\n  return new Promise((resolve, reject) => {\n    //this is to ignore the existence of requirejs amd\n    var savedexports, savedmodule;\n    if (typeof exports !== 'undefined') savedexports = exports;\n    else exports = {}\n    if (typeof module !== 'undefined') savedmodule = module;\n    else module = {}\n\n    var tag = document.createElement('script');\n    tag.src = uri;\n    tag.async = true;\n    tag.onload = () => {\n        exports = savedexports;\n        module = savedmodule;\n        resolve();\n    };\n  var firstScriptTag = document.getElementsByTagName('script')[0];\n  firstScriptTag.parentNode.insertBefore(tag, firstScriptTag);\n});\n};\n\nif(typeof $3Dmolpromise === 'undefined') {\n$3Dmolpromise = null;\n  $3Dmolpromise = loadScriptAsync('https://cdnjs.cloudflare.com/ajax/libs/3Dmol/2.1.0/3Dmol-min.js');\n}\n\nvar viewer_1716830444592471 = null;\nvar warn = document.getElementById(\"3dmolwarning_1716830444592471\");\nif(warn) {\n    warn.parentNode.removeChild(warn);\n}\n$3Dmolpromise.then(function() {\nviewer_1716830444592471 = $3Dmol.createViewer(document.getElementById(\"3dmolviewer_1716830444592471\"),{backgroundColor:\"white\"});\nviewer_1716830444592471.zoomTo();\n\tviewer_1716830444592471.addModel(\"13\\nH7 C4 N1 O1\\nC -1.283501 0.516270 -1.356237\\nC -0.480457 0.255794 -0.108205\\nC 1.484490 -0.663579 1.154815\\nC 0.799392 -0.445560 -0.154526\\nH -0.590694 0.202183 -2.280548\\nH -1.791552 1.041489 0.989049\\nH 0.966397 -1.353812 1.799816\\nH -1.469901 1.579972 -1.478763\\nH 2.463175 -1.121102 0.990811\\nH 1.623044 0.258192 1.832346\\nH -2.202029 -0.036414 -1.348928\\nN -0.943363 0.579328 1.110667\\nO 1.290174 -0.706153 -1.278903\",\"xyz\");\n\tviewer_1716830444592471.setStyle({\"sphere\": {\"scale\": 0.35}, \"stick\": {\"radius\": 0.2}});\n\tviewer_1716830444592471.zoomTo();\nviewer_1716830444592471.render();\n});\n</script>",
      "text/html": [
       "<div id=\"3dmolviewer_1716830444592471\"  style=\"position: relative; width: 800px; height: 400px;\">\n",
       "        <p id=\"3dmolwarning_1716830444592471\" style=\"background-color:#ffcccc;color:black\">3Dmol.js failed to load for some reason.  Please check your browser console for error messages.<br></p>\n",
       "        </div>\n",
       "<script>\n",
       "\n",
       "var loadScriptAsync = function(uri){\n",
       "  return new Promise((resolve, reject) => {\n",
       "    //this is to ignore the existence of requirejs amd\n",
       "    var savedexports, savedmodule;\n",
       "    if (typeof exports !== 'undefined') savedexports = exports;\n",
       "    else exports = {}\n",
       "    if (typeof module !== 'undefined') savedmodule = module;\n",
       "    else module = {}\n",
       "\n",
       "    var tag = document.createElement('script');\n",
       "    tag.src = uri;\n",
       "    tag.async = true;\n",
       "    tag.onload = () => {\n",
       "        exports = savedexports;\n",
       "        module = savedmodule;\n",
       "        resolve();\n",
       "    };\n",
       "  var firstScriptTag = document.getElementsByTagName('script')[0];\n",
       "  firstScriptTag.parentNode.insertBefore(tag, firstScriptTag);\n",
       "});\n",
       "};\n",
       "\n",
       "if(typeof $3Dmolpromise === 'undefined') {\n",
       "$3Dmolpromise = null;\n",
       "  $3Dmolpromise = loadScriptAsync('https://cdnjs.cloudflare.com/ajax/libs/3Dmol/2.1.0/3Dmol-min.js');\n",
       "}\n",
       "\n",
       "var viewer_1716830444592471 = null;\n",
       "var warn = document.getElementById(\"3dmolwarning_1716830444592471\");\n",
       "if(warn) {\n",
       "    warn.parentNode.removeChild(warn);\n",
       "}\n",
       "$3Dmolpromise.then(function() {\n",
       "viewer_1716830444592471 = $3Dmol.createViewer(document.getElementById(\"3dmolviewer_1716830444592471\"),{backgroundColor:\"white\"});\n",
       "viewer_1716830444592471.zoomTo();\n",
       "\tviewer_1716830444592471.addModel(\"13\\nH7 C4 N1 O1\\nC -1.283501 0.516270 -1.356237\\nC -0.480457 0.255794 -0.108205\\nC 1.484490 -0.663579 1.154815\\nC 0.799392 -0.445560 -0.154526\\nH -0.590694 0.202183 -2.280548\\nH -1.791552 1.041489 0.989049\\nH 0.966397 -1.353812 1.799816\\nH -1.469901 1.579972 -1.478763\\nH 2.463175 -1.121102 0.990811\\nH 1.623044 0.258192 1.832346\\nH -2.202029 -0.036414 -1.348928\\nN -0.943363 0.579328 1.110667\\nO 1.290174 -0.706153 -1.278903\",\"xyz\");\n",
       "\tviewer_1716830444592471.setStyle({\"sphere\": {\"scale\": 0.35}, \"stick\": {\"radius\": 0.2}});\n",
       "\tviewer_1716830444592471.zoomTo();\n",
       "viewer_1716830444592471.render();\n",
       "});\n",
       "</script>"
      ]
     },
     "metadata": {},
     "output_type": "display_data"
    },
    {
     "data": {
      "application/3dmoljs_load.v0": "<div id=\"3dmolviewer_17168304445929685\"  style=\"position: relative; width: 800px; height: 400px;\">\n        <p id=\"3dmolwarning_17168304445929685\" style=\"background-color:#ffcccc;color:black\">3Dmol.js failed to load for some reason.  Please check your browser console for error messages.<br></p>\n        </div>\n<script>\n\nvar loadScriptAsync = function(uri){\n  return new Promise((resolve, reject) => {\n    //this is to ignore the existence of requirejs amd\n    var savedexports, savedmodule;\n    if (typeof exports !== 'undefined') savedexports = exports;\n    else exports = {}\n    if (typeof module !== 'undefined') savedmodule = module;\n    else module = {}\n\n    var tag = document.createElement('script');\n    tag.src = uri;\n    tag.async = true;\n    tag.onload = () => {\n        exports = savedexports;\n        module = savedmodule;\n        resolve();\n    };\n  var firstScriptTag = document.getElementsByTagName('script')[0];\n  firstScriptTag.parentNode.insertBefore(tag, firstScriptTag);\n});\n};\n\nif(typeof $3Dmolpromise === 'undefined') {\n$3Dmolpromise = null;\n  $3Dmolpromise = loadScriptAsync('https://cdnjs.cloudflare.com/ajax/libs/3Dmol/2.1.0/3Dmol-min.js');\n}\n\nvar viewer_17168304445929685 = null;\nvar warn = document.getElementById(\"3dmolwarning_17168304445929685\");\nif(warn) {\n    warn.parentNode.removeChild(warn);\n}\n$3Dmolpromise.then(function() {\nviewer_17168304445929685 = $3Dmol.createViewer(document.getElementById(\"3dmolviewer_17168304445929685\"),{backgroundColor:\"white\"});\nviewer_17168304445929685.zoomTo();\n\tviewer_17168304445929685.addModel(\"13\\nH7 C4 N1 O1\\nC -0.239681 -0.017033 -0.605059\\nC 0.507325 1.242799 -0.433273\\nC -1.018612 -0.665026 1.636106\\nC 1.100810 0.124444 -1.291520\\nH 0.146374 2.102467 -0.981637\\nH -1.136903 -0.005723 -1.126459\\nH -1.532184 0.272934 1.630509\\nH 0.957023 1.417704 0.486054\\nH 1.950196 -0.388209 -0.921272\\nH 1.159243 0.199139 -2.363831\\nH 0.091776 -1.909147 0.437178\\nN -0.261355 -0.949156 0.469234\\nO -0.998514 -1.384050 2.572753\",\"xyz\");\n\tviewer_17168304445929685.setStyle({\"sphere\": {\"scale\": 0.35}, \"stick\": {\"radius\": 0.2}});\n\tviewer_17168304445929685.zoomTo();\nviewer_17168304445929685.render();\n});\n</script>",
      "text/html": [
       "<div id=\"3dmolviewer_17168304445929685\"  style=\"position: relative; width: 800px; height: 400px;\">\n",
       "        <p id=\"3dmolwarning_17168304445929685\" style=\"background-color:#ffcccc;color:black\">3Dmol.js failed to load for some reason.  Please check your browser console for error messages.<br></p>\n",
       "        </div>\n",
       "<script>\n",
       "\n",
       "var loadScriptAsync = function(uri){\n",
       "  return new Promise((resolve, reject) => {\n",
       "    //this is to ignore the existence of requirejs amd\n",
       "    var savedexports, savedmodule;\n",
       "    if (typeof exports !== 'undefined') savedexports = exports;\n",
       "    else exports = {}\n",
       "    if (typeof module !== 'undefined') savedmodule = module;\n",
       "    else module = {}\n",
       "\n",
       "    var tag = document.createElement('script');\n",
       "    tag.src = uri;\n",
       "    tag.async = true;\n",
       "    tag.onload = () => {\n",
       "        exports = savedexports;\n",
       "        module = savedmodule;\n",
       "        resolve();\n",
       "    };\n",
       "  var firstScriptTag = document.getElementsByTagName('script')[0];\n",
       "  firstScriptTag.parentNode.insertBefore(tag, firstScriptTag);\n",
       "});\n",
       "};\n",
       "\n",
       "if(typeof $3Dmolpromise === 'undefined') {\n",
       "$3Dmolpromise = null;\n",
       "  $3Dmolpromise = loadScriptAsync('https://cdnjs.cloudflare.com/ajax/libs/3Dmol/2.1.0/3Dmol-min.js');\n",
       "}\n",
       "\n",
       "var viewer_17168304445929685 = null;\n",
       "var warn = document.getElementById(\"3dmolwarning_17168304445929685\");\n",
       "if(warn) {\n",
       "    warn.parentNode.removeChild(warn);\n",
       "}\n",
       "$3Dmolpromise.then(function() {\n",
       "viewer_17168304445929685 = $3Dmol.createViewer(document.getElementById(\"3dmolviewer_17168304445929685\"),{backgroundColor:\"white\"});\n",
       "viewer_17168304445929685.zoomTo();\n",
       "\tviewer_17168304445929685.addModel(\"13\\nH7 C4 N1 O1\\nC -0.239681 -0.017033 -0.605059\\nC 0.507325 1.242799 -0.433273\\nC -1.018612 -0.665026 1.636106\\nC 1.100810 0.124444 -1.291520\\nH 0.146374 2.102467 -0.981637\\nH -1.136903 -0.005723 -1.126459\\nH -1.532184 0.272934 1.630509\\nH 0.957023 1.417704 0.486054\\nH 1.950196 -0.388209 -0.921272\\nH 1.159243 0.199139 -2.363831\\nH 0.091776 -1.909147 0.437178\\nN -0.261355 -0.949156 0.469234\\nO -0.998514 -1.384050 2.572753\",\"xyz\");\n",
       "\tviewer_17168304445929685.setStyle({\"sphere\": {\"scale\": 0.35}, \"stick\": {\"radius\": 0.2}});\n",
       "\tviewer_17168304445929685.zoomTo();\n",
       "viewer_17168304445929685.render();\n",
       "});\n",
       "</script>"
      ]
     },
     "metadata": {},
     "output_type": "display_data"
    },
    {
     "data": {
      "application/3dmoljs_load.v0": "<div id=\"3dmolviewer_1716830444593444\"  style=\"position: relative; width: 800px; height: 400px;\">\n        <p id=\"3dmolwarning_1716830444593444\" style=\"background-color:#ffcccc;color:black\">3Dmol.js failed to load for some reason.  Please check your browser console for error messages.<br></p>\n        </div>\n<script>\n\nvar loadScriptAsync = function(uri){\n  return new Promise((resolve, reject) => {\n    //this is to ignore the existence of requirejs amd\n    var savedexports, savedmodule;\n    if (typeof exports !== 'undefined') savedexports = exports;\n    else exports = {}\n    if (typeof module !== 'undefined') savedmodule = module;\n    else module = {}\n\n    var tag = document.createElement('script');\n    tag.src = uri;\n    tag.async = true;\n    tag.onload = () => {\n        exports = savedexports;\n        module = savedmodule;\n        resolve();\n    };\n  var firstScriptTag = document.getElementsByTagName('script')[0];\n  firstScriptTag.parentNode.insertBefore(tag, firstScriptTag);\n});\n};\n\nif(typeof $3Dmolpromise === 'undefined') {\n$3Dmolpromise = null;\n  $3Dmolpromise = loadScriptAsync('https://cdnjs.cloudflare.com/ajax/libs/3Dmol/2.1.0/3Dmol-min.js');\n}\n\nvar viewer_1716830444593444 = null;\nvar warn = document.getElementById(\"3dmolwarning_1716830444593444\");\nif(warn) {\n    warn.parentNode.removeChild(warn);\n}\n$3Dmolpromise.then(function() {\nviewer_1716830444593444 = $3Dmol.createViewer(document.getElementById(\"3dmolviewer_1716830444593444\"),{backgroundColor:\"white\"});\nviewer_1716830444593444.zoomTo();\n\tviewer_1716830444593444.addModel(\"13\\nH7 C4 N1 O1\\nC 1.850085 -0.503284 0.118154\\nC 0.483491 -0.064154 -0.338679\\nC -1.580507 0.050971 0.252344\\nC -0.274283 0.964592 0.449813\\nH -2.147955 0.478021 -0.535434\\nH -2.155980 -0.144135 1.157456\\nH -0.916632 -1.557578 -0.891156\\nH 1.902199 -1.490129 0.486724\\nH 0.592669 0.247972 -1.470583\\nH -0.304888 1.953195 0.048370\\nH 0.012057 0.993877 1.457886\\nN -0.614187 -1.024006 -0.140132\\nO 2.903761 0.215509 0.058125\",\"xyz\");\n\tviewer_1716830444593444.setStyle({\"sphere\": {\"scale\": 0.35}, \"stick\": {\"radius\": 0.2}});\n\tviewer_1716830444593444.zoomTo();\nviewer_1716830444593444.render();\n});\n</script>",
      "text/html": [
       "<div id=\"3dmolviewer_1716830444593444\"  style=\"position: relative; width: 800px; height: 400px;\">\n",
       "        <p id=\"3dmolwarning_1716830444593444\" style=\"background-color:#ffcccc;color:black\">3Dmol.js failed to load for some reason.  Please check your browser console for error messages.<br></p>\n",
       "        </div>\n",
       "<script>\n",
       "\n",
       "var loadScriptAsync = function(uri){\n",
       "  return new Promise((resolve, reject) => {\n",
       "    //this is to ignore the existence of requirejs amd\n",
       "    var savedexports, savedmodule;\n",
       "    if (typeof exports !== 'undefined') savedexports = exports;\n",
       "    else exports = {}\n",
       "    if (typeof module !== 'undefined') savedmodule = module;\n",
       "    else module = {}\n",
       "\n",
       "    var tag = document.createElement('script');\n",
       "    tag.src = uri;\n",
       "    tag.async = true;\n",
       "    tag.onload = () => {\n",
       "        exports = savedexports;\n",
       "        module = savedmodule;\n",
       "        resolve();\n",
       "    };\n",
       "  var firstScriptTag = document.getElementsByTagName('script')[0];\n",
       "  firstScriptTag.parentNode.insertBefore(tag, firstScriptTag);\n",
       "});\n",
       "};\n",
       "\n",
       "if(typeof $3Dmolpromise === 'undefined') {\n",
       "$3Dmolpromise = null;\n",
       "  $3Dmolpromise = loadScriptAsync('https://cdnjs.cloudflare.com/ajax/libs/3Dmol/2.1.0/3Dmol-min.js');\n",
       "}\n",
       "\n",
       "var viewer_1716830444593444 = null;\n",
       "var warn = document.getElementById(\"3dmolwarning_1716830444593444\");\n",
       "if(warn) {\n",
       "    warn.parentNode.removeChild(warn);\n",
       "}\n",
       "$3Dmolpromise.then(function() {\n",
       "viewer_1716830444593444 = $3Dmol.createViewer(document.getElementById(\"3dmolviewer_1716830444593444\"),{backgroundColor:\"white\"});\n",
       "viewer_1716830444593444.zoomTo();\n",
       "\tviewer_1716830444593444.addModel(\"13\\nH7 C4 N1 O1\\nC 1.850085 -0.503284 0.118154\\nC 0.483491 -0.064154 -0.338679\\nC -1.580507 0.050971 0.252344\\nC -0.274283 0.964592 0.449813\\nH -2.147955 0.478021 -0.535434\\nH -2.155980 -0.144135 1.157456\\nH -0.916632 -1.557578 -0.891156\\nH 1.902199 -1.490129 0.486724\\nH 0.592669 0.247972 -1.470583\\nH -0.304888 1.953195 0.048370\\nH 0.012057 0.993877 1.457886\\nN -0.614187 -1.024006 -0.140132\\nO 2.903761 0.215509 0.058125\",\"xyz\");\n",
       "\tviewer_1716830444593444.setStyle({\"sphere\": {\"scale\": 0.35}, \"stick\": {\"radius\": 0.2}});\n",
       "\tviewer_1716830444593444.zoomTo();\n",
       "viewer_1716830444593444.render();\n",
       "});\n",
       "</script>"
      ]
     },
     "metadata": {},
     "output_type": "display_data"
    }
   ],
   "source": [
    "from model.visualize import draw_mol\n",
    "\n",
    "for i in range(4):\n",
    "    draw_mol(f'./demo/{time_point}/mol_{i}.xyz')"
   ]
  },
  {
   "cell_type": "markdown",
   "metadata": {},
   "source": [
    "The results show that our model can generate diverse and stable structures."
   ]
  }
 ],
 "metadata": {
  "kernelspec": {
   "display_name": "pl_pyg",
   "language": "python",
   "name": "python3"
  },
  "language_info": {
   "codemirror_mode": {
    "name": "ipython",
    "version": 3
   },
   "file_extension": ".py",
   "mimetype": "text/x-python",
   "name": "python",
   "nbconvert_exporter": "python",
   "pygments_lexer": "ipython3",
   "version": "3.11.9"
  }
 },
 "nbformat": 4,
 "nbformat_minor": 2
}
