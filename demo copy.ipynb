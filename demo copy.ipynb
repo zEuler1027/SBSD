{
 "cells": [
  {
   "cell_type": "markdown",
   "metadata": {},
   "source": [
    "# Score based diffusion model for molecule generation."
   ]
  },
  {
   "cell_type": "markdown",
   "metadata": {},
   "source": [
    "# 1. Project Overview\n",
    "\n",
    "We are leveraging a score-based Stochastic Differential Equation (SDE) diffusion generative model to achieve stable molecular conformation generation. The project uses the QM9 dataset, which includes 100,000 stable molecular conformations, represented by atomic numbers and Cartesian coordinates. Our approach focuses on the Variance Exploding Stochastic Differential Equation (VE-SDE) for model training, combined with the trainable equivariant graph neural network PaiNN to predict reverse SDE scores effectively.\n",
    "\n",
    "The training process spans a total of 8 hours over 500 epochs on a single RTX 4090 GPU, ensuring a robust and efficient model. After completing the training, we employ the Euler-Maruyama method for reverse inference, facilitating the generation of molecular conformations.\n",
    "\n",
    "Our method can generate stable conformations for given molecular compositions, demonstrating significant stability and chemical relevance. To verify the chemical validity of the generated molecules, we use the open-source library Open Babel to convert the generated structures into SMILES notation. This process confirms that the majority of the generated molecules are both stable and chemically meaningful, showcasing the potential of our approach in practical applications.\n",
    "\n",
    "In summary, our project successfully integrates advanced deep generative model with molecular science, providing a powerful tool for generating and analyzing stable molecular conformations with high accuracy and efficiency."
   ]
  },
  {
   "cell_type": "markdown",
   "metadata": {},
   "source": [
    "# 2. Itroduction of Score-Based Diffusion Modeling through Stochastic Differential Equations."
   ]
  },
  {
   "cell_type": "markdown",
   "metadata": {},
   "source": [
    "Diffusion model is a kind of generative model, which has gained extensive attention in generating high-quality samples in recent years.  They use the principle of diffusion process to generate complex data distribution from simple noise distribution by way of gradual de-noising. Diffusion generative models can be primarily divided into three categories: Score Matching with Langevin Dynamics (SMLD), Denoising Diffusion Probabilistic Models (DDPM), and Score-based Generative Model (SGM). Here, we primarily use SGM, precisely VESDE."
   ]
  },
  {
   "cell_type": "markdown",
   "metadata": {},
   "source": [
    "### *Variance Exploding Stochastic Differential Equation (VESDE) Diffusion*\n",
    "\n",
    "Variance Exploding Stochastic Differential Equations (VESDE) diffusion models are a class of score-based generative models. These models leverage the principles of stochastic processes, particularly stochastic differential equations (SDEs), to model the evolution of data points over continuous time. (Song, Yang, et al. \"Score-based generative modeling through stochastic differential equations.\" arXiv preprint arXiv:2011.13456 (2020).)\n",
    "\n",
    "### *Core Concept*\n",
    "\n",
    "At the heart of VESDE diffusion is the idea of modeling the data distribution as a process that evolves over time according to a stochastic differential equation. This evolution is characterized by the variance of the data points increasing (or \"exploding\") as time progresses, which is a key feature distinguishing VESDE from other types of SDE-based models like Variance Preserving SDE (VPSDE).\n",
    "\n",
    "### *Mathematical Formulation*\n",
    "\n",
    "The VESDE can be defined by the following SDE:\n",
    "\n",
    "$$dx_{t} = f(x_t, t)dt + g(t)dW_t$$\n",
    "\n",
    "where:\n",
    "\n",
    "- $x_t$ represents the data point at time $t$\n",
    "- $f(x_t, t)$ is the drift term that dictates the deterministic part of the evolution.\n",
    "- $g(t)$ is the diffusion term that controls the magnitude of the stochastic component.\n",
    "- $W_t$ is a standard Wiener process (also known as Brownian motion).\n",
    "\n",
    "### *Training and Sampling*\n",
    "\n",
    "Training a VESDE model involves learning to reverse this diffusion process. During training, the model is trained to denoise corrupted data samples, effectively learning the reverse dynamics of the SDE. This reverse process can be described by the reverse-time SDE, which can be solved using techniques like the Euler-Maruyama method.\n",
    "\n",
    "Once trained, sampling from a VESDE model involves simulating the reverse-time SDE starting from a noise distribution (typically Gaussian noise) and evolving it backward in time to obtain a sample from the learned data distribution.\n",
    "\n",
    "### *Molecule Generation*\n",
    "\n",
    "The coordinate space of the molecule is a continuous space, so we want to use the diffusion model to generate the three-dimensional conformation of the molecule.\n",
    "\n",
    "Here is the main code for the socre-based model:"
   ]
  },
  {
   "cell_type": "markdown",
   "metadata": {},
   "source": [
    "```python\n",
    "class VESDE(torch.nn.Module):\n",
    "    def __init__(\n",
    "        self,\n",
    "        score_model: torch.nn.Module,\n",
    "        schedule: DiffSchedule,\n",
    ") -> None:\n",
    "        super().__init__()\n",
    "        self.score_model = score_model\n",
    "        self.schedule = schedule\n",
    "        \n",
    "    def forward(self, pos, atomic_numbers, mask):\n",
    "        t = self.schedule(mask)\n",
    "        pos_dim = pos.shape[-1]\n",
    "        nodes_mask = get_batch_mask_for_nodes(mask)\n",
    "        edge_index = get_full_edges_index(nodes_mask, remove_self_edge=False)\n",
    "\n",
    "        # sample zero CoM noise\n",
    "        noise = sample_center_gravity_zero_gaussian_batch(\n",
    "            (pos.shape[0], pos_dim), nodes_mask\n",
    "        )\n",
    "        nodes_t = t[nodes_mask]\n",
    "        std = self.schedule.marginal_prob_std(nodes_t)\n",
    "        perturbed_pos = pos + noise * std[:, None]\n",
    "        \n",
    "        # compute score\n",
    "        score = self.score_model(atomic_numbers, nodes_t, perturbed_pos, edge_index)\n",
    "        score = score / std[:, None] # normalize score\n",
    "        if torch.any(torch.isnan(score)):\n",
    "            print('nan in score, resetting to randn')\n",
    "            score = torch.randn_like(score, requires_grad=True)\n",
    "        score = remove_mean_batch(score, nodes_mask)\n",
    "        \n",
    "        l2loss = torch.mean(torch.sum((score * std[:, None] + noise)**2, dim=-1))\n",
    "        return l2loss\n",
    "\n",
    "    @torch.no_grad()\n",
    "    def sample(\n",
    "        self,\n",
    "        atomic_numbers: torch.Tensor,\n",
    "        mask: torch.Tensor,\n",
    "        num_steps: int=500,\n",
    "        t_mode: str='linear',\n",
    "    )-> Tuple[torch.Tensor, List[torch.Tensor]]:\n",
    "        '''\n",
    "        Sample a mols and return the trajectory using Euler Maruyama sampler.\n",
    "        '''\n",
    "        device = atomic_numbers.device\n",
    "        pos_shape = [atomic_numbers.size(0), 3]\n",
    "        t = torch.ones(len(atomic_numbers), device=atomic_numbers.device)\n",
    "        nodes_mask = get_batch_mask_for_nodes(mask)\n",
    "        \n",
    "        # sample zero CoM noise as initial position\n",
    "        init_com = sample_center_gravity_zero_gaussian_batch(\n",
    "            (pos_shape[0], pos_shape[1]), nodes_mask\n",
    "        )\n",
    "        init_pos = init_com * self.schedule.marginal_prob_std(t)[:, None]\n",
    "        edge_index = get_full_edges_index(nodes_mask, remove_self_edge=False)\n",
    "        num_steps = torch.tensor(num_steps, device=device)\n",
    "        time_steps = self.schedule.sample_t(num_steps, mode=t_mode)\n",
    "        step_sizes = torch.cat((-torch.diff(time_steps), time_steps[-1].unsqueeze(0)))\n",
    "        \n",
    "        # sample batch of mols\n",
    "        pos = init_pos\n",
    "        trajs = []\n",
    "        for time_step, step_size in zip(time_steps, step_sizes):\n",
    "            batch_time_step = torch.ones(pos.size(0), device=device) * time_step\n",
    "            g = self.schedule.diffusion_coeff(batch_time_step)\n",
    "            score = self.score_model(atomic_numbers, batch_time_step, pos, edge_index)\n",
    "            \n",
    "            # normalize score\n",
    "            if torch.any(torch.isnan(score)):\n",
    "                print('nan in score, resetting to randn')\n",
    "                score = torch.randn_like(score)\n",
    "            score = score / self.schedule.marginal_prob_std(batch_time_step)[:, None]\n",
    "            score = remove_mean_batch(score, nodes_mask)\n",
    "            mean_pos = pos + (g**2)[:, None] * score * step_size\n",
    "            noise = sample_center_gravity_zero_gaussian_batch(\n",
    "                (pos_shape[0], pos_shape[1]), nodes_mask\n",
    "            )\n",
    "            pos = mean_pos + torch.sqrt(step_size) * g[:, None] * noise\n",
    "            trajs.append(mean_pos)\n",
    "        return mean_pos, trajs\n",
    "```"
   ]
  },
  {
   "cell_type": "markdown",
   "metadata": {},
   "source": [
    "# 3. Equivariant Graph Neural Networks."
   ]
  },
  {
   "cell_type": "markdown",
   "metadata": {},
   "source": [
    "Equivariant Graph Neural Networks (EGNNs) are a class of specially designed Graph Neural Networks that are equivariant under certain transformations of graphs (such as rotation, translation, reflection, etc.). This means that if these transformations are made to the input graph, the output of the model will undergo the same transformation accordingly. This property is especially useful when dealing with tasks with spatial symmetries (such as molecular modeling, physical simulations, etc.), as it guarantees that the model is invariant or isotropic to these transformations and is able to better capture and exploit the symmetries in the data.\n",
    "\n",
    "PaiNN (Polarizable atom interaction neural network) is a equivariant graph neural network specifically designed for molecular modeling and prediction. PaiNN's design philosophy aims to incorporate interaction models from physics to better predict the physical and chemical properties of molecules. (Schütt, Kristof, Oliver Unke, and Michael Gastegger. \"Equivariant message passing for the prediction of tensorial properties and molecular spectra.\" International Conference on Machine Learning. PMLR, 2021.)\n",
    "\n",
    "We need a neural network to fit the noise in diffusion models, and since molecules can naturally be represented as graphs, we will use the equivariant PaiNN as our graph neural network for training. \n",
    "\n",
    "Let's verify the equivariance of PaiNN:"
   ]
  },
  {
   "cell_type": "code",
   "execution_count": 1,
   "metadata": {},
   "outputs": [
    {
     "name": "stderr",
     "output_type": "stream",
     "text": [
      "/home/xmcao/.conda/envs/install/envs/pl_pyg/lib/python3.11/site-packages/torch_geometric/typing.py:54: UserWarning: An issue occurred while importing 'pyg-lib'. Disabling its usage. Stacktrace: /lib64/libm.so.6: version `GLIBC_2.29' not found (required by /home/xmcao/.conda/envs/install/envs/pl_pyg/lib/python3.11/site-packages/libpyg.so)\n",
      "  warnings.warn(f\"An issue occurred while importing 'pyg-lib'. \"\n",
      "/home/xmcao/.conda/envs/install/envs/pl_pyg/lib/python3.11/site-packages/torch_geometric/typing.py:110: UserWarning: An issue occurred while importing 'torch-sparse'. Disabling its usage. Stacktrace: /lib64/libm.so.6: version `GLIBC_2.29' not found (required by /home/xmcao/.conda/envs/install/envs/pl_pyg/lib/python3.11/site-packages/libpyg.so)\n",
      "  warnings.warn(f\"An issue occurred while importing 'torch-sparse'. \"\n",
      "/home/xmcao/.conda/envs/install/envs/pl_pyg/lib/python3.11/site-packages/torch/cuda/__init__.py:619: UserWarning: Can't initialize NVML\n",
      "  warnings.warn(\"Can't initialize NVML\")\n",
      "/home/xmcao/.conda/envs/install/envs/pl_pyg/lib/python3.11/site-packages/torch/cuda/__init__.py:749: UserWarning: CUDA initialization: The NVIDIA driver on your system is too old (found version 11070). Please update your GPU driver by downloading and installing a new version from the URL: http://www.nvidia.com/Download/index.aspx Alternatively, go to: https://pytorch.org to install a PyTorch version that has been compiled with your version of the CUDA driver. (Triggered internally at ../c10/cuda/CUDAFunctions.cpp:108.)\n",
      "  return torch._C._cuda_getDeviceCount() if nvml_count < 0 else nvml_count\n"
     ]
    },
    {
     "name": "stdout",
     "output_type": "stream",
     "text": [
      "The molecular input to the model rotates, and the output should rotate simultaneously. \n",
      "So this number should be zero: tensor(7.4579e-11, grad_fn=<MaxBackward1>)\n"
     ]
    }
   ],
   "source": [
    "import torch\n",
    "from model.painn import PaiNN\n",
    "\n",
    "model = PaiNN()\n",
    "atomic_numbers = torch.tensor([1, 6, 6, 1, 1, 1, 1, 1, 1], dtype=torch.long) # H, C, C, H, H, H, H, H, H\n",
    "t = torch.tensor([0.4, 0.4, 0.4, 0.4, 0.4, 0.4, 0.4, 0.4, 0.4], dtype=torch.float) # random time\n",
    "from torch_geometric.nn import radius_graph\n",
    "pos = torch.tensor([[ 0.0072, -0.5687,  0.0000],\n",
    "    [-1.2854,  0.2499,  0.0000],\n",
    "    [ 1.1304,  0.3147,  0.0000],\n",
    "    [ 0.0392, -1.1972,  0.8900],\n",
    "    [ 0.0392, -1.1972, -0.8900],\n",
    "    [-1.3175,  0.8784,  0.8900],\n",
    "    [-1.3175,  0.8784, -0.8900],\n",
    "    [-2.1422, -0.4239,  0.0000],\n",
    "    [ 1.9857, -0.1365,  0.0000]], dtype = torch.float)\n",
    "\n",
    "edge_index = radius_graph(pos, r=1.70, batch=None, loop=False)\n",
    "from e3nn import o3\n",
    "rot = o3.rand_matrix()\n",
    "pos_rot = pos @ rot\n",
    "out_rot = model(atomic_numbers, t, pos, edge_index) @ rot\n",
    "out = model(atomic_numbers, t, pos_rot, edge_index)\n",
    "print('The molecular input to the model rotates, and the output should rotate simultaneously. \\nSo this number should be zero:', (out - out_rot).max())"
   ]
  },
  {
   "cell_type": "code",
   "execution_count": 2,
   "metadata": {},
   "outputs": [
    {
     "name": "stdout",
     "output_type": "stream",
     "text": [
      "PaiNN(\n",
      "  (atom_emb): AtomEmbedding(\n",
      "    (embeddings): Embedding(83, 512)\n",
      "  )\n",
      "  (t_emb): GaussianFourierProjection()\n",
      "  (embedding): Linear(in_features=1024, out_features=512, bias=True)\n",
      "  (radial_basis): RadialBasis(\n",
      "    (envelope): PolynomialEnvelope()\n",
      "    (rbf): GaussianSmearing()\n",
      "  )\n",
      "  (message_layers): ModuleList(\n",
      "    (0-5): 6 x PaiNNMessage()\n",
      "  )\n",
      "  (update_layers): ModuleList(\n",
      "    (0-5): 6 x PaiNNUpdate(\n",
      "      (vec_proj): Linear(in_features=512, out_features=1024, bias=False)\n",
      "      (xvec_proj): Sequential(\n",
      "        (0): Linear(in_features=1024, out_features=512, bias=True)\n",
      "        (1): ScaledSiLU(\n",
      "          (_activation): SiLU()\n",
      "        )\n",
      "        (2): Linear(in_features=512, out_features=1536, bias=True)\n",
      "      )\n",
      "    )\n",
      "  )\n",
      "  (out_xh): Sequential(\n",
      "    (0): Linear(in_features=512, out_features=256, bias=True)\n",
      "    (1): ScaledSiLU(\n",
      "      (_activation): SiLU()\n",
      "    )\n",
      "    (2): Linear(in_features=256, out_features=8, bias=True)\n",
      "  )\n",
      "  (out_dpos): PaiNNOutput(\n",
      "    (output_network): ModuleList(\n",
      "      (0): GatedEquivariantBlock(\n",
      "        (vec1_proj): Linear(in_features=512, out_features=512, bias=False)\n",
      "        (vec2_proj): Linear(in_features=512, out_features=256, bias=False)\n",
      "        (update_net): Sequential(\n",
      "          (0): Linear(in_features=1024, out_features=512, bias=True)\n",
      "          (1): ScaledSiLU(\n",
      "            (_activation): SiLU()\n",
      "          )\n",
      "          (2): Linear(in_features=512, out_features=512, bias=True)\n",
      "        )\n",
      "        (act): ScaledSiLU(\n",
      "          (_activation): SiLU()\n",
      "        )\n",
      "      )\n",
      "      (1): GatedEquivariantBlock(\n",
      "        (vec1_proj): Linear(in_features=256, out_features=256, bias=False)\n",
      "        (vec2_proj): Linear(in_features=256, out_features=1, bias=False)\n",
      "        (update_net): Sequential(\n",
      "          (0): Linear(in_features=512, out_features=256, bias=True)\n",
      "          (1): ScaledSiLU(\n",
      "            (_activation): SiLU()\n",
      "          )\n",
      "          (2): Linear(in_features=256, out_features=2, bias=True)\n",
      "        )\n",
      "        (act): ScaledSiLU(\n",
      "          (_activation): SiLU()\n",
      "        )\n",
      "      )\n",
      "    )\n",
      "  )\n",
      ")\n"
     ]
    }
   ],
   "source": [
    "# print the architecture of PaiNN\n",
    "print(model)"
   ]
  },
  {
   "cell_type": "markdown",
   "metadata": {},
   "source": [
    "# 4. Results"
   ]
  },
  {
   "cell_type": "markdown",
   "metadata": {},
   "source": [
    "Load the trained pytorch lightning model."
   ]
  },
  {
   "cell_type": "code",
   "execution_count": 48,
   "metadata": {},
   "outputs": [],
   "source": [
    "from model.pl import pl_module\n",
    "\n",
    "device = torch.device(\"cuda\" if torch.cuda.is_available() else \"cpu\")\n",
    "lightning_module = pl_module.load_from_checkpoint(\n",
    "    checkpoint_path=\"checkpoint.ckpt\",\n",
    "    map_location=torch.device(device),\n",
    ")"
   ]
  },
  {
   "cell_type": "markdown",
   "metadata": {},
   "source": [
    "Predefine the molecular format with the molecular formula C4H7NO, since graph neural networks are permutation-invariant, the order of the atoms does not matter."
   ]
  },
  {
   "cell_type": "code",
   "execution_count": 49,
   "metadata": {},
   "outputs": [],
   "source": [
    "# Atomic number 6 is carbon, 1 is hydrogen, 7 is nitrogen, 8 is oxygen\n",
    "C5 = torch.tensor([6, 6, 6, 6, 6], dtype=torch.long, device=device)\n",
    "H10 = torch.tensor([1, 1, 1, 1, 1, 1, 1, 1, 1, 1], dtype=torch.long, device=device)\n",
    "O2 = torch.tensor([8, 8], dtype=torch.long, device=device)\n",
    "\n",
    "atomic_numbers = torch.cat([C5, H10, O2])\n",
    "assert len(atomic_numbers) == 17"
   ]
  },
  {
   "cell_type": "code",
   "execution_count": 50,
   "metadata": {},
   "outputs": [],
   "source": [
    "# Predifine 4 molecules of identical composition\n",
    "atomic_numbers = atomic_numbers.repeat(4, 1).reshape(-1)\n",
    "mask = torch.tensor([17, 17, 17, 17], dtype=torch.long, device=device)\n",
    "assert len(atomic_numbers) == 68"
   ]
  },
  {
   "cell_type": "markdown",
   "metadata": {},
   "source": [
    "Sample molecules from gaussian noise by reversed SDE, using Euler Maruyama sampler."
   ]
  },
  {
   "cell_type": "code",
   "execution_count": 55,
   "metadata": {},
   "outputs": [
    {
     "name": "stdout",
     "output_type": "stream",
     "text": [
      "saved samples to demo/2024-06-02_21-55-07\n"
     ]
    }
   ],
   "source": [
    "from datetime import datetime\n",
    "import os\n",
    "from model.io import write_batch_xyz\n",
    "\n",
    "mols_pos, trajs = lightning_module.en_diffusion.sample(\n",
    "    atomic_numbers,\n",
    "    mask,\n",
    "    num_steps=500,\n",
    "    t_mode='cosine',\n",
    ")\n",
    "\n",
    "time_point = datetime.now().strftime(\"%Y-%m-%d_%H-%M-%S\")\n",
    "save_dir = f'demo/{time_point}'\n",
    "os.makedirs(save_dir, exist_ok=True)\n",
    "write_batch_xyz(save_dir, atomic_numbers, mols_pos, mask)\n",
    "print(f\"saved samples to {save_dir}\")\n"
   ]
  },
  {
   "cell_type": "markdown",
   "metadata": {},
   "source": [
    "The SMILES formula of the generated molecules is automatically identified using openbabel."
   ]
  },
  {
   "cell_type": "code",
   "execution_count": 56,
   "metadata": {},
   "outputs": [],
   "source": [
    "import subprocess\n",
    "\n",
    "smis = []\n",
    "for i in range(4):\n",
    "    smi = subprocess.run(\n",
    "        'obabel ' +  f'./demo/{time_point}/mol_{i}.xyz -osmi',\n",
    "        capture_output=True,\n",
    "        text=True,\n",
    "        shell=True,\n",
    "    ).stdout\n",
    "    smis.append(smi.split('\\t')[0])"
   ]
  },
  {
   "cell_type": "code",
   "execution_count": 57,
   "metadata": {},
   "outputs": [
    {
     "data": {
      "text/plain": [
       "['[C](CO)(CC[CH2])O',\n",
       " 'C[C@@H](C[C@H]1CO1)O',\n",
       " 'C[C@H](C(=O)C)OC',\n",
       " '[C@]1(C[C@H](C1)O)(C)O']"
      ]
     },
     "execution_count": 57,
     "metadata": {},
     "output_type": "execute_result"
    }
   ],
   "source": [
    "smis"
   ]
  },
  {
   "cell_type": "markdown",
   "metadata": {},
   "source": [
    "Visualizing molecules."
   ]
  },
  {
   "cell_type": "code",
   "execution_count": 58,
   "metadata": {},
   "outputs": [
    {
     "data": {
      "application/3dmoljs_load.v0": "<div id=\"3dmolviewer_17173365080916445\"  style=\"position: relative; width: 800px; height: 400px;\">\n        <p id=\"3dmolwarning_17173365080916445\" style=\"background-color:#ffcccc;color:black\">3Dmol.js failed to load for some reason.  Please check your browser console for error messages.<br></p>\n        </div>\n<script>\n\nvar loadScriptAsync = function(uri){\n  return new Promise((resolve, reject) => {\n    //this is to ignore the existence of requirejs amd\n    var savedexports, savedmodule;\n    if (typeof exports !== 'undefined') savedexports = exports;\n    else exports = {}\n    if (typeof module !== 'undefined') savedmodule = module;\n    else module = {}\n\n    var tag = document.createElement('script');\n    tag.src = uri;\n    tag.async = true;\n    tag.onload = () => {\n        exports = savedexports;\n        module = savedmodule;\n        resolve();\n    };\n  var firstScriptTag = document.getElementsByTagName('script')[0];\n  firstScriptTag.parentNode.insertBefore(tag, firstScriptTag);\n});\n};\n\nif(typeof $3Dmolpromise === 'undefined') {\n$3Dmolpromise = null;\n  $3Dmolpromise = loadScriptAsync('https://cdnjs.cloudflare.com/ajax/libs/3Dmol/2.1.0/3Dmol-min.js');\n}\n\nvar viewer_17173365080916445 = null;\nvar warn = document.getElementById(\"3dmolwarning_17173365080916445\");\nif(warn) {\n    warn.parentNode.removeChild(warn);\n}\n$3Dmolpromise.then(function() {\nviewer_17173365080916445 = $3Dmol.createViewer(document.getElementById(\"3dmolviewer_17173365080916445\"),{backgroundColor:\"white\"});\nviewer_17173365080916445.zoomTo();\n\tviewer_17173365080916445.addModel(\"17\\nH10 C5 O2\\nC 0.401172 0.504867 0.042370\\nC 0.075143 1.950123 0.176012\\nC -0.457561 -1.347974 -1.011868\\nC 0.150993 -0.458286 1.146084\\nC -0.707438 -1.573687 0.483800\\nH 1.531215 -0.146627 -0.917608\\nH -1.768287 -1.438299 0.752658\\nH 0.130041 -2.171414 -1.430160\\nH 1.115984 2.235844 -1.379500\\nH -0.359864 -0.015919 2.011798\\nH -0.960981 2.121105 -0.146001\\nH 0.145134 2.273101 1.233889\\nH -1.362875 -1.212844 -1.605196\\nH 1.124775 -0.834271 1.519407\\nH -0.393649 -2.557961 0.841234\\nO 0.309823 -0.053907 -1.176991\\nO 1.026381 2.726169 -0.539917\",\"xyz\");\n\tviewer_17173365080916445.setStyle({\"sphere\": {\"scale\": 0.35}, \"stick\": {\"radius\": 0.2}});\n\tviewer_17173365080916445.zoomTo();\nviewer_17173365080916445.render();\n});\n</script>",
      "text/html": [
       "<div id=\"3dmolviewer_17173365080916445\"  style=\"position: relative; width: 800px; height: 400px;\">\n",
       "        <p id=\"3dmolwarning_17173365080916445\" style=\"background-color:#ffcccc;color:black\">3Dmol.js failed to load for some reason.  Please check your browser console for error messages.<br></p>\n",
       "        </div>\n",
       "<script>\n",
       "\n",
       "var loadScriptAsync = function(uri){\n",
       "  return new Promise((resolve, reject) => {\n",
       "    //this is to ignore the existence of requirejs amd\n",
       "    var savedexports, savedmodule;\n",
       "    if (typeof exports !== 'undefined') savedexports = exports;\n",
       "    else exports = {}\n",
       "    if (typeof module !== 'undefined') savedmodule = module;\n",
       "    else module = {}\n",
       "\n",
       "    var tag = document.createElement('script');\n",
       "    tag.src = uri;\n",
       "    tag.async = true;\n",
       "    tag.onload = () => {\n",
       "        exports = savedexports;\n",
       "        module = savedmodule;\n",
       "        resolve();\n",
       "    };\n",
       "  var firstScriptTag = document.getElementsByTagName('script')[0];\n",
       "  firstScriptTag.parentNode.insertBefore(tag, firstScriptTag);\n",
       "});\n",
       "};\n",
       "\n",
       "if(typeof $3Dmolpromise === 'undefined') {\n",
       "$3Dmolpromise = null;\n",
       "  $3Dmolpromise = loadScriptAsync('https://cdnjs.cloudflare.com/ajax/libs/3Dmol/2.1.0/3Dmol-min.js');\n",
       "}\n",
       "\n",
       "var viewer_17173365080916445 = null;\n",
       "var warn = document.getElementById(\"3dmolwarning_17173365080916445\");\n",
       "if(warn) {\n",
       "    warn.parentNode.removeChild(warn);\n",
       "}\n",
       "$3Dmolpromise.then(function() {\n",
       "viewer_17173365080916445 = $3Dmol.createViewer(document.getElementById(\"3dmolviewer_17173365080916445\"),{backgroundColor:\"white\"});\n",
       "viewer_17173365080916445.zoomTo();\n",
       "\tviewer_17173365080916445.addModel(\"17\\nH10 C5 O2\\nC 0.401172 0.504867 0.042370\\nC 0.075143 1.950123 0.176012\\nC -0.457561 -1.347974 -1.011868\\nC 0.150993 -0.458286 1.146084\\nC -0.707438 -1.573687 0.483800\\nH 1.531215 -0.146627 -0.917608\\nH -1.768287 -1.438299 0.752658\\nH 0.130041 -2.171414 -1.430160\\nH 1.115984 2.235844 -1.379500\\nH -0.359864 -0.015919 2.011798\\nH -0.960981 2.121105 -0.146001\\nH 0.145134 2.273101 1.233889\\nH -1.362875 -1.212844 -1.605196\\nH 1.124775 -0.834271 1.519407\\nH -0.393649 -2.557961 0.841234\\nO 0.309823 -0.053907 -1.176991\\nO 1.026381 2.726169 -0.539917\",\"xyz\");\n",
       "\tviewer_17173365080916445.setStyle({\"sphere\": {\"scale\": 0.35}, \"stick\": {\"radius\": 0.2}});\n",
       "\tviewer_17173365080916445.zoomTo();\n",
       "viewer_17173365080916445.render();\n",
       "});\n",
       "</script>"
      ]
     },
     "metadata": {},
     "output_type": "display_data"
    },
    {
     "data": {
      "application/3dmoljs_load.v0": "<div id=\"3dmolviewer_17173365080923355\"  style=\"position: relative; width: 800px; height: 400px;\">\n        <p id=\"3dmolwarning_17173365080923355\" style=\"background-color:#ffcccc;color:black\">3Dmol.js failed to load for some reason.  Please check your browser console for error messages.<br></p>\n        </div>\n<script>\n\nvar loadScriptAsync = function(uri){\n  return new Promise((resolve, reject) => {\n    //this is to ignore the existence of requirejs amd\n    var savedexports, savedmodule;\n    if (typeof exports !== 'undefined') savedexports = exports;\n    else exports = {}\n    if (typeof module !== 'undefined') savedmodule = module;\n    else module = {}\n\n    var tag = document.createElement('script');\n    tag.src = uri;\n    tag.async = true;\n    tag.onload = () => {\n        exports = savedexports;\n        module = savedmodule;\n        resolve();\n    };\n  var firstScriptTag = document.getElementsByTagName('script')[0];\n  firstScriptTag.parentNode.insertBefore(tag, firstScriptTag);\n});\n};\n\nif(typeof $3Dmolpromise === 'undefined') {\n$3Dmolpromise = null;\n  $3Dmolpromise = loadScriptAsync('https://cdnjs.cloudflare.com/ajax/libs/3Dmol/2.1.0/3Dmol-min.js');\n}\n\nvar viewer_17173365080923355 = null;\nvar warn = document.getElementById(\"3dmolwarning_17173365080923355\");\nif(warn) {\n    warn.parentNode.removeChild(warn);\n}\n$3Dmolpromise.then(function() {\nviewer_17173365080923355 = $3Dmol.createViewer(document.getElementById(\"3dmolviewer_17173365080923355\"),{backgroundColor:\"white\"});\nviewer_17173365080923355.zoomTo();\n\tviewer_17173365080923355.addModel(\"17\\nH10 C5 O2\\nC 1.904373 -1.299013 0.677364\\nC -2.024868 1.824117 -0.289075\\nC 0.660323 -0.978204 -0.152328\\nC -0.161872 0.162852 0.504092\\nC -1.459287 0.464998 -0.244659\\nH -2.147613 -0.383606 -0.337917\\nH 0.019720 -1.864791 -0.180787\\nH 1.638143 -1.651956 1.668612\\nH -3.095695 1.952840 -0.427704\\nH 0.438675 1.071630 0.518605\\nH 2.481647 -2.074312 0.167661\\nH 1.471320 0.117605 -1.556522\\nH -1.518534 2.618743 0.242127\\nH -0.379144 -0.101409 1.541302\\nH 2.535422 -0.410434 0.793314\\nO 0.960263 -0.718122 -1.503082\\nO -1.322873 1.269042 -1.421017\",\"xyz\");\n\tviewer_17173365080923355.setStyle({\"sphere\": {\"scale\": 0.35}, \"stick\": {\"radius\": 0.2}});\n\tviewer_17173365080923355.zoomTo();\nviewer_17173365080923355.render();\n});\n</script>",
      "text/html": [
       "<div id=\"3dmolviewer_17173365080923355\"  style=\"position: relative; width: 800px; height: 400px;\">\n",
       "        <p id=\"3dmolwarning_17173365080923355\" style=\"background-color:#ffcccc;color:black\">3Dmol.js failed to load for some reason.  Please check your browser console for error messages.<br></p>\n",
       "        </div>\n",
       "<script>\n",
       "\n",
       "var loadScriptAsync = function(uri){\n",
       "  return new Promise((resolve, reject) => {\n",
       "    //this is to ignore the existence of requirejs amd\n",
       "    var savedexports, savedmodule;\n",
       "    if (typeof exports !== 'undefined') savedexports = exports;\n",
       "    else exports = {}\n",
       "    if (typeof module !== 'undefined') savedmodule = module;\n",
       "    else module = {}\n",
       "\n",
       "    var tag = document.createElement('script');\n",
       "    tag.src = uri;\n",
       "    tag.async = true;\n",
       "    tag.onload = () => {\n",
       "        exports = savedexports;\n",
       "        module = savedmodule;\n",
       "        resolve();\n",
       "    };\n",
       "  var firstScriptTag = document.getElementsByTagName('script')[0];\n",
       "  firstScriptTag.parentNode.insertBefore(tag, firstScriptTag);\n",
       "});\n",
       "};\n",
       "\n",
       "if(typeof $3Dmolpromise === 'undefined') {\n",
       "$3Dmolpromise = null;\n",
       "  $3Dmolpromise = loadScriptAsync('https://cdnjs.cloudflare.com/ajax/libs/3Dmol/2.1.0/3Dmol-min.js');\n",
       "}\n",
       "\n",
       "var viewer_17173365080923355 = null;\n",
       "var warn = document.getElementById(\"3dmolwarning_17173365080923355\");\n",
       "if(warn) {\n",
       "    warn.parentNode.removeChild(warn);\n",
       "}\n",
       "$3Dmolpromise.then(function() {\n",
       "viewer_17173365080923355 = $3Dmol.createViewer(document.getElementById(\"3dmolviewer_17173365080923355\"),{backgroundColor:\"white\"});\n",
       "viewer_17173365080923355.zoomTo();\n",
       "\tviewer_17173365080923355.addModel(\"17\\nH10 C5 O2\\nC 1.904373 -1.299013 0.677364\\nC -2.024868 1.824117 -0.289075\\nC 0.660323 -0.978204 -0.152328\\nC -0.161872 0.162852 0.504092\\nC -1.459287 0.464998 -0.244659\\nH -2.147613 -0.383606 -0.337917\\nH 0.019720 -1.864791 -0.180787\\nH 1.638143 -1.651956 1.668612\\nH -3.095695 1.952840 -0.427704\\nH 0.438675 1.071630 0.518605\\nH 2.481647 -2.074312 0.167661\\nH 1.471320 0.117605 -1.556522\\nH -1.518534 2.618743 0.242127\\nH -0.379144 -0.101409 1.541302\\nH 2.535422 -0.410434 0.793314\\nO 0.960263 -0.718122 -1.503082\\nO -1.322873 1.269042 -1.421017\",\"xyz\");\n",
       "\tviewer_17173365080923355.setStyle({\"sphere\": {\"scale\": 0.35}, \"stick\": {\"radius\": 0.2}});\n",
       "\tviewer_17173365080923355.zoomTo();\n",
       "viewer_17173365080923355.render();\n",
       "});\n",
       "</script>"
      ]
     },
     "metadata": {},
     "output_type": "display_data"
    },
    {
     "data": {
      "application/3dmoljs_load.v0": "<div id=\"3dmolviewer_17173365080928462\"  style=\"position: relative; width: 800px; height: 400px;\">\n        <p id=\"3dmolwarning_17173365080928462\" style=\"background-color:#ffcccc;color:black\">3Dmol.js failed to load for some reason.  Please check your browser console for error messages.<br></p>\n        </div>\n<script>\n\nvar loadScriptAsync = function(uri){\n  return new Promise((resolve, reject) => {\n    //this is to ignore the existence of requirejs amd\n    var savedexports, savedmodule;\n    if (typeof exports !== 'undefined') savedexports = exports;\n    else exports = {}\n    if (typeof module !== 'undefined') savedmodule = module;\n    else module = {}\n\n    var tag = document.createElement('script');\n    tag.src = uri;\n    tag.async = true;\n    tag.onload = () => {\n        exports = savedexports;\n        module = savedmodule;\n        resolve();\n    };\n  var firstScriptTag = document.getElementsByTagName('script')[0];\n  firstScriptTag.parentNode.insertBefore(tag, firstScriptTag);\n});\n};\n\nif(typeof $3Dmolpromise === 'undefined') {\n$3Dmolpromise = null;\n  $3Dmolpromise = loadScriptAsync('https://cdnjs.cloudflare.com/ajax/libs/3Dmol/2.1.0/3Dmol-min.js');\n}\n\nvar viewer_17173365080928462 = null;\nvar warn = document.getElementById(\"3dmolwarning_17173365080928462\");\nif(warn) {\n    warn.parentNode.removeChild(warn);\n}\n$3Dmolpromise.then(function() {\nviewer_17173365080928462 = $3Dmol.createViewer(document.getElementById(\"3dmolviewer_17173365080928462\"),{backgroundColor:\"white\"});\nviewer_17173365080928462.zoomTo();\n\tviewer_17173365080928462.addModel(\"17\\nH10 C5 O2\\nC -0.822319 -1.411617 0.839058\\nC -1.082605 0.311982 -1.020387\\nC -0.554777 1.541223 -1.741749\\nC 1.926336 -0.222044 1.017907\\nC -0.340591 -0.076012 0.263157\\nH 2.956787 -0.035676 0.667123\\nH -0.526930 0.721343 1.009251\\nH -1.911423 -1.422482 0.861557\\nH 0.472236 1.400399 -2.053143\\nH 1.884772 -1.240203 1.414703\\nH 1.709274 0.467055 1.846429\\nH -0.434429 -1.565941 1.854720\\nH -0.594227 2.392247 -1.074425\\nH -0.485568 -2.230304 0.215828\\nH -1.200208 1.737388 -2.605668\\nO 1.057200 -0.038386 -0.078728\\nO -2.053530 -0.328957 -1.415629\",\"xyz\");\n\tviewer_17173365080928462.setStyle({\"sphere\": {\"scale\": 0.35}, \"stick\": {\"radius\": 0.2}});\n\tviewer_17173365080928462.zoomTo();\nviewer_17173365080928462.render();\n});\n</script>",
      "text/html": [
       "<div id=\"3dmolviewer_17173365080928462\"  style=\"position: relative; width: 800px; height: 400px;\">\n",
       "        <p id=\"3dmolwarning_17173365080928462\" style=\"background-color:#ffcccc;color:black\">3Dmol.js failed to load for some reason.  Please check your browser console for error messages.<br></p>\n",
       "        </div>\n",
       "<script>\n",
       "\n",
       "var loadScriptAsync = function(uri){\n",
       "  return new Promise((resolve, reject) => {\n",
       "    //this is to ignore the existence of requirejs amd\n",
       "    var savedexports, savedmodule;\n",
       "    if (typeof exports !== 'undefined') savedexports = exports;\n",
       "    else exports = {}\n",
       "    if (typeof module !== 'undefined') savedmodule = module;\n",
       "    else module = {}\n",
       "\n",
       "    var tag = document.createElement('script');\n",
       "    tag.src = uri;\n",
       "    tag.async = true;\n",
       "    tag.onload = () => {\n",
       "        exports = savedexports;\n",
       "        module = savedmodule;\n",
       "        resolve();\n",
       "    };\n",
       "  var firstScriptTag = document.getElementsByTagName('script')[0];\n",
       "  firstScriptTag.parentNode.insertBefore(tag, firstScriptTag);\n",
       "});\n",
       "};\n",
       "\n",
       "if(typeof $3Dmolpromise === 'undefined') {\n",
       "$3Dmolpromise = null;\n",
       "  $3Dmolpromise = loadScriptAsync('https://cdnjs.cloudflare.com/ajax/libs/3Dmol/2.1.0/3Dmol-min.js');\n",
       "}\n",
       "\n",
       "var viewer_17173365080928462 = null;\n",
       "var warn = document.getElementById(\"3dmolwarning_17173365080928462\");\n",
       "if(warn) {\n",
       "    warn.parentNode.removeChild(warn);\n",
       "}\n",
       "$3Dmolpromise.then(function() {\n",
       "viewer_17173365080928462 = $3Dmol.createViewer(document.getElementById(\"3dmolviewer_17173365080928462\"),{backgroundColor:\"white\"});\n",
       "viewer_17173365080928462.zoomTo();\n",
       "\tviewer_17173365080928462.addModel(\"17\\nH10 C5 O2\\nC -0.822319 -1.411617 0.839058\\nC -1.082605 0.311982 -1.020387\\nC -0.554777 1.541223 -1.741749\\nC 1.926336 -0.222044 1.017907\\nC -0.340591 -0.076012 0.263157\\nH 2.956787 -0.035676 0.667123\\nH -0.526930 0.721343 1.009251\\nH -1.911423 -1.422482 0.861557\\nH 0.472236 1.400399 -2.053143\\nH 1.884772 -1.240203 1.414703\\nH 1.709274 0.467055 1.846429\\nH -0.434429 -1.565941 1.854720\\nH -0.594227 2.392247 -1.074425\\nH -0.485568 -2.230304 0.215828\\nH -1.200208 1.737388 -2.605668\\nO 1.057200 -0.038386 -0.078728\\nO -2.053530 -0.328957 -1.415629\",\"xyz\");\n",
       "\tviewer_17173365080928462.setStyle({\"sphere\": {\"scale\": 0.35}, \"stick\": {\"radius\": 0.2}});\n",
       "\tviewer_17173365080928462.zoomTo();\n",
       "viewer_17173365080928462.render();\n",
       "});\n",
       "</script>"
      ]
     },
     "metadata": {},
     "output_type": "display_data"
    },
    {
     "data": {
      "application/3dmoljs_load.v0": "<div id=\"3dmolviewer_17173365080933254\"  style=\"position: relative; width: 800px; height: 400px;\">\n        <p id=\"3dmolwarning_17173365080933254\" style=\"background-color:#ffcccc;color:black\">3Dmol.js failed to load for some reason.  Please check your browser console for error messages.<br></p>\n        </div>\n<script>\n\nvar loadScriptAsync = function(uri){\n  return new Promise((resolve, reject) => {\n    //this is to ignore the existence of requirejs amd\n    var savedexports, savedmodule;\n    if (typeof exports !== 'undefined') savedexports = exports;\n    else exports = {}\n    if (typeof module !== 'undefined') savedmodule = module;\n    else module = {}\n\n    var tag = document.createElement('script');\n    tag.src = uri;\n    tag.async = true;\n    tag.onload = () => {\n        exports = savedexports;\n        module = savedmodule;\n        resolve();\n    };\n  var firstScriptTag = document.getElementsByTagName('script')[0];\n  firstScriptTag.parentNode.insertBefore(tag, firstScriptTag);\n});\n};\n\nif(typeof $3Dmolpromise === 'undefined') {\n$3Dmolpromise = null;\n  $3Dmolpromise = loadScriptAsync('https://cdnjs.cloudflare.com/ajax/libs/3Dmol/2.1.0/3Dmol-min.js');\n}\n\nvar viewer_17173365080933254 = null;\nvar warn = document.getElementById(\"3dmolwarning_17173365080933254\");\nif(warn) {\n    warn.parentNode.removeChild(warn);\n}\n$3Dmolpromise.then(function() {\nviewer_17173365080933254 = $3Dmol.createViewer(document.getElementById(\"3dmolviewer_17173365080933254\"),{backgroundColor:\"white\"});\nviewer_17173365080933254.zoomTo();\n\tviewer_17173365080933254.addModel(\"17\\nH10 C5 O2\\nC -0.341000 -0.550897 -0.459034\\nC 0.361986 -0.804327 0.906409\\nC -0.906624 0.784630 0.112949\\nC 0.163868 0.697305 1.246534\\nC 0.635459 -0.372394 -1.625519\\nH -0.221445 -1.449050 1.557315\\nH -1.915066 0.677940 0.500722\\nH 1.066493 -1.342036 -1.892130\\nH 1.408475 -1.146865 0.873417\\nH -1.934789 -1.711899 -0.184170\\nH 1.108705 2.371915 1.000753\\nH -0.861333 1.677307 -0.524692\\nH 0.120258 0.021473 -2.501744\\nH -0.177133 0.910000 2.271627\\nH 1.445486 0.313532 -1.346232\\nO -1.302998 -1.507434 -0.901168\\nO 1.349658 1.430805 0.965008\",\"xyz\");\n\tviewer_17173365080933254.setStyle({\"sphere\": {\"scale\": 0.35}, \"stick\": {\"radius\": 0.2}});\n\tviewer_17173365080933254.zoomTo();\nviewer_17173365080933254.render();\n});\n</script>",
      "text/html": [
       "<div id=\"3dmolviewer_17173365080933254\"  style=\"position: relative; width: 800px; height: 400px;\">\n",
       "        <p id=\"3dmolwarning_17173365080933254\" style=\"background-color:#ffcccc;color:black\">3Dmol.js failed to load for some reason.  Please check your browser console for error messages.<br></p>\n",
       "        </div>\n",
       "<script>\n",
       "\n",
       "var loadScriptAsync = function(uri){\n",
       "  return new Promise((resolve, reject) => {\n",
       "    //this is to ignore the existence of requirejs amd\n",
       "    var savedexports, savedmodule;\n",
       "    if (typeof exports !== 'undefined') savedexports = exports;\n",
       "    else exports = {}\n",
       "    if (typeof module !== 'undefined') savedmodule = module;\n",
       "    else module = {}\n",
       "\n",
       "    var tag = document.createElement('script');\n",
       "    tag.src = uri;\n",
       "    tag.async = true;\n",
       "    tag.onload = () => {\n",
       "        exports = savedexports;\n",
       "        module = savedmodule;\n",
       "        resolve();\n",
       "    };\n",
       "  var firstScriptTag = document.getElementsByTagName('script')[0];\n",
       "  firstScriptTag.parentNode.insertBefore(tag, firstScriptTag);\n",
       "});\n",
       "};\n",
       "\n",
       "if(typeof $3Dmolpromise === 'undefined') {\n",
       "$3Dmolpromise = null;\n",
       "  $3Dmolpromise = loadScriptAsync('https://cdnjs.cloudflare.com/ajax/libs/3Dmol/2.1.0/3Dmol-min.js');\n",
       "}\n",
       "\n",
       "var viewer_17173365080933254 = null;\n",
       "var warn = document.getElementById(\"3dmolwarning_17173365080933254\");\n",
       "if(warn) {\n",
       "    warn.parentNode.removeChild(warn);\n",
       "}\n",
       "$3Dmolpromise.then(function() {\n",
       "viewer_17173365080933254 = $3Dmol.createViewer(document.getElementById(\"3dmolviewer_17173365080933254\"),{backgroundColor:\"white\"});\n",
       "viewer_17173365080933254.zoomTo();\n",
       "\tviewer_17173365080933254.addModel(\"17\\nH10 C5 O2\\nC -0.341000 -0.550897 -0.459034\\nC 0.361986 -0.804327 0.906409\\nC -0.906624 0.784630 0.112949\\nC 0.163868 0.697305 1.246534\\nC 0.635459 -0.372394 -1.625519\\nH -0.221445 -1.449050 1.557315\\nH -1.915066 0.677940 0.500722\\nH 1.066493 -1.342036 -1.892130\\nH 1.408475 -1.146865 0.873417\\nH -1.934789 -1.711899 -0.184170\\nH 1.108705 2.371915 1.000753\\nH -0.861333 1.677307 -0.524692\\nH 0.120258 0.021473 -2.501744\\nH -0.177133 0.910000 2.271627\\nH 1.445486 0.313532 -1.346232\\nO -1.302998 -1.507434 -0.901168\\nO 1.349658 1.430805 0.965008\",\"xyz\");\n",
       "\tviewer_17173365080933254.setStyle({\"sphere\": {\"scale\": 0.35}, \"stick\": {\"radius\": 0.2}});\n",
       "\tviewer_17173365080933254.zoomTo();\n",
       "viewer_17173365080933254.render();\n",
       "});\n",
       "</script>"
      ]
     },
     "metadata": {},
     "output_type": "display_data"
    }
   ],
   "source": [
    "from model.visualize import draw_mol\n",
    "\n",
    "for i in range(4):\n",
    "    draw_mol(f'./demo/{time_point}/mol_{i}.xyz')"
   ]
  },
  {
   "cell_type": "markdown",
   "metadata": {},
   "source": [
    "The results show that our model can generate diverse and stable structures. All molecules satisfy Lewis' rule and conform to chemical intuition."
   ]
  }
 ],
 "metadata": {
  "kernelspec": {
   "display_name": "pl_pyg",
   "language": "python",
   "name": "python3"
  },
  "language_info": {
   "codemirror_mode": {
    "name": "ipython",
    "version": 3
   },
   "file_extension": ".py",
   "mimetype": "text/x-python",
   "name": "python",
   "nbconvert_exporter": "python",
   "pygments_lexer": "ipython3",
   "version": "3.11.9"
  }
 },
 "nbformat": 4,
 "nbformat_minor": 2
}
