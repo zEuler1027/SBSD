{
 "cells": [
  {
   "cell_type": "code",
   "execution_count": 1,
   "metadata": {},
   "outputs": [
    {
     "name": "stderr",
     "output_type": "stream",
     "text": [
      "/home/xmcao/.conda/envs/install/envs/pl_pyg/lib/python3.11/site-packages/torch_geometric/typing.py:54: UserWarning: An issue occurred while importing 'pyg-lib'. Disabling its usage. Stacktrace: /lib64/libm.so.6: version `GLIBC_2.29' not found (required by /home/xmcao/.conda/envs/install/envs/pl_pyg/lib/python3.11/site-packages/libpyg.so)\n",
      "  warnings.warn(f\"An issue occurred while importing 'pyg-lib'. \"\n",
      "/home/xmcao/.conda/envs/install/envs/pl_pyg/lib/python3.11/site-packages/torch_geometric/typing.py:110: UserWarning: An issue occurred while importing 'torch-sparse'. Disabling its usage. Stacktrace: /lib64/libm.so.6: version `GLIBC_2.29' not found (required by /home/xmcao/.conda/envs/install/envs/pl_pyg/lib/python3.11/site-packages/libpyg.so)\n",
      "  warnings.warn(f\"An issue occurred while importing 'torch-sparse'. \"\n",
      "/home/xmcao/.conda/envs/install/envs/pl_pyg/lib/python3.11/site-packages/torch/cuda/__init__.py:619: UserWarning: Can't initialize NVML\n",
      "  warnings.warn(\"Can't initialize NVML\")\n",
      "/home/xmcao/.conda/envs/install/envs/pl_pyg/lib/python3.11/site-packages/torch/cuda/__init__.py:749: UserWarning: CUDA initialization: The NVIDIA driver on your system is too old (found version 11070). Please update your GPU driver by downloading and installing a new version from the URL: http://www.nvidia.com/Download/index.aspx Alternatively, go to: https://pytorch.org to install a PyTorch version that has been compiled with your version of the CUDA driver. (Triggered internally at ../c10/cuda/CUDAFunctions.cpp:108.)\n",
      "  return torch._C._cuda_getDeviceCount() if nvml_count < 0 else nvml_count\n"
     ]
    }
   ],
   "source": [
    "from model.utils import DiffSchedule"
   ]
  },
  {
   "cell_type": "code",
   "execution_count": 2,
   "metadata": {},
   "outputs": [],
   "source": [
    "diffschedule = DiffSchedule(sigma=25.0, eps=1e-5)"
   ]
  },
  {
   "cell_type": "code",
   "execution_count": 10,
   "metadata": {},
   "outputs": [],
   "source": [
    "import torch\n",
    "g = diffschedule.diffusion_coeff(diffschedule.sample_t(torch.tensor(100,device='cpu')))"
   ]
  },
  {
   "cell_type": "code",
   "execution_count": 11,
   "metadata": {},
   "outputs": [],
   "source": [
    "noise = torch.randn(100, 3, )"
   ]
  },
  {
   "cell_type": "code",
   "execution_count": 13,
   "metadata": {},
   "outputs": [
    {
     "data": {
      "text/plain": [
       "tensor([[ 2.8370e+01,  6.4123e+00,  1.0070e+00],\n",
       "        [ 5.1035e+01,  1.2346e+00,  9.9305e+00],\n",
       "        [-2.6817e+01, -2.1722e+01, -4.9515e+01],\n",
       "        [-4.7389e+00, -1.4800e+01, -5.0916e+01],\n",
       "        [ 1.0156e+01, -4.2478e+01,  1.4379e+01],\n",
       "        [-2.5407e+01, -3.3368e+01, -2.0479e+01],\n",
       "        [-1.8404e+00, -2.4483e+00,  1.5062e+01],\n",
       "        [ 1.1916e+01,  1.2370e+01,  5.4084e+00],\n",
       "        [ 1.0069e+01, -9.5378e+00,  9.6324e+00],\n",
       "        [ 1.8348e+01,  2.5418e+01, -2.4312e+01],\n",
       "        [ 4.5042e+01,  1.6410e+01, -3.6034e+01],\n",
       "        [ 6.5042e+00,  8.1144e+00,  3.4460e+01],\n",
       "        [-8.0828e+00, -6.7655e+00,  1.1033e+01],\n",
       "        [ 8.5528e+00, -2.8666e+00,  7.7230e+00],\n",
       "        [ 1.0360e+01,  1.6945e+01,  1.8469e+01],\n",
       "        [ 1.5104e+01,  2.7078e+00,  7.8482e-01],\n",
       "        [-2.3093e+01,  3.9625e+01, -1.7066e-01],\n",
       "        [ 9.1800e+00, -1.0048e+01, -1.4927e+01],\n",
       "        [-9.3922e+00,  5.9186e+00, -2.0045e+01],\n",
       "        [ 5.3533e-02,  1.8331e+01, -1.1589e+01],\n",
       "        [ 3.5043e+00, -1.4413e+01,  9.6695e-01],\n",
       "        [ 4.3988e+00, -1.0126e+00, -5.1929e+00],\n",
       "        [-5.2134e+00, -1.0087e+01,  1.6092e+01],\n",
       "        [-2.8866e+01,  2.0222e+01, -1.3193e+01],\n",
       "        [ 9.8086e+00, -9.5652e+00,  1.5305e+00],\n",
       "        [ 1.4982e+01,  3.8338e+00,  3.4594e+00],\n",
       "        [-7.9055e+00, -2.4898e+01,  1.5280e+01],\n",
       "        [ 5.5833e+00, -1.4500e+01,  2.1088e+01],\n",
       "        [ 8.3715e+00,  2.2007e+00, -1.1345e+00],\n",
       "        [ 1.3123e+01,  3.0269e+01, -1.6671e+01],\n",
       "        [ 2.4846e+00, -1.3004e+01, -3.5143e+00],\n",
       "        [ 9.5680e+00, -9.7608e+00,  5.3736e+00],\n",
       "        [ 6.1255e+00, -8.8475e+00,  1.2204e+01],\n",
       "        [-8.5063e+00,  6.5536e+00, -9.5554e+00],\n",
       "        [ 8.4233e-01, -2.6110e+00, -2.8724e+00],\n",
       "        [-2.7392e+00,  5.5848e+00, -5.3145e+00],\n",
       "        [-4.2566e+00,  4.8848e+00,  2.1978e+00],\n",
       "        [ 8.4887e-01,  4.9854e+00, -4.2674e+00],\n",
       "        [ 1.9254e-01, -9.2187e+00,  6.8944e+00],\n",
       "        [ 1.4374e+00, -7.9842e+00, -7.0543e+00],\n",
       "        [ 5.3473e+00, -1.8663e-01, -6.5587e+00],\n",
       "        [-1.1044e+00, -1.7136e+00, -5.9989e+00],\n",
       "        [-1.8030e+00, -2.3398e+00, -6.0813e+00],\n",
       "        [-5.4221e+00,  2.7801e+00,  1.4918e+01],\n",
       "        [ 6.5431e+00,  1.6475e+00,  3.5281e+00],\n",
       "        [ 2.8830e+00,  7.1676e+00,  3.9567e+00],\n",
       "        [-3.2534e+00,  2.2666e+00, -7.5863e+00],\n",
       "        [ 3.0609e+00,  1.8557e+00, -1.8092e-01],\n",
       "        [ 1.0042e+01, -4.5914e+00,  3.1954e+00],\n",
       "        [-9.7127e+00, -2.4654e+00,  3.6656e+00],\n",
       "        [ 3.5333e+00, -2.8272e+00, -3.2310e-01],\n",
       "        [ 2.2223e+00, -1.9766e+00, -2.6314e+00],\n",
       "        [ 2.7207e+00, -7.4311e+00,  4.2918e+00],\n",
       "        [-4.8877e+00, -4.1067e+00, -3.9098e+00],\n",
       "        [-1.2003e+00,  2.8159e+00, -5.1769e+00],\n",
       "        [ 1.7953e+00, -3.5456e+00, -4.0585e+00],\n",
       "        [ 3.2942e+00,  8.5252e-01, -1.6896e+00],\n",
       "        [-6.3403e+00,  5.3372e+00,  1.4929e+00],\n",
       "        [-4.5623e-01, -4.2880e-01,  2.3316e+00],\n",
       "        [ 3.9312e+00,  3.6641e+00, -3.7631e-01],\n",
       "        [ 2.7122e+00,  2.0625e+00,  5.8952e+00],\n",
       "        [-1.4485e-01, -5.0133e-01,  2.0792e+00],\n",
       "        [ 2.5605e-02, -1.3980e+00,  6.9621e+00],\n",
       "        [-3.1463e+00,  1.2314e+00,  2.8431e-01],\n",
       "        [-4.0728e+00, -4.0391e+00,  3.4477e+00],\n",
       "        [-2.1423e+00,  3.6993e+00, -5.4994e+00],\n",
       "        [-8.2568e-01,  2.1764e+00,  5.7373e+00],\n",
       "        [ 1.5277e+00,  3.4942e+00,  3.7582e-01],\n",
       "        [-2.7229e-01,  6.9924e-01,  2.9950e+00],\n",
       "        [ 2.5007e+00,  1.7270e+00, -6.6429e-01],\n",
       "        [ 2.3139e+00, -3.5631e+00,  1.7883e+00],\n",
       "        [ 3.1066e-01, -3.2183e+00,  6.5780e+00],\n",
       "        [ 1.0391e+00, -2.0052e+00, -2.7599e+00],\n",
       "        [ 1.4903e-02,  6.7909e-01,  1.8727e-02],\n",
       "        [-4.9090e-02, -1.5939e+00, -1.7828e+00],\n",
       "        [-1.1325e+00, -1.1781e+00, -9.5028e-01],\n",
       "        [-1.5637e+00,  1.8263e+00, -3.5276e-01],\n",
       "        [ 4.8412e-01,  2.9784e+00,  9.0878e-02],\n",
       "        [-2.1692e+00, -1.2668e+00,  3.9236e-01],\n",
       "        [ 2.8162e+00, -2.0008e+00,  3.9831e-01],\n",
       "        [ 1.4999e+00,  6.6389e-02, -1.1332e+00],\n",
       "        [ 3.7746e-01, -2.5709e+00,  2.3261e+00],\n",
       "        [-9.0485e-01,  1.1065e+00, -5.9136e-01],\n",
       "        [ 1.4475e+00, -4.2275e+00,  6.4612e-01],\n",
       "        [-8.6125e-01, -1.6900e+00,  1.4476e+00],\n",
       "        [ 4.1383e-01, -7.1591e-02, -2.3070e+00],\n",
       "        [-1.5401e+00,  2.5445e+00, -1.1341e+00],\n",
       "        [-7.1172e-01,  1.3623e+00,  1.2247e+00],\n",
       "        [-1.4944e+00, -1.4615e+00,  9.6876e-01],\n",
       "        [-8.0943e-01, -3.0740e-01,  6.7775e-01],\n",
       "        [ 5.1982e-01,  7.9335e-02, -1.4740e+00],\n",
       "        [-5.6042e-01, -9.4137e-01, -1.4857e+00],\n",
       "        [-6.7016e-02,  6.1325e-01,  1.8043e-01],\n",
       "        [ 2.4548e+00, -1.0895e-01,  7.4688e-01],\n",
       "        [-1.4764e+00,  2.6272e-02, -1.8531e+00],\n",
       "        [-4.2558e-01, -2.0461e+00, -1.9098e+00],\n",
       "        [ 1.9373e+00,  2.4127e+00,  1.8235e+00],\n",
       "        [-7.7652e-01, -7.9328e-01,  2.3908e+00],\n",
       "        [ 1.1129e+00, -9.1040e-01, -1.7127e+00],\n",
       "        [ 4.0520e-01, -4.6603e-02,  3.7392e-01]])"
      ]
     },
     "execution_count": 13,
     "metadata": {},
     "output_type": "execute_result"
    }
   ],
   "source": [
    "g[:,None]*noise"
   ]
  },
  {
   "cell_type": "code",
   "execution_count": null,
   "metadata": {},
   "outputs": [],
   "source": []
  }
 ],
 "metadata": {
  "kernelspec": {
   "display_name": "pl_pyg",
   "language": "python",
   "name": "python3"
  },
  "language_info": {
   "codemirror_mode": {
    "name": "ipython",
    "version": 3
   },
   "file_extension": ".py",
   "mimetype": "text/x-python",
   "name": "python",
   "nbconvert_exporter": "python",
   "pygments_lexer": "ipython3",
   "version": "3.11.9"
  }
 },
 "nbformat": 4,
 "nbformat_minor": 2
}
