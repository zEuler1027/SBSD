{
 "cells": [
  {
   "cell_type": "code",
   "execution_count": 1,
   "metadata": {},
   "outputs": [],
   "source": [
    "\n",
    "from typing import Optional\n",
    "\n",
    "import torch\n",
    "from torch import Tensor\n",
    "\n",
    "\n",
    "def metis(\n",
    "    rowptr: Tensor,\n",
    "    col: Tensor,\n",
    "    num_partitions: int,\n",
    "    node_weight: Optional[Tensor] = None,\n",
    "    edge_weight: Optional[Tensor] = None,\n",
    "    recursive: bool = False,\n",
    ") -> Tensor:\n",
    "    r\"\"\"Clusters/partitions a graph into multiple partitions via :obj:`METIS`,\n",
    "    as motivated by the `\"Cluster-GCN: An Efficient Algorithm for Training Deep\n",
    "    and Large Graph Convolutional Networks\"\n",
    "    <https://arxiv.org/abs/1905.07953>`_ paper.\n",
    "\n",
    "    Args:\n",
    "        rowptr (torch.Tensor): Compressed source node indices.\n",
    "        col (torch.Tensor): Target node indices.\n",
    "        num_partitions (int): The number of partitions.\n",
    "        node_weight (torch.Tensor, optional): Optional node weights.\n",
    "            (default: :obj:`None`)\n",
    "        edge_weight (torch.Tensor, optional): Optional edge weights.\n",
    "            (default: :obj:`None`)\n",
    "        recursive (bool, optional): If set to :obj:`True`, will use multilevel\n",
    "            recursive bisection instead of multilevel k-way partitioning.\n",
    "            (default: :obj:`False`)\n",
    "\n",
    "    Returns:\n",
    "        torch.Tensor: A vector that assings each node to a partition.\n",
    "    \"\"\"\n",
    "    return torch.ops.pyg.metis(rowptr, col, num_partitions, node_weight,\n",
    "                               edge_weight, recursive)"
   ]
  },
  {
   "cell_type": "code",
   "execution_count": 2,
   "metadata": {},
   "outputs": [
    {
     "ename": "AttributeError",
     "evalue": "'_OpNamespace' 'pyg' object has no attribute 'metis'",
     "output_type": "error",
     "traceback": [
      "\u001b[0;31m---------------------------------------------------------------------------\u001b[0m",
      "\u001b[0;31mAttributeError\u001b[0m                            Traceback (most recent call last)",
      "Cell \u001b[0;32mIn[2], line 25\u001b[0m\n\u001b[1;32m     22\u001b[0m num_partitions \u001b[38;5;241m=\u001b[39m \u001b[38;5;241m2\u001b[39m\n\u001b[1;32m     24\u001b[0m \u001b[38;5;66;03m# 调用 metis 方法进行图划分\u001b[39;00m\n\u001b[0;32m---> 25\u001b[0m partitions \u001b[38;5;241m=\u001b[39m \u001b[43mmetis\u001b[49m\u001b[43m(\u001b[49m\u001b[43mrowptr\u001b[49m\u001b[43m,\u001b[49m\u001b[43m \u001b[49m\u001b[43mcol\u001b[49m\u001b[43m,\u001b[49m\u001b[43m \u001b[49m\u001b[43mnum_partitions\u001b[49m\u001b[43m,\u001b[49m\u001b[43m \u001b[49m\u001b[43mrecursive\u001b[49m\u001b[38;5;241;43m=\u001b[39;49m\u001b[38;5;28;43;01mTrue\u001b[39;49;00m\u001b[43m)\u001b[49m\n\u001b[1;32m     27\u001b[0m \u001b[38;5;28mprint\u001b[39m(\u001b[38;5;124mf\u001b[39m\u001b[38;5;124m\"\u001b[39m\u001b[38;5;124mPartition assignments with recursive=True: \u001b[39m\u001b[38;5;132;01m{\u001b[39;00mpartitions\u001b[38;5;132;01m}\u001b[39;00m\u001b[38;5;124m\"\u001b[39m)\n\u001b[1;32m     29\u001b[0m \u001b[38;5;66;03m# 再次调用 metis 方法，使用不同的划分策略\u001b[39;00m\n",
      "Cell \u001b[0;32mIn[1], line 35\u001b[0m, in \u001b[0;36mmetis\u001b[0;34m(rowptr, col, num_partitions, node_weight, edge_weight, recursive)\u001b[0m\n\u001b[1;32m      7\u001b[0m \u001b[38;5;28;01mdef\u001b[39;00m \u001b[38;5;21mmetis\u001b[39m(\n\u001b[1;32m      8\u001b[0m     rowptr: Tensor,\n\u001b[1;32m      9\u001b[0m     col: Tensor,\n\u001b[0;32m   (...)\u001b[0m\n\u001b[1;32m     13\u001b[0m     recursive: \u001b[38;5;28mbool\u001b[39m \u001b[38;5;241m=\u001b[39m \u001b[38;5;28;01mFalse\u001b[39;00m,\n\u001b[1;32m     14\u001b[0m ) \u001b[38;5;241m-\u001b[39m\u001b[38;5;241m>\u001b[39m Tensor:\n\u001b[1;32m     15\u001b[0m \u001b[38;5;250m    \u001b[39m\u001b[38;5;124mr\u001b[39m\u001b[38;5;124;03m\"\"\"Clusters/partitions a graph into multiple partitions via :obj:`METIS`,\u001b[39;00m\n\u001b[1;32m     16\u001b[0m \u001b[38;5;124;03m    as motivated by the `\"Cluster-GCN: An Efficient Algorithm for Training Deep\u001b[39;00m\n\u001b[1;32m     17\u001b[0m \u001b[38;5;124;03m    and Large Graph Convolutional Networks\"\u001b[39;00m\n\u001b[0;32m   (...)\u001b[0m\n\u001b[1;32m     33\u001b[0m \u001b[38;5;124;03m        torch.Tensor: A vector that assings each node to a partition.\u001b[39;00m\n\u001b[1;32m     34\u001b[0m \u001b[38;5;124;03m    \"\"\"\u001b[39;00m\n\u001b[0;32m---> 35\u001b[0m     \u001b[38;5;28;01mreturn\u001b[39;00m \u001b[43mtorch\u001b[49m\u001b[38;5;241;43m.\u001b[39;49m\u001b[43mops\u001b[49m\u001b[38;5;241;43m.\u001b[39;49m\u001b[43mpyg\u001b[49m\u001b[38;5;241;43m.\u001b[39;49m\u001b[43mmetis\u001b[49m(rowptr, col, num_partitions, node_weight,\n\u001b[1;32m     36\u001b[0m                                edge_weight, recursive)\n",
      "File \u001b[0;32m~/.conda/envs/install/envs/pl_pyg/lib/python3.11/site-packages/torch/_ops.py:921\u001b[0m, in \u001b[0;36m_OpNamespace.__getattr__\u001b[0;34m(self, op_name)\u001b[0m\n\u001b[1;32m    919\u001b[0m     op, overload_names \u001b[38;5;241m=\u001b[39m torch\u001b[38;5;241m.\u001b[39m_C\u001b[38;5;241m.\u001b[39m_jit_get_operation(qualified_op_name)\n\u001b[1;32m    920\u001b[0m     \u001b[38;5;28;01mif\u001b[39;00m op \u001b[38;5;129;01mis\u001b[39;00m \u001b[38;5;28;01mNone\u001b[39;00m:\n\u001b[0;32m--> 921\u001b[0m         \u001b[38;5;28;01mraise\u001b[39;00m \u001b[38;5;167;01mAttributeError\u001b[39;00m(\n\u001b[1;32m    922\u001b[0m             \u001b[38;5;124mf\u001b[39m\u001b[38;5;124m\"\u001b[39m\u001b[38;5;124m'\u001b[39m\u001b[38;5;124m_OpNamespace\u001b[39m\u001b[38;5;124m'\u001b[39m\u001b[38;5;124m \u001b[39m\u001b[38;5;124m'\u001b[39m\u001b[38;5;132;01m{\u001b[39;00m\u001b[38;5;28mself\u001b[39m\u001b[38;5;241m.\u001b[39mname\u001b[38;5;132;01m}\u001b[39;00m\u001b[38;5;124m'\u001b[39m\u001b[38;5;124m object has no attribute \u001b[39m\u001b[38;5;124m'\u001b[39m\u001b[38;5;132;01m{\u001b[39;00mop_name\u001b[38;5;132;01m}\u001b[39;00m\u001b[38;5;124m'\u001b[39m\u001b[38;5;124m\"\u001b[39m\n\u001b[1;32m    923\u001b[0m         )\n\u001b[1;32m    924\u001b[0m \u001b[38;5;28;01mexcept\u001b[39;00m \u001b[38;5;167;01mRuntimeError\u001b[39;00m \u001b[38;5;28;01mas\u001b[39;00m e:\n\u001b[1;32m    925\u001b[0m     \u001b[38;5;66;03m# Turn this into AttributeError so getattr(obj, key, default)\u001b[39;00m\n\u001b[1;32m    926\u001b[0m     \u001b[38;5;66;03m# works (this is called by TorchScript with __origin__)\u001b[39;00m\n\u001b[1;32m    927\u001b[0m     \u001b[38;5;28;01mraise\u001b[39;00m \u001b[38;5;167;01mAttributeError\u001b[39;00m(\n\u001b[1;32m    928\u001b[0m         \u001b[38;5;124mf\u001b[39m\u001b[38;5;124m\"\u001b[39m\u001b[38;5;124m'\u001b[39m\u001b[38;5;124m_OpNamespace\u001b[39m\u001b[38;5;124m'\u001b[39m\u001b[38;5;124m \u001b[39m\u001b[38;5;124m'\u001b[39m\u001b[38;5;132;01m{\u001b[39;00m\u001b[38;5;28mself\u001b[39m\u001b[38;5;241m.\u001b[39mname\u001b[38;5;132;01m}\u001b[39;00m\u001b[38;5;124m'\u001b[39m\u001b[38;5;124m object has no attribute \u001b[39m\u001b[38;5;124m'\u001b[39m\u001b[38;5;132;01m{\u001b[39;00mop_name\u001b[38;5;132;01m}\u001b[39;00m\u001b[38;5;124m'\u001b[39m\u001b[38;5;124m\"\u001b[39m\n\u001b[1;32m    929\u001b[0m     ) \u001b[38;5;28;01mfrom\u001b[39;00m \u001b[38;5;21;01me\u001b[39;00m\n",
      "\u001b[0;31mAttributeError\u001b[0m: '_OpNamespace' 'pyg' object has no attribute 'metis'"
     ]
    }
   ],
   "source": [
    "import torch\n",
    "import numpy as np\n",
    "import scipy.sparse as sp\n",
    "\n",
    "# 创建一个示例图\n",
    "edge_index = torch.tensor([[0, 1, 1, 2, 2, 3, 3, 0], \n",
    "                           [1, 0, 2, 1, 3, 2, 0, 3]])\n",
    "\n",
    "# 将边索引转换为 scipy 稀疏矩阵的 COO 格式\n",
    "row = edge_index[0].numpy()\n",
    "col = edge_index[1].numpy()\n",
    "data = np.ones(row.shape[0])\n",
    "num_nodes = edge_index.max().item() + 1\n",
    "coo_matrix = sp.coo_matrix((data, (row, col)), shape=(num_nodes, num_nodes))\n",
    "\n",
    "# 将 COO 矩阵转换为 CSR 矩阵\n",
    "csr_matrix = coo_matrix.tocsr()\n",
    "rowptr = torch.from_numpy(csr_matrix.indptr).to(torch.int32)\n",
    "col = torch.from_numpy(csr_matrix.indices).to(torch.int32)\n",
    "\n",
    "# 指定分区数量\n",
    "num_partitions = 2\n",
    "\n",
    "# 调用 metis 方法进行图划分\n",
    "partitions = metis(rowptr, col, num_partitions, recursive=True)\n",
    "\n",
    "print(f\"Partition assignments with recursive=True: {partitions}\")\n",
    "\n",
    "# 再次调用 metis 方法，使用不同的划分策略\n",
    "partitions_non_recursive = metis(rowptr, col, num_partitions, recursive=False)\n",
    "\n",
    "print(f\"Partition assignments with recursive=False: {partitions_non_recursive}\")"
   ]
  },
  {
   "cell_type": "code",
   "execution_count": null,
   "metadata": {},
   "outputs": [
    {
     "name": "stdout",
     "output_type": "stream",
     "text": [
      "METIS function is not available in PyG\n"
     ]
    }
   ],
   "source": [
    "import torch\n",
    "if hasattr(torch.ops.pyg, 'metis'):\n",
    "    print(\"METIS function is available in PyG\")\n",
    "else:\n",
    "    print(\"METIS function is not available in PyG\")"
   ]
  },
  {
   "cell_type": "code",
   "execution_count": null,
   "metadata": {},
   "outputs": [],
   "source": []
  }
 ],
 "metadata": {
  "kernelspec": {
   "display_name": "pl_pyg",
   "language": "python",
   "name": "python3"
  },
  "language_info": {
   "codemirror_mode": {
    "name": "ipython",
    "version": 3
   },
   "file_extension": ".py",
   "mimetype": "text/x-python",
   "name": "python",
   "nbconvert_exporter": "python",
   "pygments_lexer": "ipython3",
   "version": "3.11.9"
  }
 },
 "nbformat": 4,
 "nbformat_minor": 2
}
