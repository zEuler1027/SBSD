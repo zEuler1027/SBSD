{
 "cells": [
  {
   "cell_type": "markdown",
   "metadata": {},
   "source": [
    "# Score based diffusion model for molecule generation."
   ]
  },
  {
   "cell_type": "markdown",
   "metadata": {},
   "source": [
    "# 1. Itroduction of Score-Based Diffusion Modeling through Stochastic Differential Equations."
   ]
  },
  {
   "cell_type": "markdown",
   "metadata": {},
   "source": [
    "Diffusion model is a kind of generative model, which has gained extensive attention in generating high-quality samples in recent years.  They use the principle of diffusion process to generate complex data distribution from simple noise distribution by way of gradual de-noising. Diffusion generative models can be primarily divided into three categories: Score Matching with Langevin Dynamics (SMLD), Denoising Diffusion Probabilistic Models (DDPM), and Score-based Generative Model (SGM). Here, we primarily use SGM, precisely VESDE."
   ]
  },
  {
   "cell_type": "markdown",
   "metadata": {},
   "source": [
    "### *Variance Exploding Stochastic Differential Equation (VESDE) Diffusion*\n",
    "\n",
    "Variance Exploding Stochastic Differential Equations (VESDE) diffusion models are a class of score-based generative models. These models leverage the principles of stochastic processes, particularly stochastic differential equations (SDEs), to model the evolution of data points over continuous time. (Song, Yang, et al. \"Score-based generative modeling through stochastic differential equations.\" arXiv preprint arXiv:2011.13456 (2020).)\n",
    "\n",
    "### *Core Concept*\n",
    "\n",
    "At the heart of VESDE diffusion is the idea of modeling the data distribution as a process that evolves over time according to a stochastic differential equation. This evolution is characterized by the variance of the data points increasing (or \"exploding\") as time progresses, which is a key feature distinguishing VESDE from other types of SDE-based models like Variance Preserving SDE (VPSDE).\n",
    "\n",
    "### *Mathematical Formulation*\n",
    "\n",
    "The VESDE can be defined by the following SDE:\n",
    "\n",
    "$$dx_{t} = f(x_t, t)dt + g(t)dW_t$$\n",
    "\n",
    "where:\n",
    "\n",
    "- $x_t$ represents the data point at time $t$\n",
    "- $f(x_t, t)$ is the drift term that dictates the deterministic part of the evolution.\n",
    "- $g(t)$ is the diffusion term that controls the magnitude of the stochastic component.\n",
    "- $W_t$ is a standard Wiener process (also known as Brownian motion).\n",
    "\n",
    "### *Training and Sampling*\n",
    "\n",
    "Training a VESDE model involves learning to reverse this diffusion process. During training, the model is trained to denoise corrupted data samples, effectively learning the reverse dynamics of the SDE. This reverse process can be described by the reverse-time SDE, which can be solved using techniques like the Euler-Maruyama method.\n",
    "\n",
    "Once trained, sampling from a VESDE model involves simulating the reverse-time SDE starting from a noise distribution (typically Gaussian noise) and evolving it backward in time to obtain a sample from the learned data distribution.\n",
    "\n",
    "### *Molecule Generation*\n",
    "\n",
    "The coordinate space of the molecule is a continuous space, so we want to use the diffusion model to generate the three-dimensional conformation of the molecule.\n",
    "\n",
    "Here is the main code for the socre-based model:"
   ]
  },
  {
   "cell_type": "markdown",
   "metadata": {},
   "source": [
    "```python\n",
    "class VESDE(torch.nn.Module):\n",
    "    def __init__(\n",
    "        self,\n",
    "        score_model: torch.nn.Module,\n",
    "        schedule: DiffSchedule,\n",
    ") -> None:\n",
    "        super().__init__()\n",
    "        self.score_model = score_model\n",
    "        self.schedule = schedule\n",
    "        \n",
    "    def forward(self, pos, atomic_numbers, mask):\n",
    "        t = self.schedule(mask)\n",
    "        pos_dim = pos.shape[-1]\n",
    "        nodes_mask = get_batch_mask_for_nodes(mask)\n",
    "        edge_index = get_full_edges_index(nodes_mask, remove_self_edge=False)\n",
    "\n",
    "        # sample zero CoM noise\n",
    "        noise = sample_center_gravity_zero_gaussian_batch(\n",
    "            (pos.shape[0], pos_dim), nodes_mask\n",
    "        )\n",
    "        nodes_t = t[nodes_mask]\n",
    "        std = self.schedule.marginal_prob_std(nodes_t)\n",
    "        perturbed_pos = pos + noise * std[:, None]\n",
    "        \n",
    "        # compute score\n",
    "        score = self.score_model(atomic_numbers, nodes_t, perturbed_pos, edge_index)\n",
    "        score = score / std[:, None] # normalize score\n",
    "        if torch.any(torch.isnan(score)):\n",
    "            print('nan in score, resetting to randn')\n",
    "            score = torch.randn_like(score, requires_grad=True)\n",
    "        score = remove_mean_batch(score, nodes_mask)\n",
    "        \n",
    "        l2loss = torch.mean(torch.sum((score * std[:, None] + noise)**2, dim=-1))\n",
    "        return l2loss\n",
    "\n",
    "    @torch.no_grad()\n",
    "    def sample(\n",
    "        self,\n",
    "        atomic_numbers: torch.Tensor,\n",
    "        mask: torch.Tensor,\n",
    "        num_steps: int=500,\n",
    "        t_mode: str='linear',\n",
    "    )-> Tuple[torch.Tensor, List[torch.Tensor]]:\n",
    "        '''\n",
    "        Sample a mols and return the trajectory using Euler Maruyama sampler.\n",
    "        '''\n",
    "        device = atomic_numbers.device\n",
    "        pos_shape = [atomic_numbers.size(0), 3]\n",
    "        t = torch.ones(len(atomic_numbers), device=atomic_numbers.device)\n",
    "        nodes_mask = get_batch_mask_for_nodes(mask)\n",
    "        \n",
    "        # sample zero CoM noise as initial position\n",
    "        init_com = sample_center_gravity_zero_gaussian_batch(\n",
    "            (pos_shape[0], pos_shape[1]), nodes_mask\n",
    "        )\n",
    "        init_pos = init_com * self.schedule.marginal_prob_std(t)[:, None]\n",
    "        edge_index = get_full_edges_index(nodes_mask, remove_self_edge=False)\n",
    "        num_steps = torch.tensor(num_steps, device=device)\n",
    "        time_steps = self.schedule.sample_t(num_steps, mode=t_mode)\n",
    "        step_sizes = torch.cat((-torch.diff(time_steps), time_steps[-1].unsqueeze(0)))\n",
    "        \n",
    "        # sample batch of mols\n",
    "        pos = init_pos\n",
    "        trajs = []\n",
    "        for time_step, step_size in zip(time_steps, step_sizes):\n",
    "            batch_time_step = torch.ones(pos.size(0), device=device) * time_step\n",
    "            g = self.schedule.diffusion_coeff(batch_time_step)\n",
    "            score = self.score_model(atomic_numbers, batch_time_step, pos, edge_index)\n",
    "            \n",
    "            # normalize score\n",
    "            if torch.any(torch.isnan(score)):\n",
    "                print('nan in score, resetting to randn')\n",
    "                score = torch.randn_like(score)\n",
    "            score = score / self.schedule.marginal_prob_std(batch_time_step)[:, None]\n",
    "            score = remove_mean_batch(score, nodes_mask)\n",
    "            mean_pos = pos + (g**2)[:, None] * score * step_size\n",
    "            noise = sample_center_gravity_zero_gaussian_batch(\n",
    "                (pos_shape[0], pos_shape[1]), nodes_mask\n",
    "            )\n",
    "            pos = mean_pos + torch.sqrt(step_size) * g[:, None] * noise\n",
    "            trajs.append(mean_pos)\n",
    "        return mean_pos, trajs\n",
    "```"
   ]
  },
  {
   "cell_type": "markdown",
   "metadata": {},
   "source": [
    "# 2. Equivariant Graph Neural Networks."
   ]
  },
  {
   "cell_type": "markdown",
   "metadata": {},
   "source": [
    "Equivariant Graph Neural Networks (EGNNs) are a class of specially designed Graph Neural Networks that are equivariant under certain transformations of graphs (such as rotation, translation, reflection, etc.). This means that if these transformations are made to the input graph, the output of the model will undergo the same transformation accordingly. This property is especially useful when dealing with tasks with spatial symmetries (such as molecular modeling, physical simulations, etc.), as it guarantees that the model is invariant or isotropic to these transformations and is able to better capture and exploit the symmetries in the data.\n",
    "\n",
    "PaiNN (Polarizable atom interaction neural network) is a equivariant graph neural network specifically designed for molecular modeling and prediction. PaiNN's design philosophy aims to incorporate interaction models from physics to better predict the physical and chemical properties of molecules. (Schütt, Kristof, Oliver Unke, and Michael Gastegger. \"Equivariant message passing for the prediction of tensorial properties and molecular spectra.\" International Conference on Machine Learning. PMLR, 2021.)\n",
    "\n",
    "We need a neural network to fit the noise in diffusion models, and since molecules can naturally be represented as graphs, we will use the equivariant PaiNN as our graph neural network for training. \n",
    "\n",
    "Let's verify the equivariance of PaiNN:"
   ]
  },
  {
   "cell_type": "code",
   "execution_count": 10,
   "metadata": {},
   "outputs": [
    {
     "name": "stdout",
     "output_type": "stream",
     "text": [
      "The molecular input to the model rotates, and the output should rotate simultaneously. \n",
      "So this number should be zero: tensor(1.0687e-11, grad_fn=<MaxBackward1>)\n"
     ]
    }
   ],
   "source": [
    "import torch\n",
    "from model.painn import PaiNN\n",
    "\n",
    "model = PaiNN()\n",
    "atomic_numbers = torch.tensor([1, 6, 6, 1, 1, 1, 1, 1, 1], dtype=torch.long) # H, C, C, H, H, H, H, H, H\n",
    "t = torch.tensor([0.4, 0.4, 0.4, 0.4, 0.4, 0.4, 0.4, 0.4, 0.4], dtype=torch.float) # random time\n",
    "from torch_geometric.nn import radius_graph\n",
    "pos = torch.tensor([[ 0.0072, -0.5687,  0.0000],\n",
    "    [-1.2854,  0.2499,  0.0000],\n",
    "    [ 1.1304,  0.3147,  0.0000],\n",
    "    [ 0.0392, -1.1972,  0.8900],\n",
    "    [ 0.0392, -1.1972, -0.8900],\n",
    "    [-1.3175,  0.8784,  0.8900],\n",
    "    [-1.3175,  0.8784, -0.8900],\n",
    "    [-2.1422, -0.4239,  0.0000],\n",
    "    [ 1.9857, -0.1365,  0.0000]], dtype = torch.float)\n",
    "\n",
    "edge_index = radius_graph(pos, r=1.70, batch=None, loop=False)\n",
    "from e3nn import o3\n",
    "rot = o3.rand_matrix()\n",
    "pos_rot = pos @ rot\n",
    "out_rot = model(atomic_numbers, t, pos, edge_index) @ rot\n",
    "out = model(atomic_numbers, t, pos_rot, edge_index)\n",
    "print('The molecular input to the model rotates, and the output should rotate simultaneously. \\nSo this number should be zero:', (out - out_rot).max())"
   ]
  },
  {
   "cell_type": "code",
   "execution_count": 2,
   "metadata": {},
   "outputs": [
    {
     "name": "stdout",
     "output_type": "stream",
     "text": [
      "PaiNN(\n",
      "  (atom_emb): AtomEmbedding(\n",
      "    (embeddings): Embedding(83, 512)\n",
      "  )\n",
      "  (t_emb): GaussianFourierProjection()\n",
      "  (embedding): Linear(in_features=1024, out_features=512, bias=True)\n",
      "  (radial_basis): RadialBasis(\n",
      "    (envelope): PolynomialEnvelope()\n",
      "    (rbf): GaussianSmearing()\n",
      "  )\n",
      "  (message_layers): ModuleList(\n",
      "    (0-5): 6 x PaiNNMessage()\n",
      "  )\n",
      "  (update_layers): ModuleList(\n",
      "    (0-5): 6 x PaiNNUpdate(\n",
      "      (vec_proj): Linear(in_features=512, out_features=1024, bias=False)\n",
      "      (xvec_proj): Sequential(\n",
      "        (0): Linear(in_features=1024, out_features=512, bias=True)\n",
      "        (1): ScaledSiLU(\n",
      "          (_activation): SiLU()\n",
      "        )\n",
      "        (2): Linear(in_features=512, out_features=1536, bias=True)\n",
      "      )\n",
      "    )\n",
      "  )\n",
      "  (out_xh): Sequential(\n",
      "    (0): Linear(in_features=512, out_features=256, bias=True)\n",
      "    (1): ScaledSiLU(\n",
      "      (_activation): SiLU()\n",
      "    )\n",
      "    (2): Linear(in_features=256, out_features=8, bias=True)\n",
      "  )\n",
      "  (out_dpos): PaiNNOutput(\n",
      "    (output_network): ModuleList(\n",
      "      (0): GatedEquivariantBlock(\n",
      "        (vec1_proj): Linear(in_features=512, out_features=512, bias=False)\n",
      "        (vec2_proj): Linear(in_features=512, out_features=256, bias=False)\n",
      "        (update_net): Sequential(\n",
      "          (0): Linear(in_features=1024, out_features=512, bias=True)\n",
      "          (1): ScaledSiLU(\n",
      "            (_activation): SiLU()\n",
      "          )\n",
      "          (2): Linear(in_features=512, out_features=512, bias=True)\n",
      "        )\n",
      "        (act): ScaledSiLU(\n",
      "          (_activation): SiLU()\n",
      "        )\n",
      "      )\n",
      "      (1): GatedEquivariantBlock(\n",
      "        (vec1_proj): Linear(in_features=256, out_features=256, bias=False)\n",
      "        (vec2_proj): Linear(in_features=256, out_features=1, bias=False)\n",
      "        (update_net): Sequential(\n",
      "          (0): Linear(in_features=512, out_features=256, bias=True)\n",
      "          (1): ScaledSiLU(\n",
      "            (_activation): SiLU()\n",
      "          )\n",
      "          (2): Linear(in_features=256, out_features=2, bias=True)\n",
      "        )\n",
      "        (act): ScaledSiLU(\n",
      "          (_activation): SiLU()\n",
      "        )\n",
      "      )\n",
      "    )\n",
      "  )\n",
      ")\n"
     ]
    }
   ],
   "source": [
    "# print the architecture of PaiNN\n",
    "print(model)"
   ]
  },
  {
   "cell_type": "markdown",
   "metadata": {},
   "source": [
    "# 3. Results"
   ]
  },
  {
   "cell_type": "markdown",
   "metadata": {},
   "source": [
    "Load the trained pytorch lightning model."
   ]
  },
  {
   "cell_type": "code",
   "execution_count": 3,
   "metadata": {},
   "outputs": [],
   "source": [
    "from model.pl import pl_module\n",
    "\n",
    "device = torch.device(\"cuda\" if torch.cuda.is_available() else \"cpu\")\n",
    "lightning_module = pl_module.load_from_checkpoint(\n",
    "    checkpoint_path=\"checkpoint.ckpt\",\n",
    "    map_location=torch.device(device),\n",
    ")"
   ]
  },
  {
   "cell_type": "markdown",
   "metadata": {},
   "source": [
    "Predefine the molecular format with the molecular formula C4H7NO, since graph neural networks are permutation-invariant, the order of the atoms does not matter."
   ]
  },
  {
   "cell_type": "code",
   "execution_count": 4,
   "metadata": {},
   "outputs": [],
   "source": [
    "# Atomic number 6 is carbon, 1 is hydrogen, 7 is nitrogen, 8 is oxygen\n",
    "C4 = torch.tensor([6, 6, 6, 6], dtype=torch.long, device=device)\n",
    "H7 = torch.tensor([1, 1, 1, 1, 1, 1, 1], dtype=torch.long, device=device)\n",
    "N1 = torch.tensor([7], dtype=torch.long, device=device)\n",
    "O1 = torch.tensor([8], dtype=torch.long, device=device)\n",
    "\n",
    "atomic_numbers = torch.cat([C4, H7, N1, O1])\n",
    "assert len(atomic_numbers) == 13"
   ]
  },
  {
   "cell_type": "code",
   "execution_count": 5,
   "metadata": {},
   "outputs": [],
   "source": [
    "# Predifine 4 molecules of identical composition\n",
    "atomic_numbers = atomic_numbers.repeat(4, 1).reshape(-1)\n",
    "mask = torch.tensor([13, 13, 13, 13], dtype=torch.long, device=device)\n",
    "assert len(atomic_numbers) == 52"
   ]
  },
  {
   "cell_type": "markdown",
   "metadata": {},
   "source": [
    "Sample molecules from gaussian noise by reversed SDE, using Euler Maruyama sampler."
   ]
  },
  {
   "cell_type": "code",
   "execution_count": 6,
   "metadata": {},
   "outputs": [
    {
     "name": "stdout",
     "output_type": "stream",
     "text": [
      "saved samples to demo/2024-05-31_21-10-08\n"
     ]
    }
   ],
   "source": [
    "from datetime import datetime\n",
    "import os\n",
    "from model.io import write_batch_xyz\n",
    "\n",
    "mols_pos, trajs = lightning_module.en_diffusion.sample(\n",
    "    atomic_numbers,\n",
    "    mask,\n",
    "    num_steps=500,\n",
    "    t_mode='cosine',\n",
    ")\n",
    "\n",
    "time_point = datetime.now().strftime(\"%Y-%m-%d_%H-%M-%S\")\n",
    "save_dir = f'demo/{time_point}'\n",
    "os.makedirs(save_dir, exist_ok=True)\n",
    "write_batch_xyz(save_dir, atomic_numbers, mols_pos, mask)\n",
    "print(f\"saved samples to {save_dir}\")\n"
   ]
  },
  {
   "cell_type": "markdown",
   "metadata": {},
   "source": [
    "The SMILES formula of the generated molecules is automatically identified using openbabel."
   ]
  },
  {
   "cell_type": "code",
   "execution_count": 7,
   "metadata": {},
   "outputs": [],
   "source": [
    "import subprocess\n",
    "\n",
    "smis = []\n",
    "for i in range(4):\n",
    "    smi = subprocess.run(\n",
    "        'obabel ' +  f'./demo/{time_point}/mol_{i}.xyz -osmi',\n",
    "        capture_output=True,\n",
    "        text=True,\n",
    "        shell=True,\n",
    "    ).stdout\n",
    "    smis.append(smi.split('\\t')[0])"
   ]
  },
  {
   "cell_type": "code",
   "execution_count": 8,
   "metadata": {},
   "outputs": [
    {
     "data": {
      "text/plain": [
       "['[C]12CN[C@H]1[CH]2.O', 'C1C=C(CO1)N', '[C](C(=O)[NH])(C)C', 'C1CNCC1=O']"
      ]
     },
     "execution_count": 8,
     "metadata": {},
     "output_type": "execute_result"
    }
   ],
   "source": [
    "smis"
   ]
  },
  {
   "cell_type": "markdown",
   "metadata": {},
   "source": [
    "Visualizing molecules."
   ]
  },
  {
   "cell_type": "code",
   "execution_count": 9,
   "metadata": {},
   "outputs": [
    {
     "data": {
      "application/3dmoljs_load.v0": "<div id=\"3dmolviewer_17171610088639817\"  style=\"position: relative; width: 800px; height: 400px;\">\n        <p id=\"3dmolwarning_17171610088639817\" style=\"background-color:#ffcccc;color:black\">3Dmol.js failed to load for some reason.  Please check your browser console for error messages.<br></p>\n        </div>\n<script>\n\nvar loadScriptAsync = function(uri){\n  return new Promise((resolve, reject) => {\n    //this is to ignore the existence of requirejs amd\n    var savedexports, savedmodule;\n    if (typeof exports !== 'undefined') savedexports = exports;\n    else exports = {}\n    if (typeof module !== 'undefined') savedmodule = module;\n    else module = {}\n\n    var tag = document.createElement('script');\n    tag.src = uri;\n    tag.async = true;\n    tag.onload = () => {\n        exports = savedexports;\n        module = savedmodule;\n        resolve();\n    };\n  var firstScriptTag = document.getElementsByTagName('script')[0];\n  firstScriptTag.parentNode.insertBefore(tag, firstScriptTag);\n});\n};\n\nif(typeof $3Dmolpromise === 'undefined') {\n$3Dmolpromise = null;\n  $3Dmolpromise = loadScriptAsync('https://cdnjs.cloudflare.com/ajax/libs/3Dmol/2.1.0/3Dmol-min.js');\n}\n\nvar viewer_17171610088639817 = null;\nvar warn = document.getElementById(\"3dmolwarning_17171610088639817\");\nif(warn) {\n    warn.parentNode.removeChild(warn);\n}\n$3Dmolpromise.then(function() {\nviewer_17171610088639817 = $3Dmol.createViewer(document.getElementById(\"3dmolviewer_17171610088639817\"),{backgroundColor:\"white\"});\nviewer_17171610088639817.zoomTo();\n\tviewer_17171610088639817.addModel(\"13\\nH7 C4 N1 O1\\nC 0.278883 0.332950 0.405416\\nC -0.301411 -1.119225 0.379133\\nC -0.109129 0.451222 -1.056381\\nC -0.974140 0.889462 0.052790\\nH 0.172194 1.059451 -1.934659\\nH 1.887891 0.181368 1.508555\\nH -1.286514 -1.371553 0.788271\\nH -1.776205 1.427037 0.324682\\nH 1.949021 1.438502 0.521006\\nH -1.258213 -1.274322 -1.605141\\nH 0.435424 -1.916721 0.661084\\nN -0.365525 -1.004685 -1.147476\\nO 1.347735 0.906488 1.102703\",\"xyz\");\n\tviewer_17171610088639817.setStyle({\"sphere\": {\"scale\": 0.35}, \"stick\": {\"radius\": 0.2}});\n\tviewer_17171610088639817.zoomTo();\nviewer_17171610088639817.render();\n});\n</script>",
      "text/html": [
       "<div id=\"3dmolviewer_17171610088639817\"  style=\"position: relative; width: 800px; height: 400px;\">\n",
       "        <p id=\"3dmolwarning_17171610088639817\" style=\"background-color:#ffcccc;color:black\">3Dmol.js failed to load for some reason.  Please check your browser console for error messages.<br></p>\n",
       "        </div>\n",
       "<script>\n",
       "\n",
       "var loadScriptAsync = function(uri){\n",
       "  return new Promise((resolve, reject) => {\n",
       "    //this is to ignore the existence of requirejs amd\n",
       "    var savedexports, savedmodule;\n",
       "    if (typeof exports !== 'undefined') savedexports = exports;\n",
       "    else exports = {}\n",
       "    if (typeof module !== 'undefined') savedmodule = module;\n",
       "    else module = {}\n",
       "\n",
       "    var tag = document.createElement('script');\n",
       "    tag.src = uri;\n",
       "    tag.async = true;\n",
       "    tag.onload = () => {\n",
       "        exports = savedexports;\n",
       "        module = savedmodule;\n",
       "        resolve();\n",
       "    };\n",
       "  var firstScriptTag = document.getElementsByTagName('script')[0];\n",
       "  firstScriptTag.parentNode.insertBefore(tag, firstScriptTag);\n",
       "});\n",
       "};\n",
       "\n",
       "if(typeof $3Dmolpromise === 'undefined') {\n",
       "$3Dmolpromise = null;\n",
       "  $3Dmolpromise = loadScriptAsync('https://cdnjs.cloudflare.com/ajax/libs/3Dmol/2.1.0/3Dmol-min.js');\n",
       "}\n",
       "\n",
       "var viewer_17171610088639817 = null;\n",
       "var warn = document.getElementById(\"3dmolwarning_17171610088639817\");\n",
       "if(warn) {\n",
       "    warn.parentNode.removeChild(warn);\n",
       "}\n",
       "$3Dmolpromise.then(function() {\n",
       "viewer_17171610088639817 = $3Dmol.createViewer(document.getElementById(\"3dmolviewer_17171610088639817\"),{backgroundColor:\"white\"});\n",
       "viewer_17171610088639817.zoomTo();\n",
       "\tviewer_17171610088639817.addModel(\"13\\nH7 C4 N1 O1\\nC 0.278883 0.332950 0.405416\\nC -0.301411 -1.119225 0.379133\\nC -0.109129 0.451222 -1.056381\\nC -0.974140 0.889462 0.052790\\nH 0.172194 1.059451 -1.934659\\nH 1.887891 0.181368 1.508555\\nH -1.286514 -1.371553 0.788271\\nH -1.776205 1.427037 0.324682\\nH 1.949021 1.438502 0.521006\\nH -1.258213 -1.274322 -1.605141\\nH 0.435424 -1.916721 0.661084\\nN -0.365525 -1.004685 -1.147476\\nO 1.347735 0.906488 1.102703\",\"xyz\");\n",
       "\tviewer_17171610088639817.setStyle({\"sphere\": {\"scale\": 0.35}, \"stick\": {\"radius\": 0.2}});\n",
       "\tviewer_17171610088639817.zoomTo();\n",
       "viewer_17171610088639817.render();\n",
       "});\n",
       "</script>"
      ]
     },
     "metadata": {},
     "output_type": "display_data"
    },
    {
     "data": {
      "application/3dmoljs_load.v0": "<div id=\"3dmolviewer_17171610088647094\"  style=\"position: relative; width: 800px; height: 400px;\">\n        <p id=\"3dmolwarning_17171610088647094\" style=\"background-color:#ffcccc;color:black\">3Dmol.js failed to load for some reason.  Please check your browser console for error messages.<br></p>\n        </div>\n<script>\n\nvar loadScriptAsync = function(uri){\n  return new Promise((resolve, reject) => {\n    //this is to ignore the existence of requirejs amd\n    var savedexports, savedmodule;\n    if (typeof exports !== 'undefined') savedexports = exports;\n    else exports = {}\n    if (typeof module !== 'undefined') savedmodule = module;\n    else module = {}\n\n    var tag = document.createElement('script');\n    tag.src = uri;\n    tag.async = true;\n    tag.onload = () => {\n        exports = savedexports;\n        module = savedmodule;\n        resolve();\n    };\n  var firstScriptTag = document.getElementsByTagName('script')[0];\n  firstScriptTag.parentNode.insertBefore(tag, firstScriptTag);\n});\n};\n\nif(typeof $3Dmolpromise === 'undefined') {\n$3Dmolpromise = null;\n  $3Dmolpromise = loadScriptAsync('https://cdnjs.cloudflare.com/ajax/libs/3Dmol/2.1.0/3Dmol-min.js');\n}\n\nvar viewer_17171610088647094 = null;\nvar warn = document.getElementById(\"3dmolwarning_17171610088647094\");\nif(warn) {\n    warn.parentNode.removeChild(warn);\n}\n$3Dmolpromise.then(function() {\nviewer_17171610088647094 = $3Dmol.createViewer(document.getElementById(\"3dmolviewer_17171610088647094\"),{backgroundColor:\"white\"});\nviewer_17171610088647094.zoomTo();\n\tviewer_17171610088647094.addModel(\"13\\nH7 C4 N1 O1\\nC -0.940998 -0.257014 1.417460\\nC 0.357663 0.367535 0.975692\\nC 0.514409 0.183023 -0.360594\\nC -0.678354 -0.572078 -0.889438\\nH -1.181185 -0.027015 -1.680657\\nH -0.784642 -1.122046 2.096411\\nH 2.237719 1.199046 -0.780351\\nH 1.397173 0.683538 -2.117067\\nH -1.633736 0.451430 1.909977\\nH 1.042481 0.846584 1.658199\\nH -0.377489 -1.549571 -1.282937\\nN 1.604612 0.538431 -1.149128\\nO -1.557669 -0.741852 0.202426\",\"xyz\");\n\tviewer_17171610088647094.setStyle({\"sphere\": {\"scale\": 0.35}, \"stick\": {\"radius\": 0.2}});\n\tviewer_17171610088647094.zoomTo();\nviewer_17171610088647094.render();\n});\n</script>",
      "text/html": [
       "<div id=\"3dmolviewer_17171610088647094\"  style=\"position: relative; width: 800px; height: 400px;\">\n",
       "        <p id=\"3dmolwarning_17171610088647094\" style=\"background-color:#ffcccc;color:black\">3Dmol.js failed to load for some reason.  Please check your browser console for error messages.<br></p>\n",
       "        </div>\n",
       "<script>\n",
       "\n",
       "var loadScriptAsync = function(uri){\n",
       "  return new Promise((resolve, reject) => {\n",
       "    //this is to ignore the existence of requirejs amd\n",
       "    var savedexports, savedmodule;\n",
       "    if (typeof exports !== 'undefined') savedexports = exports;\n",
       "    else exports = {}\n",
       "    if (typeof module !== 'undefined') savedmodule = module;\n",
       "    else module = {}\n",
       "\n",
       "    var tag = document.createElement('script');\n",
       "    tag.src = uri;\n",
       "    tag.async = true;\n",
       "    tag.onload = () => {\n",
       "        exports = savedexports;\n",
       "        module = savedmodule;\n",
       "        resolve();\n",
       "    };\n",
       "  var firstScriptTag = document.getElementsByTagName('script')[0];\n",
       "  firstScriptTag.parentNode.insertBefore(tag, firstScriptTag);\n",
       "});\n",
       "};\n",
       "\n",
       "if(typeof $3Dmolpromise === 'undefined') {\n",
       "$3Dmolpromise = null;\n",
       "  $3Dmolpromise = loadScriptAsync('https://cdnjs.cloudflare.com/ajax/libs/3Dmol/2.1.0/3Dmol-min.js');\n",
       "}\n",
       "\n",
       "var viewer_17171610088647094 = null;\n",
       "var warn = document.getElementById(\"3dmolwarning_17171610088647094\");\n",
       "if(warn) {\n",
       "    warn.parentNode.removeChild(warn);\n",
       "}\n",
       "$3Dmolpromise.then(function() {\n",
       "viewer_17171610088647094 = $3Dmol.createViewer(document.getElementById(\"3dmolviewer_17171610088647094\"),{backgroundColor:\"white\"});\n",
       "viewer_17171610088647094.zoomTo();\n",
       "\tviewer_17171610088647094.addModel(\"13\\nH7 C4 N1 O1\\nC -0.940998 -0.257014 1.417460\\nC 0.357663 0.367535 0.975692\\nC 0.514409 0.183023 -0.360594\\nC -0.678354 -0.572078 -0.889438\\nH -1.181185 -0.027015 -1.680657\\nH -0.784642 -1.122046 2.096411\\nH 2.237719 1.199046 -0.780351\\nH 1.397173 0.683538 -2.117067\\nH -1.633736 0.451430 1.909977\\nH 1.042481 0.846584 1.658199\\nH -0.377489 -1.549571 -1.282937\\nN 1.604612 0.538431 -1.149128\\nO -1.557669 -0.741852 0.202426\",\"xyz\");\n",
       "\tviewer_17171610088647094.setStyle({\"sphere\": {\"scale\": 0.35}, \"stick\": {\"radius\": 0.2}});\n",
       "\tviewer_17171610088647094.zoomTo();\n",
       "viewer_17171610088647094.render();\n",
       "});\n",
       "</script>"
      ]
     },
     "metadata": {},
     "output_type": "display_data"
    },
    {
     "data": {
      "application/3dmoljs_load.v0": "<div id=\"3dmolviewer_17171610088653364\"  style=\"position: relative; width: 800px; height: 400px;\">\n        <p id=\"3dmolwarning_17171610088653364\" style=\"background-color:#ffcccc;color:black\">3Dmol.js failed to load for some reason.  Please check your browser console for error messages.<br></p>\n        </div>\n<script>\n\nvar loadScriptAsync = function(uri){\n  return new Promise((resolve, reject) => {\n    //this is to ignore the existence of requirejs amd\n    var savedexports, savedmodule;\n    if (typeof exports !== 'undefined') savedexports = exports;\n    else exports = {}\n    if (typeof module !== 'undefined') savedmodule = module;\n    else module = {}\n\n    var tag = document.createElement('script');\n    tag.src = uri;\n    tag.async = true;\n    tag.onload = () => {\n        exports = savedexports;\n        module = savedmodule;\n        resolve();\n    };\n  var firstScriptTag = document.getElementsByTagName('script')[0];\n  firstScriptTag.parentNode.insertBefore(tag, firstScriptTag);\n});\n};\n\nif(typeof $3Dmolpromise === 'undefined') {\n$3Dmolpromise = null;\n  $3Dmolpromise = loadScriptAsync('https://cdnjs.cloudflare.com/ajax/libs/3Dmol/2.1.0/3Dmol-min.js');\n}\n\nvar viewer_17171610088653364 = null;\nvar warn = document.getElementById(\"3dmolwarning_17171610088653364\");\nif(warn) {\n    warn.parentNode.removeChild(warn);\n}\n$3Dmolpromise.then(function() {\nviewer_17171610088653364 = $3Dmol.createViewer(document.getElementById(\"3dmolviewer_17171610088653364\"),{backgroundColor:\"white\"});\nviewer_17171610088653364.zoomTo();\n\tviewer_17171610088653364.addModel(\"13\\nH7 C4 N1 O1\\nC -0.019827 0.065253 -0.090233\\nC 0.153252 -0.797524 1.048037\\nC 1.112346 0.705882 -0.824921\\nC -1.431201 0.337973 -0.523629\\nH -1.702291 1.384143 -0.286588\\nH 1.060675 1.791074 -0.731990\\nH 2.077835 0.361598 -0.451096\\nH -1.523606 0.215768 -1.611315\\nH 0.995623 -1.850619 2.217435\\nH -2.146878 -0.307627 -0.015182\\nH 1.039963 0.472384 -1.895978\\nN 1.303215 -1.277546 1.403690\\nO -0.919105 -1.100780 1.761758\",\"xyz\");\n\tviewer_17171610088653364.setStyle({\"sphere\": {\"scale\": 0.35}, \"stick\": {\"radius\": 0.2}});\n\tviewer_17171610088653364.zoomTo();\nviewer_17171610088653364.render();\n});\n</script>",
      "text/html": [
       "<div id=\"3dmolviewer_17171610088653364\"  style=\"position: relative; width: 800px; height: 400px;\">\n",
       "        <p id=\"3dmolwarning_17171610088653364\" style=\"background-color:#ffcccc;color:black\">3Dmol.js failed to load for some reason.  Please check your browser console for error messages.<br></p>\n",
       "        </div>\n",
       "<script>\n",
       "\n",
       "var loadScriptAsync = function(uri){\n",
       "  return new Promise((resolve, reject) => {\n",
       "    //this is to ignore the existence of requirejs amd\n",
       "    var savedexports, savedmodule;\n",
       "    if (typeof exports !== 'undefined') savedexports = exports;\n",
       "    else exports = {}\n",
       "    if (typeof module !== 'undefined') savedmodule = module;\n",
       "    else module = {}\n",
       "\n",
       "    var tag = document.createElement('script');\n",
       "    tag.src = uri;\n",
       "    tag.async = true;\n",
       "    tag.onload = () => {\n",
       "        exports = savedexports;\n",
       "        module = savedmodule;\n",
       "        resolve();\n",
       "    };\n",
       "  var firstScriptTag = document.getElementsByTagName('script')[0];\n",
       "  firstScriptTag.parentNode.insertBefore(tag, firstScriptTag);\n",
       "});\n",
       "};\n",
       "\n",
       "if(typeof $3Dmolpromise === 'undefined') {\n",
       "$3Dmolpromise = null;\n",
       "  $3Dmolpromise = loadScriptAsync('https://cdnjs.cloudflare.com/ajax/libs/3Dmol/2.1.0/3Dmol-min.js');\n",
       "}\n",
       "\n",
       "var viewer_17171610088653364 = null;\n",
       "var warn = document.getElementById(\"3dmolwarning_17171610088653364\");\n",
       "if(warn) {\n",
       "    warn.parentNode.removeChild(warn);\n",
       "}\n",
       "$3Dmolpromise.then(function() {\n",
       "viewer_17171610088653364 = $3Dmol.createViewer(document.getElementById(\"3dmolviewer_17171610088653364\"),{backgroundColor:\"white\"});\n",
       "viewer_17171610088653364.zoomTo();\n",
       "\tviewer_17171610088653364.addModel(\"13\\nH7 C4 N1 O1\\nC -0.019827 0.065253 -0.090233\\nC 0.153252 -0.797524 1.048037\\nC 1.112346 0.705882 -0.824921\\nC -1.431201 0.337973 -0.523629\\nH -1.702291 1.384143 -0.286588\\nH 1.060675 1.791074 -0.731990\\nH 2.077835 0.361598 -0.451096\\nH -1.523606 0.215768 -1.611315\\nH 0.995623 -1.850619 2.217435\\nH -2.146878 -0.307627 -0.015182\\nH 1.039963 0.472384 -1.895978\\nN 1.303215 -1.277546 1.403690\\nO -0.919105 -1.100780 1.761758\",\"xyz\");\n",
       "\tviewer_17171610088653364.setStyle({\"sphere\": {\"scale\": 0.35}, \"stick\": {\"radius\": 0.2}});\n",
       "\tviewer_17171610088653364.zoomTo();\n",
       "viewer_17171610088653364.render();\n",
       "});\n",
       "</script>"
      ]
     },
     "metadata": {},
     "output_type": "display_data"
    },
    {
     "data": {
      "application/3dmoljs_load.v0": "<div id=\"3dmolviewer_1717161008865827\"  style=\"position: relative; width: 800px; height: 400px;\">\n        <p id=\"3dmolwarning_1717161008865827\" style=\"background-color:#ffcccc;color:black\">3Dmol.js failed to load for some reason.  Please check your browser console for error messages.<br></p>\n        </div>\n<script>\n\nvar loadScriptAsync = function(uri){\n  return new Promise((resolve, reject) => {\n    //this is to ignore the existence of requirejs amd\n    var savedexports, savedmodule;\n    if (typeof exports !== 'undefined') savedexports = exports;\n    else exports = {}\n    if (typeof module !== 'undefined') savedmodule = module;\n    else module = {}\n\n    var tag = document.createElement('script');\n    tag.src = uri;\n    tag.async = true;\n    tag.onload = () => {\n        exports = savedexports;\n        module = savedmodule;\n        resolve();\n    };\n  var firstScriptTag = document.getElementsByTagName('script')[0];\n  firstScriptTag.parentNode.insertBefore(tag, firstScriptTag);\n});\n};\n\nif(typeof $3Dmolpromise === 'undefined') {\n$3Dmolpromise = null;\n  $3Dmolpromise = loadScriptAsync('https://cdnjs.cloudflare.com/ajax/libs/3Dmol/2.1.0/3Dmol-min.js');\n}\n\nvar viewer_1717161008865827 = null;\nvar warn = document.getElementById(\"3dmolwarning_1717161008865827\");\nif(warn) {\n    warn.parentNode.removeChild(warn);\n}\n$3Dmolpromise.then(function() {\nviewer_1717161008865827 = $3Dmol.createViewer(document.getElementById(\"3dmolviewer_1717161008865827\"),{backgroundColor:\"white\"});\nviewer_1717161008865827.zoomTo();\n\tviewer_1717161008865827.addModel(\"13\\nH7 C4 N1 O1\\nC 0.230909 -0.384271 -1.151542\\nC -0.536937 -0.335725 1.172669\\nC 0.580954 0.961237 -0.465768\\nC -0.559002 -1.155933 -0.104280\\nH 0.056079 1.664127 1.425326\\nH 1.137629 -0.949241 -1.419809\\nH -1.455498 -0.428118 1.739246\\nH -0.367145 -0.271001 -2.055552\\nH 0.391417 1.819277 -1.136316\\nH 1.657516 0.970813 -0.224942\\nH 0.295263 -0.721156 1.806955\\nN -0.293853 1.044335 0.704712\\nO -1.137328 -2.214365 -0.290720\",\"xyz\");\n\tviewer_1717161008865827.setStyle({\"sphere\": {\"scale\": 0.35}, \"stick\": {\"radius\": 0.2}});\n\tviewer_1717161008865827.zoomTo();\nviewer_1717161008865827.render();\n});\n</script>",
      "text/html": [
       "<div id=\"3dmolviewer_1717161008865827\"  style=\"position: relative; width: 800px; height: 400px;\">\n",
       "        <p id=\"3dmolwarning_1717161008865827\" style=\"background-color:#ffcccc;color:black\">3Dmol.js failed to load for some reason.  Please check your browser console for error messages.<br></p>\n",
       "        </div>\n",
       "<script>\n",
       "\n",
       "var loadScriptAsync = function(uri){\n",
       "  return new Promise((resolve, reject) => {\n",
       "    //this is to ignore the existence of requirejs amd\n",
       "    var savedexports, savedmodule;\n",
       "    if (typeof exports !== 'undefined') savedexports = exports;\n",
       "    else exports = {}\n",
       "    if (typeof module !== 'undefined') savedmodule = module;\n",
       "    else module = {}\n",
       "\n",
       "    var tag = document.createElement('script');\n",
       "    tag.src = uri;\n",
       "    tag.async = true;\n",
       "    tag.onload = () => {\n",
       "        exports = savedexports;\n",
       "        module = savedmodule;\n",
       "        resolve();\n",
       "    };\n",
       "  var firstScriptTag = document.getElementsByTagName('script')[0];\n",
       "  firstScriptTag.parentNode.insertBefore(tag, firstScriptTag);\n",
       "});\n",
       "};\n",
       "\n",
       "if(typeof $3Dmolpromise === 'undefined') {\n",
       "$3Dmolpromise = null;\n",
       "  $3Dmolpromise = loadScriptAsync('https://cdnjs.cloudflare.com/ajax/libs/3Dmol/2.1.0/3Dmol-min.js');\n",
       "}\n",
       "\n",
       "var viewer_1717161008865827 = null;\n",
       "var warn = document.getElementById(\"3dmolwarning_1717161008865827\");\n",
       "if(warn) {\n",
       "    warn.parentNode.removeChild(warn);\n",
       "}\n",
       "$3Dmolpromise.then(function() {\n",
       "viewer_1717161008865827 = $3Dmol.createViewer(document.getElementById(\"3dmolviewer_1717161008865827\"),{backgroundColor:\"white\"});\n",
       "viewer_1717161008865827.zoomTo();\n",
       "\tviewer_1717161008865827.addModel(\"13\\nH7 C4 N1 O1\\nC 0.230909 -0.384271 -1.151542\\nC -0.536937 -0.335725 1.172669\\nC 0.580954 0.961237 -0.465768\\nC -0.559002 -1.155933 -0.104280\\nH 0.056079 1.664127 1.425326\\nH 1.137629 -0.949241 -1.419809\\nH -1.455498 -0.428118 1.739246\\nH -0.367145 -0.271001 -2.055552\\nH 0.391417 1.819277 -1.136316\\nH 1.657516 0.970813 -0.224942\\nH 0.295263 -0.721156 1.806955\\nN -0.293853 1.044335 0.704712\\nO -1.137328 -2.214365 -0.290720\",\"xyz\");\n",
       "\tviewer_1717161008865827.setStyle({\"sphere\": {\"scale\": 0.35}, \"stick\": {\"radius\": 0.2}});\n",
       "\tviewer_1717161008865827.zoomTo();\n",
       "viewer_1717161008865827.render();\n",
       "});\n",
       "</script>"
      ]
     },
     "metadata": {},
     "output_type": "display_data"
    }
   ],
   "source": [
    "from model.visualize import draw_mol\n",
    "\n",
    "for i in range(4):\n",
    "    draw_mol(f'./demo/{time_point}/mol_{i}.xyz')"
   ]
  },
  {
   "cell_type": "markdown",
   "metadata": {},
   "source": [
    "The results show that our model can generate diverse and stable structures. All molecules satisfy Lewis' rule and conform to chemical intuition."
   ]
  }
 ],
 "metadata": {
  "kernelspec": {
   "display_name": "pl_pyg",
   "language": "python",
   "name": "python3"
  },
  "language_info": {
   "codemirror_mode": {
    "name": "ipython",
    "version": 3
   },
   "file_extension": ".py",
   "mimetype": "text/x-python",
   "name": "python",
   "nbconvert_exporter": "python",
   "pygments_lexer": "ipython3",
   "version": "3.11.9"
  }
 },
 "nbformat": 4,
 "nbformat_minor": 2
}
